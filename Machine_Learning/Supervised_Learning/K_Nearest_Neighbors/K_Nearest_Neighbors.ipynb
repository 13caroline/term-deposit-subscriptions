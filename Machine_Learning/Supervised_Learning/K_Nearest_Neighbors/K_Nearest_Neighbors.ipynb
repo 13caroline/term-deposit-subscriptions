{
 "cells": [
  {
   "cell_type": "markdown",
   "metadata": {},
   "source": [
    "# K_Nearest_Neighbors"
   ]
  },
  {
   "cell_type": "markdown",
   "metadata": {},
   "source": [
    "### Imports"
   ]
  },
  {
   "cell_type": "code",
   "execution_count": 1,
   "metadata": {},
   "outputs": [],
   "source": [
    "import pandas as pd\n",
    "import matplotlib.pyplot as plt\n",
    "import seaborn as sns\n",
    "import numpy as np\n",
    "\n",
    "from sklearn.model_selection import cross_val_score\n",
    "from sklearn.metrics import classification_report, confusion_matrix\n",
    "from sklearn.neighbors import KNeighborsClassifier\n",
    "from sklearn.metrics import accuracy_score\n",
    "from tqdm import tqdm\n",
    "from sklearn.model_selection import GridSearchCV\n",
    "from sklearn.feature_selection import SelectPercentile, f_classif"
   ]
  },
  {
   "cell_type": "markdown",
   "metadata": {},
   "source": [
    "### Model 1\n",
    "#### Read CSV"
   ]
  },
  {
   "cell_type": "code",
   "execution_count": 2,
   "metadata": {},
   "outputs": [
    {
     "data": {
      "text/html": [
       "<div>\n",
       "<style scoped>\n",
       "    .dataframe tbody tr th:only-of-type {\n",
       "        vertical-align: middle;\n",
       "    }\n",
       "\n",
       "    .dataframe tbody tr th {\n",
       "        vertical-align: top;\n",
       "    }\n",
       "\n",
       "    .dataframe thead th {\n",
       "        text-align: right;\n",
       "    }\n",
       "</style>\n",
       "<table border=\"1\" class=\"dataframe\">\n",
       "  <thead>\n",
       "    <tr style=\"text-align: right;\">\n",
       "      <th></th>\n",
       "      <th>age</th>\n",
       "      <th>job</th>\n",
       "      <th>marital</th>\n",
       "      <th>education</th>\n",
       "      <th>default</th>\n",
       "      <th>housing</th>\n",
       "      <th>loan</th>\n",
       "      <th>contact</th>\n",
       "      <th>month</th>\n",
       "      <th>day_of_week</th>\n",
       "      <th>...</th>\n",
       "      <th>campaign</th>\n",
       "      <th>pdays</th>\n",
       "      <th>previous</th>\n",
       "      <th>poutcome</th>\n",
       "      <th>emp.var.rate</th>\n",
       "      <th>cons.price.idx</th>\n",
       "      <th>cons.conf.idx</th>\n",
       "      <th>euribor3m</th>\n",
       "      <th>nr.employed</th>\n",
       "      <th>y</th>\n",
       "    </tr>\n",
       "  </thead>\n",
       "  <tbody>\n",
       "    <tr>\n",
       "      <th>0</th>\n",
       "      <td>0.37521</td>\n",
       "      <td>-0.756929</td>\n",
       "      <td>-1.925779</td>\n",
       "      <td>0.580938</td>\n",
       "      <td>-0.515445</td>\n",
       "      <td>0.939376</td>\n",
       "      <td>-0.453565</td>\n",
       "      <td>-0.763196</td>\n",
       "      <td>1.192581</td>\n",
       "      <td>0.001762</td>\n",
       "      <td>...</td>\n",
       "      <td>-0.561357</td>\n",
       "      <td>0.196894</td>\n",
       "      <td>-0.348973</td>\n",
       "      <td>0.188003</td>\n",
       "      <td>-0.118566</td>\n",
       "      <td>-0.651221</td>\n",
       "      <td>-0.324357</td>\n",
       "      <td>0.259352</td>\n",
       "      <td>0.395979</td>\n",
       "      <td>0</td>\n",
       "    </tr>\n",
       "    <tr>\n",
       "      <th>1</th>\n",
       "      <td>0.37521</td>\n",
       "      <td>1.471189</td>\n",
       "      <td>-0.283258</td>\n",
       "      <td>-0.824024</td>\n",
       "      <td>-0.515445</td>\n",
       "      <td>0.939376</td>\n",
       "      <td>-0.453565</td>\n",
       "      <td>1.310279</td>\n",
       "      <td>-0.098471</td>\n",
       "      <td>-0.713715</td>\n",
       "      <td>...</td>\n",
       "      <td>0.148956</td>\n",
       "      <td>0.196894</td>\n",
       "      <td>-0.348973</td>\n",
       "      <td>0.188003</td>\n",
       "      <td>0.837519</td>\n",
       "      <td>1.529013</td>\n",
       "      <td>-0.281151</td>\n",
       "      <td>0.769787</td>\n",
       "      <td>0.843536</td>\n",
       "      <td>0</td>\n",
       "    </tr>\n",
       "    <tr>\n",
       "      <th>2</th>\n",
       "      <td>0.37521</td>\n",
       "      <td>0.078615</td>\n",
       "      <td>-0.283258</td>\n",
       "      <td>1.049258</td>\n",
       "      <td>-0.515445</td>\n",
       "      <td>0.939376</td>\n",
       "      <td>-0.453565</td>\n",
       "      <td>-0.763196</td>\n",
       "      <td>-1.389523</td>\n",
       "      <td>1.432715</td>\n",
       "      <td>...</td>\n",
       "      <td>-0.561357</td>\n",
       "      <td>0.196894</td>\n",
       "      <td>-0.348973</td>\n",
       "      <td>0.188003</td>\n",
       "      <td>0.837519</td>\n",
       "      <td>-0.230686</td>\n",
       "      <td>0.950220</td>\n",
       "      <td>0.773829</td>\n",
       "      <td>0.843536</td>\n",
       "      <td>0</td>\n",
       "    </tr>\n",
       "    <tr>\n",
       "      <th>3</th>\n",
       "      <td>0.37521</td>\n",
       "      <td>-0.756929</td>\n",
       "      <td>-0.283258</td>\n",
       "      <td>-0.824024</td>\n",
       "      <td>-0.515445</td>\n",
       "      <td>-1.090085</td>\n",
       "      <td>-0.453565</td>\n",
       "      <td>1.310279</td>\n",
       "      <td>1.192581</td>\n",
       "      <td>1.432715</td>\n",
       "      <td>...</td>\n",
       "      <td>-0.206200</td>\n",
       "      <td>0.196894</td>\n",
       "      <td>-0.348973</td>\n",
       "      <td>0.188003</td>\n",
       "      <td>-0.118566</td>\n",
       "      <td>-0.651221</td>\n",
       "      <td>-0.324357</td>\n",
       "      <td>0.284758</td>\n",
       "      <td>0.395979</td>\n",
       "      <td>0</td>\n",
       "    </tr>\n",
       "    <tr>\n",
       "      <th>4</th>\n",
       "      <td>0.37521</td>\n",
       "      <td>-1.035444</td>\n",
       "      <td>-1.925779</td>\n",
       "      <td>1.049258</td>\n",
       "      <td>1.938451</td>\n",
       "      <td>0.939376</td>\n",
       "      <td>-0.453565</td>\n",
       "      <td>1.310279</td>\n",
       "      <td>0.762230</td>\n",
       "      <td>-0.713715</td>\n",
       "      <td>...</td>\n",
       "      <td>0.859269</td>\n",
       "      <td>0.196894</td>\n",
       "      <td>-0.348973</td>\n",
       "      <td>0.188003</td>\n",
       "      <td>0.646302</td>\n",
       "      <td>0.717242</td>\n",
       "      <td>0.885411</td>\n",
       "      <td>0.710313</td>\n",
       "      <td>0.329470</td>\n",
       "      <td>0</td>\n",
       "    </tr>\n",
       "  </tbody>\n",
       "</table>\n",
       "<p>5 rows × 21 columns</p>\n",
       "</div>"
      ],
      "text/plain": [
       "       age       job   marital  education   default   housing      loan  \\\n",
       "0  0.37521 -0.756929 -1.925779   0.580938 -0.515445  0.939376 -0.453565   \n",
       "1  0.37521  1.471189 -0.283258  -0.824024 -0.515445  0.939376 -0.453565   \n",
       "2  0.37521  0.078615 -0.283258   1.049258 -0.515445  0.939376 -0.453565   \n",
       "3  0.37521 -0.756929 -0.283258  -0.824024 -0.515445 -1.090085 -0.453565   \n",
       "4  0.37521 -1.035444 -1.925779   1.049258  1.938451  0.939376 -0.453565   \n",
       "\n",
       "    contact     month  day_of_week  ...  campaign     pdays  previous  \\\n",
       "0 -0.763196  1.192581     0.001762  ... -0.561357  0.196894 -0.348973   \n",
       "1  1.310279 -0.098471    -0.713715  ...  0.148956  0.196894 -0.348973   \n",
       "2 -0.763196 -1.389523     1.432715  ... -0.561357  0.196894 -0.348973   \n",
       "3  1.310279  1.192581     1.432715  ... -0.206200  0.196894 -0.348973   \n",
       "4  1.310279  0.762230    -0.713715  ...  0.859269  0.196894 -0.348973   \n",
       "\n",
       "   poutcome  emp.var.rate  cons.price.idx  cons.conf.idx  euribor3m  \\\n",
       "0  0.188003     -0.118566       -0.651221      -0.324357   0.259352   \n",
       "1  0.188003      0.837519        1.529013      -0.281151   0.769787   \n",
       "2  0.188003      0.837519       -0.230686       0.950220   0.773829   \n",
       "3  0.188003     -0.118566       -0.651221      -0.324357   0.284758   \n",
       "4  0.188003      0.646302        0.717242       0.885411   0.710313   \n",
       "\n",
       "   nr.employed  y  \n",
       "0     0.395979  0  \n",
       "1     0.843536  0  \n",
       "2     0.843536  0  \n",
       "3     0.395979  0  \n",
       "4     0.329470  0  \n",
       "\n",
       "[5 rows x 21 columns]"
      ]
     },
     "execution_count": 2,
     "metadata": {},
     "output_type": "execute_result"
    }
   ],
   "source": [
    "train_m1 = pd.read_csv('../../../../Data_AA2/train_m1.csv', sep = ',')\n",
    "train_m1.head()"
   ]
  },
  {
   "cell_type": "code",
   "execution_count": 3,
   "metadata": {},
   "outputs": [
    {
     "data": {
      "text/html": [
       "<div>\n",
       "<style scoped>\n",
       "    .dataframe tbody tr th:only-of-type {\n",
       "        vertical-align: middle;\n",
       "    }\n",
       "\n",
       "    .dataframe tbody tr th {\n",
       "        vertical-align: top;\n",
       "    }\n",
       "\n",
       "    .dataframe thead th {\n",
       "        text-align: right;\n",
       "    }\n",
       "</style>\n",
       "<table border=\"1\" class=\"dataframe\">\n",
       "  <thead>\n",
       "    <tr style=\"text-align: right;\">\n",
       "      <th></th>\n",
       "      <th>age</th>\n",
       "      <th>job</th>\n",
       "      <th>marital</th>\n",
       "      <th>education</th>\n",
       "      <th>default</th>\n",
       "      <th>housing</th>\n",
       "      <th>loan</th>\n",
       "      <th>contact</th>\n",
       "      <th>month</th>\n",
       "      <th>day_of_week</th>\n",
       "      <th>...</th>\n",
       "      <th>campaign</th>\n",
       "      <th>pdays</th>\n",
       "      <th>previous</th>\n",
       "      <th>poutcome</th>\n",
       "      <th>emp.var.rate</th>\n",
       "      <th>cons.price.idx</th>\n",
       "      <th>cons.conf.idx</th>\n",
       "      <th>euribor3m</th>\n",
       "      <th>nr.employed</th>\n",
       "      <th>y</th>\n",
       "    </tr>\n",
       "  </thead>\n",
       "  <tbody>\n",
       "    <tr>\n",
       "      <th>0</th>\n",
       "      <td>0.37521</td>\n",
       "      <td>1.471189</td>\n",
       "      <td>-0.283258</td>\n",
       "      <td>0.580938</td>\n",
       "      <td>-0.515445</td>\n",
       "      <td>0.939376</td>\n",
       "      <td>-0.453565</td>\n",
       "      <td>1.310279</td>\n",
       "      <td>0.762230</td>\n",
       "      <td>0.717238</td>\n",
       "      <td>...</td>\n",
       "      <td>-0.561357</td>\n",
       "      <td>0.196894</td>\n",
       "      <td>-0.348973</td>\n",
       "      <td>0.188003</td>\n",
       "      <td>0.646302</td>\n",
       "      <td>0.717242</td>\n",
       "      <td>0.885411</td>\n",
       "      <td>0.710313</td>\n",
       "      <td>0.329470</td>\n",
       "      <td>0</td>\n",
       "    </tr>\n",
       "    <tr>\n",
       "      <th>1</th>\n",
       "      <td>0.37521</td>\n",
       "      <td>0.914159</td>\n",
       "      <td>-1.925779</td>\n",
       "      <td>-0.355703</td>\n",
       "      <td>-0.515445</td>\n",
       "      <td>-1.090085</td>\n",
       "      <td>-0.453565</td>\n",
       "      <td>1.310279</td>\n",
       "      <td>0.762230</td>\n",
       "      <td>1.432715</td>\n",
       "      <td>...</td>\n",
       "      <td>-0.561357</td>\n",
       "      <td>0.196894</td>\n",
       "      <td>-0.348973</td>\n",
       "      <td>0.188003</td>\n",
       "      <td>0.646302</td>\n",
       "      <td>0.717242</td>\n",
       "      <td>0.885411</td>\n",
       "      <td>0.709736</td>\n",
       "      <td>0.329470</td>\n",
       "      <td>0</td>\n",
       "    </tr>\n",
       "    <tr>\n",
       "      <th>2</th>\n",
       "      <td>0.37521</td>\n",
       "      <td>1.471189</td>\n",
       "      <td>-0.283258</td>\n",
       "      <td>0.580938</td>\n",
       "      <td>1.938451</td>\n",
       "      <td>0.939376</td>\n",
       "      <td>-0.453565</td>\n",
       "      <td>1.310279</td>\n",
       "      <td>0.762230</td>\n",
       "      <td>-1.429191</td>\n",
       "      <td>...</td>\n",
       "      <td>-0.561357</td>\n",
       "      <td>0.196894</td>\n",
       "      <td>-0.348973</td>\n",
       "      <td>0.188003</td>\n",
       "      <td>0.646302</td>\n",
       "      <td>0.717242</td>\n",
       "      <td>0.885411</td>\n",
       "      <td>0.711468</td>\n",
       "      <td>0.329470</td>\n",
       "      <td>0</td>\n",
       "    </tr>\n",
       "    <tr>\n",
       "      <th>3</th>\n",
       "      <td>0.37521</td>\n",
       "      <td>-0.756929</td>\n",
       "      <td>1.359263</td>\n",
       "      <td>-1.760665</td>\n",
       "      <td>-0.515445</td>\n",
       "      <td>-1.090085</td>\n",
       "      <td>-0.453565</td>\n",
       "      <td>-0.763196</td>\n",
       "      <td>0.762230</td>\n",
       "      <td>1.432715</td>\n",
       "      <td>...</td>\n",
       "      <td>-0.561357</td>\n",
       "      <td>0.196894</td>\n",
       "      <td>1.662067</td>\n",
       "      <td>-2.562036</td>\n",
       "      <td>-1.202130</td>\n",
       "      <td>-1.180338</td>\n",
       "      <td>-1.231682</td>\n",
       "      <td>-1.354522</td>\n",
       "      <td>-0.943918</td>\n",
       "      <td>0</td>\n",
       "    </tr>\n",
       "    <tr>\n",
       "      <th>4</th>\n",
       "      <td>0.37521</td>\n",
       "      <td>-1.035444</td>\n",
       "      <td>-0.283258</td>\n",
       "      <td>1.049258</td>\n",
       "      <td>1.938451</td>\n",
       "      <td>0.939376</td>\n",
       "      <td>-0.453565</td>\n",
       "      <td>-0.763196</td>\n",
       "      <td>-1.389523</td>\n",
       "      <td>0.717238</td>\n",
       "      <td>...</td>\n",
       "      <td>0.148956</td>\n",
       "      <td>0.196894</td>\n",
       "      <td>-0.348973</td>\n",
       "      <td>0.188003</td>\n",
       "      <td>0.837519</td>\n",
       "      <td>-0.230686</td>\n",
       "      <td>0.950220</td>\n",
       "      <td>0.771519</td>\n",
       "      <td>0.843536</td>\n",
       "      <td>0</td>\n",
       "    </tr>\n",
       "  </tbody>\n",
       "</table>\n",
       "<p>5 rows × 21 columns</p>\n",
       "</div>"
      ],
      "text/plain": [
       "       age       job   marital  education   default   housing      loan  \\\n",
       "0  0.37521  1.471189 -0.283258   0.580938 -0.515445  0.939376 -0.453565   \n",
       "1  0.37521  0.914159 -1.925779  -0.355703 -0.515445 -1.090085 -0.453565   \n",
       "2  0.37521  1.471189 -0.283258   0.580938  1.938451  0.939376 -0.453565   \n",
       "3  0.37521 -0.756929  1.359263  -1.760665 -0.515445 -1.090085 -0.453565   \n",
       "4  0.37521 -1.035444 -0.283258   1.049258  1.938451  0.939376 -0.453565   \n",
       "\n",
       "    contact     month  day_of_week  ...  campaign     pdays  previous  \\\n",
       "0  1.310279  0.762230     0.717238  ... -0.561357  0.196894 -0.348973   \n",
       "1  1.310279  0.762230     1.432715  ... -0.561357  0.196894 -0.348973   \n",
       "2  1.310279  0.762230    -1.429191  ... -0.561357  0.196894 -0.348973   \n",
       "3 -0.763196  0.762230     1.432715  ... -0.561357  0.196894  1.662067   \n",
       "4 -0.763196 -1.389523     0.717238  ...  0.148956  0.196894 -0.348973   \n",
       "\n",
       "   poutcome  emp.var.rate  cons.price.idx  cons.conf.idx  euribor3m  \\\n",
       "0  0.188003      0.646302        0.717242       0.885411   0.710313   \n",
       "1  0.188003      0.646302        0.717242       0.885411   0.709736   \n",
       "2  0.188003      0.646302        0.717242       0.885411   0.711468   \n",
       "3 -2.562036     -1.202130       -1.180338      -1.231682  -1.354522   \n",
       "4  0.188003      0.837519       -0.230686       0.950220   0.771519   \n",
       "\n",
       "   nr.employed  y  \n",
       "0     0.329470  0  \n",
       "1     0.329470  0  \n",
       "2     0.329470  0  \n",
       "3    -0.943918  0  \n",
       "4     0.843536  0  \n",
       "\n",
       "[5 rows x 21 columns]"
      ]
     },
     "execution_count": 3,
     "metadata": {},
     "output_type": "execute_result"
    }
   ],
   "source": [
    "test_m1 = pd.read_csv('../../../../Data_AA2/test_m1.csv', sep = ',')\n",
    "test_m1.head()"
   ]
  },
  {
   "cell_type": "code",
   "execution_count": 4,
   "metadata": {},
   "outputs": [],
   "source": [
    "#get target\n",
    "train_m1_target = train_m1['y']\n",
    "train_m1 = train_m1.drop(columns=['y'])"
   ]
  },
  {
   "cell_type": "code",
   "execution_count": 5,
   "metadata": {},
   "outputs": [],
   "source": [
    "#get target\n",
    "test_m1_target = test_m1['y']\n",
    "test_m1 = test_m1.drop(columns=['y'])"
   ]
  },
  {
   "cell_type": "markdown",
   "metadata": {},
   "source": [
    "### Check for lower errors"
   ]
  },
  {
   "cell_type": "code",
   "execution_count": 6,
   "metadata": {},
   "outputs": [
    {
     "name": "stderr",
     "output_type": "stream",
     "text": [
      "100%|██████████████████████████████████████████████████████████████████████████████████| 99/99 [10:28<00:00,  6.35s/it]\n"
     ]
    }
   ],
   "source": [
    "error_rate = []\n",
    "\n",
    "for i in tqdm(range(1,100)):\n",
    "    knn = KNeighborsClassifier(n_neighbors=i)\n",
    "    knn.fit(train_m1,train_m1_target)\n",
    "    predictions = knn.predict(test_m1)\n",
    "    error_rate.append(np.mean(predictions != test_m1_target))"
   ]
  },
  {
   "cell_type": "code",
   "execution_count": 7,
   "metadata": {},
   "outputs": [
    {
     "data": {
      "text/plain": [
       "Text(0, 0.5, 'Error Rate')"
      ]
     },
     "execution_count": 7,
     "metadata": {},
     "output_type": "execute_result"
    },
    {
     "data": {
      "image/png": "[encoded data removed]",
      "text/plain": [
       "<Figure size 1800x432 with 1 Axes>"
      ]
     },
     "metadata": {
      "needs_background": "light"
     },
     "output_type": "display_data"
    }
   ],
   "source": [
    "plt.figure(figsize=(25,6))\n",
    "plt.plot(range(1,100),error_rate,color='blue',linestyle='dashed',marker='o',markerfacecolor='red',markersize=10)\n",
    "plt.title('Error Rate vs DepthValue')\n",
    "plt.xlabel(\"depth\")\n",
    "plt.ylabel(\"Error Rate\")"
   ]
  },
  {
   "cell_type": "markdown",
   "metadata": {},
   "source": [
    "#### Hyperparameter tuning using GridSearchCV"
   ]
  },
  {
   "cell_type": "code",
   "execution_count": 8,
   "metadata": {},
   "outputs": [
    {
     "name": "stdout",
     "output_type": "stream",
     "text": [
      "Fitting 5 folds for each of 8 candidates, totalling 40 fits\n",
      "[CV 1/5; 1/8] START metric=euclidean, n_neighbors=25, weights=uniform...........\n",
      "[CV 1/5; 1/8] END metric=euclidean, n_neighbors=25, weights=uniform; total time=   2.3s\n",
      "[CV 2/5; 1/8] START metric=euclidean, n_neighbors=25, weights=uniform...........\n",
      "[CV 2/5; 1/8] END metric=euclidean, n_neighbors=25, weights=uniform; total time=   2.2s\n",
      "[CV 3/5; 1/8] START metric=euclidean, n_neighbors=25, weights=uniform...........\n",
      "[CV 3/5; 1/8] END metric=euclidean, n_neighbors=25, weights=uniform; total time=   2.3s\n",
      "[CV 4/5; 1/8] START metric=euclidean, n_neighbors=25, weights=uniform...........\n",
      "[CV 4/5; 1/8] END metric=euclidean, n_neighbors=25, weights=uniform; total time=   2.4s\n",
      "[CV 5/5; 1/8] START metric=euclidean, n_neighbors=25, weights=uniform...........\n",
      "[CV 5/5; 1/8] END metric=euclidean, n_neighbors=25, weights=uniform; total time=   2.3s\n",
      "[CV 1/5; 2/8] START metric=euclidean, n_neighbors=25, weights=distance..........\n",
      "[CV 1/5; 2/8] END metric=euclidean, n_neighbors=25, weights=distance; total time=   2.1s\n",
      "[CV 2/5; 2/8] START metric=euclidean, n_neighbors=25, weights=distance..........\n",
      "[CV 2/5; 2/8] END metric=euclidean, n_neighbors=25, weights=distance; total time=   2.0s\n",
      "[CV 3/5; 2/8] START metric=euclidean, n_neighbors=25, weights=distance..........\n",
      "[CV 3/5; 2/8] END metric=euclidean, n_neighbors=25, weights=distance; total time=   2.2s\n",
      "[CV 4/5; 2/8] START metric=euclidean, n_neighbors=25, weights=distance..........\n",
      "[CV 4/5; 2/8] END metric=euclidean, n_neighbors=25, weights=distance; total time=   2.3s\n",
      "[CV 5/5; 2/8] START metric=euclidean, n_neighbors=25, weights=distance..........\n",
      "[CV 5/5; 2/8] END metric=euclidean, n_neighbors=25, weights=distance; total time=   2.5s\n",
      "[CV 1/5; 3/8] START metric=euclidean, n_neighbors=29, weights=uniform...........\n",
      "[CV 1/5; 3/8] END metric=euclidean, n_neighbors=29, weights=uniform; total time=   2.6s\n",
      "[CV 2/5; 3/8] START metric=euclidean, n_neighbors=29, weights=uniform...........\n",
      "[CV 2/5; 3/8] END metric=euclidean, n_neighbors=29, weights=uniform; total time=   2.3s\n",
      "[CV 3/5; 3/8] START metric=euclidean, n_neighbors=29, weights=uniform...........\n",
      "[CV 3/5; 3/8] END metric=euclidean, n_neighbors=29, weights=uniform; total time=   2.6s\n",
      "[CV 4/5; 3/8] START metric=euclidean, n_neighbors=29, weights=uniform...........\n",
      "[CV 4/5; 3/8] END metric=euclidean, n_neighbors=29, weights=uniform; total time=   2.5s\n",
      "[CV 5/5; 3/8] START metric=euclidean, n_neighbors=29, weights=uniform...........\n",
      "[CV 5/5; 3/8] END metric=euclidean, n_neighbors=29, weights=uniform; total time=   2.6s\n",
      "[CV 1/5; 4/8] START metric=euclidean, n_neighbors=29, weights=distance..........\n",
      "[CV 1/5; 4/8] END metric=euclidean, n_neighbors=29, weights=distance; total time=   2.4s\n",
      "[CV 2/5; 4/8] START metric=euclidean, n_neighbors=29, weights=distance..........\n",
      "[CV 2/5; 4/8] END metric=euclidean, n_neighbors=29, weights=distance; total time=   2.0s\n",
      "[CV 3/5; 4/8] START metric=euclidean, n_neighbors=29, weights=distance..........\n",
      "[CV 3/5; 4/8] END metric=euclidean, n_neighbors=29, weights=distance; total time=   2.4s\n",
      "[CV 4/5; 4/8] START metric=euclidean, n_neighbors=29, weights=distance..........\n",
      "[CV 4/5; 4/8] END metric=euclidean, n_neighbors=29, weights=distance; total time=   2.5s\n",
      "[CV 5/5; 4/8] START metric=euclidean, n_neighbors=29, weights=distance..........\n",
      "[CV 5/5; 4/8] END metric=euclidean, n_neighbors=29, weights=distance; total time=   2.3s\n",
      "[CV 1/5; 5/8] START metric=manhattan, n_neighbors=25, weights=uniform...........\n",
      "[CV 1/5; 5/8] END metric=manhattan, n_neighbors=25, weights=uniform; total time=   2.9s\n",
      "[CV 2/5; 5/8] START metric=manhattan, n_neighbors=25, weights=uniform...........\n",
      "[CV 2/5; 5/8] END metric=manhattan, n_neighbors=25, weights=uniform; total time=   2.8s\n",
      "[CV 3/5; 5/8] START metric=manhattan, n_neighbors=25, weights=uniform...........\n",
      "[CV 3/5; 5/8] END metric=manhattan, n_neighbors=25, weights=uniform; total time=   3.1s\n",
      "[CV 4/5; 5/8] START metric=manhattan, n_neighbors=25, weights=uniform...........\n",
      "[CV 4/5; 5/8] END metric=manhattan, n_neighbors=25, weights=uniform; total time=   3.0s\n",
      "[CV 5/5; 5/8] START metric=manhattan, n_neighbors=25, weights=uniform...........\n",
      "[CV 5/5; 5/8] END metric=manhattan, n_neighbors=25, weights=uniform; total time=   3.1s\n",
      "[CV 1/5; 6/8] START metric=manhattan, n_neighbors=25, weights=distance..........\n",
      "[CV 1/5; 6/8] END metric=manhattan, n_neighbors=25, weights=distance; total time=   2.6s\n",
      "[CV 2/5; 6/8] START metric=manhattan, n_neighbors=25, weights=distance..........\n",
      "[CV 2/5; 6/8] END metric=manhattan, n_neighbors=25, weights=distance; total time=   2.5s\n",
      "[CV 3/5; 6/8] START metric=manhattan, n_neighbors=25, weights=distance..........\n",
      "[CV 3/5; 6/8] END metric=manhattan, n_neighbors=25, weights=distance; total time=   3.1s\n",
      "[CV 4/5; 6/8] START metric=manhattan, n_neighbors=25, weights=distance..........\n",
      "[CV 4/5; 6/8] END metric=manhattan, n_neighbors=25, weights=distance; total time=   3.1s\n",
      "[CV 5/5; 6/8] START metric=manhattan, n_neighbors=25, weights=distance..........\n",
      "[CV 5/5; 6/8] END metric=manhattan, n_neighbors=25, weights=distance; total time=   3.1s\n",
      "[CV 1/5; 7/8] START metric=manhattan, n_neighbors=29, weights=uniform...........\n",
      "[CV 1/5; 7/8] END metric=manhattan, n_neighbors=29, weights=uniform; total time=   3.4s\n",
      "[CV 2/5; 7/8] START metric=manhattan, n_neighbors=29, weights=uniform...........\n",
      "[CV 2/5; 7/8] END metric=manhattan, n_neighbors=29, weights=uniform; total time=   3.3s\n",
      "[CV 3/5; 7/8] START metric=manhattan, n_neighbors=29, weights=uniform...........\n",
      "[CV 3/5; 7/8] END metric=manhattan, n_neighbors=29, weights=uniform; total time=   3.5s\n",
      "[CV 4/5; 7/8] START metric=manhattan, n_neighbors=29, weights=uniform...........\n",
      "[CV 4/5; 7/8] END metric=manhattan, n_neighbors=29, weights=uniform; total time=   3.1s\n",
      "[CV 5/5; 7/8] START metric=manhattan, n_neighbors=29, weights=uniform...........\n",
      "[CV 5/5; 7/8] END metric=manhattan, n_neighbors=29, weights=uniform; total time=   3.1s\n",
      "[CV 1/5; 8/8] START metric=manhattan, n_neighbors=29, weights=distance..........\n",
      "[CV 1/5; 8/8] END metric=manhattan, n_neighbors=29, weights=distance; total time=   2.9s\n",
      "[CV 2/5; 8/8] START metric=manhattan, n_neighbors=29, weights=distance..........\n",
      "[CV 2/5; 8/8] END metric=manhattan, n_neighbors=29, weights=distance; total time=   2.5s\n",
      "[CV 3/5; 8/8] START metric=manhattan, n_neighbors=29, weights=distance..........\n",
      "[CV 3/5; 8/8] END metric=manhattan, n_neighbors=29, weights=distance; total time=   2.6s\n",
      "[CV 4/5; 8/8] START metric=manhattan, n_neighbors=29, weights=distance..........\n",
      "[CV 4/5; 8/8] END metric=manhattan, n_neighbors=29, weights=distance; total time=   2.6s\n",
      "[CV 5/5; 8/8] START metric=manhattan, n_neighbors=29, weights=distance..........\n",
      "[CV 5/5; 8/8] END metric=manhattan, n_neighbors=29, weights=distance; total time=   2.6s\n",
      "KNeighborsClassifier(metric='euclidean', n_neighbors=25)\n"
     ]
    }
   ],
   "source": [
    "# Create the parameter grid based on the results of random search \n",
    "parameters = {\n",
    "    'n_neighbors': [25,29],\n",
    "    'weights': ['uniform', 'distance'],\n",
    "    'metric': ['euclidean', 'manhattan'],\n",
    "}\n",
    "\n",
    "# Create the model\n",
    "knn_model = KNeighborsClassifier()\n",
    "\n",
    "# Best model\n",
    "opt_model_knn = GridSearchCV(knn_model, parameters,  scoring='accuracy', verbose=10)\n",
    "\n",
    "# Fit the model\n",
    "opt_model_knn.fit(train_m1, train_m1_target)\n",
    "\n",
    "print (opt_model_knn.best_estimator_)"
   ]
  },
  {
   "cell_type": "markdown",
   "metadata": {},
   "source": [
    "#### Create and fit the model"
   ]
  },
  {
   "cell_type": "code",
   "execution_count": 9,
   "metadata": {},
   "outputs": [
    {
     "data": {
      "text/plain": [
       "KNeighborsClassifier(metric='euclidean', n_neighbors=25)"
      ]
     },
     "execution_count": 9,
     "metadata": {},
     "output_type": "execute_result"
    }
   ],
   "source": [
    "# Create model with best parameters\n",
    "knn_best_model = KNeighborsClassifier(metric='euclidean', n_neighbors=25)\n",
    "\n",
    "# Fit the best model\n",
    "knn_best_model.fit(train_m1, train_m1_target)\n",
    "knn_best_model"
   ]
  },
  {
   "cell_type": "code",
   "execution_count": 10,
   "metadata": {},
   "outputs": [
    {
     "name": "stdout",
     "output_type": "stream",
     "text": [
      "Predicted      0    1    All\n",
      "Actual                      \n",
      "0          10786  182  10968\n",
      "1            992  397   1389\n",
      "All        11778  579  12357\n"
     ]
    }
   ],
   "source": [
    "predictions = knn_best_model.predict(test_m1)\n",
    "\n",
    "# Confusion matrix\n",
    "confusion = pd.crosstab(test_m1_target,predictions, rownames=['Actual'], colnames=['Predicted'], margins=True)\n",
    "print(confusion )"
   ]
  },
  {
   "cell_type": "code",
   "execution_count": 11,
   "metadata": {},
   "outputs": [
    {
     "name": "stdout",
     "output_type": "stream",
     "text": [
      "Accuracy:0.904993\n"
     ]
    }
   ],
   "source": [
    "# Accuracy\n",
    "score = accuracy_score(test_m1_target,predictions)\n",
    "print('Accuracy:{0:f}'.format(score))"
   ]
  },
  {
   "cell_type": "code",
   "execution_count": 12,
   "metadata": {},
   "outputs": [
    {
     "name": "stdout",
     "output_type": "stream",
     "text": [
      "              precision    recall  f1-score   support\n",
      "\n",
      "           0       0.92      0.98      0.95     10968\n",
      "           1       0.69      0.29      0.40      1389\n",
      "\n",
      "    accuracy                           0.90     12357\n",
      "   macro avg       0.80      0.63      0.68     12357\n",
      "weighted avg       0.89      0.90      0.89     12357\n",
      "\n"
     ]
    }
   ],
   "source": [
    "# Report\n",
    "print(classification_report(test_m1_target,predictions))"
   ]
  },
  {
   "cell_type": "code",
   "execution_count": 13,
   "metadata": {},
   "outputs": [
    {
     "data": {
      "text/plain": [
       "0.9024660565595596"
      ]
     },
     "execution_count": 13,
     "metadata": {},
     "output_type": "execute_result"
    }
   ],
   "source": [
    "# Validate model using best model and cross validation\n",
    "pecc_knn = cross_val_score(knn_best_model, train_m1, train_m1_target, cv = 5).mean()\n",
    "pecc_knn"
   ]
  },
  {
   "cell_type": "markdown",
   "metadata": {},
   "source": [
    "### Model 2\n",
    "#### Read CSV"
   ]
  },
  {
   "cell_type": "code",
   "execution_count": 14,
   "metadata": {},
   "outputs": [
    {
     "data": {
      "text/html": [
       "<div>\n",
       "<style scoped>\n",
       "    .dataframe tbody tr th:only-of-type {\n",
       "        vertical-align: middle;\n",
       "    }\n",
       "\n",
       "    .dataframe tbody tr th {\n",
       "        vertical-align: top;\n",
       "    }\n",
       "\n",
       "    .dataframe thead th {\n",
       "        text-align: right;\n",
       "    }\n",
       "</style>\n",
       "<table border=\"1\" class=\"dataframe\">\n",
       "  <thead>\n",
       "    <tr style=\"text-align: right;\">\n",
       "      <th></th>\n",
       "      <th>age</th>\n",
       "      <th>job</th>\n",
       "      <th>marital</th>\n",
       "      <th>education</th>\n",
       "      <th>default</th>\n",
       "      <th>housing</th>\n",
       "      <th>loan</th>\n",
       "      <th>contact</th>\n",
       "      <th>month</th>\n",
       "      <th>day_of_week</th>\n",
       "      <th>...</th>\n",
       "      <th>campaign</th>\n",
       "      <th>pdays</th>\n",
       "      <th>previous</th>\n",
       "      <th>poutcome</th>\n",
       "      <th>emp.var.rate</th>\n",
       "      <th>cons.price.idx</th>\n",
       "      <th>cons.conf.idx</th>\n",
       "      <th>euribor3m</th>\n",
       "      <th>nr.employed</th>\n",
       "      <th>y</th>\n",
       "    </tr>\n",
       "  </thead>\n",
       "  <tbody>\n",
       "    <tr>\n",
       "      <th>0</th>\n",
       "      <td>-1.836283</td>\n",
       "      <td>-1.028419</td>\n",
       "      <td>-1.910223</td>\n",
       "      <td>-0.420230</td>\n",
       "      <td>-0.009681</td>\n",
       "      <td>0.917326</td>\n",
       "      <td>-0.43243</td>\n",
       "      <td>-0.699689</td>\n",
       "      <td>1.145570</td>\n",
       "      <td>-0.014944</td>\n",
       "      <td>...</td>\n",
       "      <td>-0.187885</td>\n",
       "      <td>0.213335</td>\n",
       "      <td>-0.373253</td>\n",
       "      <td>0.190666</td>\n",
       "      <td>-0.011801</td>\n",
       "      <td>-0.548958</td>\n",
       "      <td>-0.289686</td>\n",
       "      <td>0.352458</td>\n",
       "      <td>0.470978</td>\n",
       "      <td>0</td>\n",
       "    </tr>\n",
       "    <tr>\n",
       "      <th>1</th>\n",
       "      <td>0.406241</td>\n",
       "      <td>-1.028419</td>\n",
       "      <td>1.292265</td>\n",
       "      <td>1.086428</td>\n",
       "      <td>-0.009681</td>\n",
       "      <td>-1.090125</td>\n",
       "      <td>-0.43243</td>\n",
       "      <td>-0.699689</td>\n",
       "      <td>-1.366988</td>\n",
       "      <td>1.415229</td>\n",
       "      <td>...</td>\n",
       "      <td>-0.556353</td>\n",
       "      <td>0.213335</td>\n",
       "      <td>-0.373253</td>\n",
       "      <td>0.190666</td>\n",
       "      <td>0.919127</td>\n",
       "      <td>-0.132418</td>\n",
       "      <td>0.937972</td>\n",
       "      <td>0.851480</td>\n",
       "      <td>0.899436</td>\n",
       "      <td>0</td>\n",
       "    </tr>\n",
       "    <tr>\n",
       "      <th>2</th>\n",
       "      <td>0.406241</td>\n",
       "      <td>0.353247</td>\n",
       "      <td>-1.910223</td>\n",
       "      <td>1.086428</td>\n",
       "      <td>-0.009681</td>\n",
       "      <td>0.917326</td>\n",
       "      <td>-0.43243</td>\n",
       "      <td>-0.699689</td>\n",
       "      <td>-0.529469</td>\n",
       "      <td>0.700143</td>\n",
       "      <td>...</td>\n",
       "      <td>-0.187885</td>\n",
       "      <td>0.213335</td>\n",
       "      <td>-0.373253</td>\n",
       "      <td>0.190666</td>\n",
       "      <td>0.919127</td>\n",
       "      <td>0.676764</td>\n",
       "      <td>-0.435341</td>\n",
       "      <td>0.849794</td>\n",
       "      <td>0.899436</td>\n",
       "      <td>0</td>\n",
       "    </tr>\n",
       "    <tr>\n",
       "      <th>3</th>\n",
       "      <td>0.406241</td>\n",
       "      <td>-0.475752</td>\n",
       "      <td>-0.308979</td>\n",
       "      <td>1.086428</td>\n",
       "      <td>-0.009681</td>\n",
       "      <td>-1.090125</td>\n",
       "      <td>-0.43243</td>\n",
       "      <td>-0.699689</td>\n",
       "      <td>-0.529469</td>\n",
       "      <td>1.415229</td>\n",
       "      <td>...</td>\n",
       "      <td>0.549049</td>\n",
       "      <td>0.213335</td>\n",
       "      <td>-0.373253</td>\n",
       "      <td>0.190666</td>\n",
       "      <td>0.919127</td>\n",
       "      <td>0.676764</td>\n",
       "      <td>-0.435341</td>\n",
       "      <td>0.850918</td>\n",
       "      <td>0.899436</td>\n",
       "      <td>0</td>\n",
       "    </tr>\n",
       "    <tr>\n",
       "      <th>4</th>\n",
       "      <td>0.406241</td>\n",
       "      <td>0.076914</td>\n",
       "      <td>-0.308979</td>\n",
       "      <td>1.086428</td>\n",
       "      <td>-0.009681</td>\n",
       "      <td>0.917326</td>\n",
       "      <td>-0.43243</td>\n",
       "      <td>-0.699689</td>\n",
       "      <td>-1.366988</td>\n",
       "      <td>0.700143</td>\n",
       "      <td>...</td>\n",
       "      <td>-0.556353</td>\n",
       "      <td>0.213335</td>\n",
       "      <td>-0.373253</td>\n",
       "      <td>0.190666</td>\n",
       "      <td>0.919127</td>\n",
       "      <td>-0.132418</td>\n",
       "      <td>0.937972</td>\n",
       "      <td>0.852604</td>\n",
       "      <td>0.899436</td>\n",
       "      <td>0</td>\n",
       "    </tr>\n",
       "  </tbody>\n",
       "</table>\n",
       "<p>5 rows × 21 columns</p>\n",
       "</div>"
      ],
      "text/plain": [
       "        age       job   marital  education   default   housing     loan  \\\n",
       "0 -1.836283 -1.028419 -1.910223  -0.420230 -0.009681  0.917326 -0.43243   \n",
       "1  0.406241 -1.028419  1.292265   1.086428 -0.009681 -1.090125 -0.43243   \n",
       "2  0.406241  0.353247 -1.910223   1.086428 -0.009681  0.917326 -0.43243   \n",
       "3  0.406241 -0.475752 -0.308979   1.086428 -0.009681 -1.090125 -0.43243   \n",
       "4  0.406241  0.076914 -0.308979   1.086428 -0.009681  0.917326 -0.43243   \n",
       "\n",
       "    contact     month  day_of_week  ...  campaign     pdays  previous  \\\n",
       "0 -0.699689  1.145570    -0.014944  ... -0.187885  0.213335 -0.373253   \n",
       "1 -0.699689 -1.366988     1.415229  ... -0.556353  0.213335 -0.373253   \n",
       "2 -0.699689 -0.529469     0.700143  ... -0.187885  0.213335 -0.373253   \n",
       "3 -0.699689 -0.529469     1.415229  ...  0.549049  0.213335 -0.373253   \n",
       "4 -0.699689 -1.366988     0.700143  ... -0.556353  0.213335 -0.373253   \n",
       "\n",
       "   poutcome  emp.var.rate  cons.price.idx  cons.conf.idx  euribor3m  \\\n",
       "0  0.190666     -0.011801       -0.548958      -0.289686   0.352458   \n",
       "1  0.190666      0.919127       -0.132418       0.937972   0.851480   \n",
       "2  0.190666      0.919127        0.676764      -0.435341   0.849794   \n",
       "3  0.190666      0.919127        0.676764      -0.435341   0.850918   \n",
       "4  0.190666      0.919127       -0.132418       0.937972   0.852604   \n",
       "\n",
       "   nr.employed  y  \n",
       "0     0.470978  0  \n",
       "1     0.899436  0  \n",
       "2     0.899436  0  \n",
       "3     0.899436  0  \n",
       "4     0.899436  0  \n",
       "\n",
       "[5 rows x 21 columns]"
      ]
     },
     "execution_count": 14,
     "metadata": {},
     "output_type": "execute_result"
    }
   ],
   "source": [
    "train_m2 = pd.read_csv('../../../../Data_AA2/train_m2.csv', sep = ',')\n",
    "train_m2.head()"
   ]
  },
  {
   "cell_type": "code",
   "execution_count": 15,
   "metadata": {},
   "outputs": [
    {
     "data": {
      "text/html": [
       "<div>\n",
       "<style scoped>\n",
       "    .dataframe tbody tr th:only-of-type {\n",
       "        vertical-align: middle;\n",
       "    }\n",
       "\n",
       "    .dataframe tbody tr th {\n",
       "        vertical-align: top;\n",
       "    }\n",
       "\n",
       "    .dataframe thead th {\n",
       "        text-align: right;\n",
       "    }\n",
       "</style>\n",
       "<table border=\"1\" class=\"dataframe\">\n",
       "  <thead>\n",
       "    <tr style=\"text-align: right;\">\n",
       "      <th></th>\n",
       "      <th>age</th>\n",
       "      <th>job</th>\n",
       "      <th>marital</th>\n",
       "      <th>education</th>\n",
       "      <th>default</th>\n",
       "      <th>housing</th>\n",
       "      <th>loan</th>\n",
       "      <th>contact</th>\n",
       "      <th>month</th>\n",
       "      <th>day_of_week</th>\n",
       "      <th>...</th>\n",
       "      <th>campaign</th>\n",
       "      <th>pdays</th>\n",
       "      <th>previous</th>\n",
       "      <th>poutcome</th>\n",
       "      <th>emp.var.rate</th>\n",
       "      <th>cons.price.idx</th>\n",
       "      <th>cons.conf.idx</th>\n",
       "      <th>euribor3m</th>\n",
       "      <th>nr.employed</th>\n",
       "      <th>y</th>\n",
       "    </tr>\n",
       "  </thead>\n",
       "  <tbody>\n",
       "    <tr>\n",
       "      <th>0</th>\n",
       "      <td>0.406241</td>\n",
       "      <td>-0.752086</td>\n",
       "      <td>1.292265</td>\n",
       "      <td>-0.922449</td>\n",
       "      <td>-0.009681</td>\n",
       "      <td>0.917326</td>\n",
       "      <td>-0.43243</td>\n",
       "      <td>1.429206</td>\n",
       "      <td>-0.110709</td>\n",
       "      <td>-0.014944</td>\n",
       "      <td>...</td>\n",
       "      <td>2.759852</td>\n",
       "      <td>0.213335</td>\n",
       "      <td>-0.373253</td>\n",
       "      <td>0.190666</td>\n",
       "      <td>0.919127</td>\n",
       "      <td>1.610567</td>\n",
       "      <td>-0.248071</td>\n",
       "      <td>0.796408</td>\n",
       "      <td>0.899436</td>\n",
       "      <td>0</td>\n",
       "    </tr>\n",
       "    <tr>\n",
       "      <th>1</th>\n",
       "      <td>0.406241</td>\n",
       "      <td>1.458580</td>\n",
       "      <td>1.292265</td>\n",
       "      <td>0.584209</td>\n",
       "      <td>-0.009681</td>\n",
       "      <td>0.917326</td>\n",
       "      <td>-0.43243</td>\n",
       "      <td>1.429206</td>\n",
       "      <td>-0.110709</td>\n",
       "      <td>1.415229</td>\n",
       "      <td>...</td>\n",
       "      <td>0.180582</td>\n",
       "      <td>0.213335</td>\n",
       "      <td>-0.373253</td>\n",
       "      <td>0.190666</td>\n",
       "      <td>0.919127</td>\n",
       "      <td>1.610567</td>\n",
       "      <td>-0.248071</td>\n",
       "      <td>0.848670</td>\n",
       "      <td>0.899436</td>\n",
       "      <td>0</td>\n",
       "    </tr>\n",
       "    <tr>\n",
       "      <th>2</th>\n",
       "      <td>0.406241</td>\n",
       "      <td>-0.475752</td>\n",
       "      <td>-0.308979</td>\n",
       "      <td>1.086428</td>\n",
       "      <td>-0.009681</td>\n",
       "      <td>0.917326</td>\n",
       "      <td>-0.43243</td>\n",
       "      <td>-0.699689</td>\n",
       "      <td>-1.785748</td>\n",
       "      <td>1.415229</td>\n",
       "      <td>...</td>\n",
       "      <td>-0.556353</td>\n",
       "      <td>0.213335</td>\n",
       "      <td>3.485114</td>\n",
       "      <td>-2.416003</td>\n",
       "      <td>-1.066853</td>\n",
       "      <td>-0.762350</td>\n",
       "      <td>-1.350882</td>\n",
       "      <td>-1.142923</td>\n",
       "      <td>-0.811744</td>\n",
       "      <td>0</td>\n",
       "    </tr>\n",
       "    <tr>\n",
       "      <th>3</th>\n",
       "      <td>0.406241</td>\n",
       "      <td>-0.752086</td>\n",
       "      <td>-1.910223</td>\n",
       "      <td>-0.420230</td>\n",
       "      <td>-0.009681</td>\n",
       "      <td>0.917326</td>\n",
       "      <td>-0.43243</td>\n",
       "      <td>1.429206</td>\n",
       "      <td>-0.110709</td>\n",
       "      <td>1.415229</td>\n",
       "      <td>...</td>\n",
       "      <td>-0.556353</td>\n",
       "      <td>0.213335</td>\n",
       "      <td>-0.373253</td>\n",
       "      <td>0.190666</td>\n",
       "      <td>0.919127</td>\n",
       "      <td>1.610567</td>\n",
       "      <td>-0.248071</td>\n",
       "      <td>0.848670</td>\n",
       "      <td>0.899436</td>\n",
       "      <td>0</td>\n",
       "    </tr>\n",
       "    <tr>\n",
       "      <th>4</th>\n",
       "      <td>0.406241</td>\n",
       "      <td>0.076914</td>\n",
       "      <td>-0.308979</td>\n",
       "      <td>0.584209</td>\n",
       "      <td>-0.009681</td>\n",
       "      <td>-1.090125</td>\n",
       "      <td>-0.43243</td>\n",
       "      <td>1.429206</td>\n",
       "      <td>0.726810</td>\n",
       "      <td>-1.445118</td>\n",
       "      <td>...</td>\n",
       "      <td>-0.556353</td>\n",
       "      <td>0.213335</td>\n",
       "      <td>-0.373253</td>\n",
       "      <td>0.190666</td>\n",
       "      <td>0.732941</td>\n",
       "      <td>0.806507</td>\n",
       "      <td>0.875548</td>\n",
       "      <td>0.792474</td>\n",
       "      <td>0.407306</td>\n",
       "      <td>0</td>\n",
       "    </tr>\n",
       "  </tbody>\n",
       "</table>\n",
       "<p>5 rows × 21 columns</p>\n",
       "</div>"
      ],
      "text/plain": [
       "        age       job   marital  education   default   housing     loan  \\\n",
       "0  0.406241 -0.752086  1.292265  -0.922449 -0.009681  0.917326 -0.43243   \n",
       "1  0.406241  1.458580  1.292265   0.584209 -0.009681  0.917326 -0.43243   \n",
       "2  0.406241 -0.475752 -0.308979   1.086428 -0.009681  0.917326 -0.43243   \n",
       "3  0.406241 -0.752086 -1.910223  -0.420230 -0.009681  0.917326 -0.43243   \n",
       "4  0.406241  0.076914 -0.308979   0.584209 -0.009681 -1.090125 -0.43243   \n",
       "\n",
       "    contact     month  day_of_week  ...  campaign     pdays  previous  \\\n",
       "0  1.429206 -0.110709    -0.014944  ...  2.759852  0.213335 -0.373253   \n",
       "1  1.429206 -0.110709     1.415229  ...  0.180582  0.213335 -0.373253   \n",
       "2 -0.699689 -1.785748     1.415229  ... -0.556353  0.213335  3.485114   \n",
       "3  1.429206 -0.110709     1.415229  ... -0.556353  0.213335 -0.373253   \n",
       "4  1.429206  0.726810    -1.445118  ... -0.556353  0.213335 -0.373253   \n",
       "\n",
       "   poutcome  emp.var.rate  cons.price.idx  cons.conf.idx  euribor3m  \\\n",
       "0  0.190666      0.919127        1.610567      -0.248071   0.796408   \n",
       "1  0.190666      0.919127        1.610567      -0.248071   0.848670   \n",
       "2 -2.416003     -1.066853       -0.762350      -1.350882  -1.142923   \n",
       "3  0.190666      0.919127        1.610567      -0.248071   0.848670   \n",
       "4  0.190666      0.732941        0.806507       0.875548   0.792474   \n",
       "\n",
       "   nr.employed  y  \n",
       "0     0.899436  0  \n",
       "1     0.899436  0  \n",
       "2    -0.811744  0  \n",
       "3     0.899436  0  \n",
       "4     0.407306  0  \n",
       "\n",
       "[5 rows x 21 columns]"
      ]
     },
     "execution_count": 15,
     "metadata": {},
     "output_type": "execute_result"
    }
   ],
   "source": [
    "test_m2 = pd.read_csv('../../../../Data_AA2/test_m2.csv', sep = ',')\n",
    "test_m2.head()"
   ]
  },
  {
   "cell_type": "code",
   "execution_count": 16,
   "metadata": {},
   "outputs": [],
   "source": [
    "#get target\n",
    "train_m2_target = train_m2['y']\n",
    "train_m2 = train_m2.drop(columns=['y'])"
   ]
  },
  {
   "cell_type": "code",
   "execution_count": 17,
   "metadata": {},
   "outputs": [],
   "source": [
    "#get target\n",
    "test_m2_target = test_m2['y']\n",
    "test_m2 = test_m2.drop(columns=['y'])"
   ]
  },
  {
   "cell_type": "markdown",
   "metadata": {},
   "source": [
    "### Check for lower errors"
   ]
  },
  {
   "cell_type": "code",
   "execution_count": 18,
   "metadata": {},
   "outputs": [
    {
     "name": "stderr",
     "output_type": "stream",
     "text": [
      "100%|██████████████████████████████████████████████████████████████████████████████████| 99/99 [06:11<00:00,  3.76s/it]\n"
     ]
    }
   ],
   "source": [
    "error_rate = []\n",
    "\n",
    "for i in tqdm(range(1,100)):\n",
    "    knn = KNeighborsClassifier(n_neighbors=i)\n",
    "    knn.fit(train_m2,train_m2_target)\n",
    "    predictions = knn.predict(test_m2)\n",
    "    error_rate.append(np.mean(predictions != test_m2_target))"
   ]
  },
  {
   "cell_type": "code",
   "execution_count": 19,
   "metadata": {},
   "outputs": [
    {
     "data": {
      "text/plain": [
       "Text(0, 0.5, 'Error Rate')"
      ]
     },
     "execution_count": 19,
     "metadata": {},
     "output_type": "execute_result"
    },
    {
     "data": {
      "image/png": "[encoded data removed]",
      "text/plain": [
       "<Figure size 1800x432 with 1 Axes>"
      ]
     },
     "metadata": {
      "needs_background": "light"
     },
     "output_type": "display_data"
    }
   ],
   "source": [
    "plt.figure(figsize=(25,6))\n",
    "plt.plot(range(1,100),error_rate,color='blue',linestyle='dashed',marker='o',markerfacecolor='red',markersize=10)\n",
    "plt.title('Error Rate vs DepthValue')\n",
    "plt.xlabel(\"depth\")\n",
    "plt.ylabel(\"Error Rate\")"
   ]
  },
  {
   "cell_type": "markdown",
   "metadata": {},
   "source": [
    "#### Hyperparameter tuning using GridSearchCV"
   ]
  },
  {
   "cell_type": "code",
   "execution_count": 20,
   "metadata": {},
   "outputs": [
    {
     "name": "stdout",
     "output_type": "stream",
     "text": [
      "Fitting 5 folds for each of 12 candidates, totalling 60 fits\n",
      "[CV 1/5; 1/12] START metric=euclidean, n_neighbors=31, weights=uniform..........\n",
      "[CV 1/5; 1/12] END metric=euclidean, n_neighbors=31, weights=uniform; total time=   1.4s\n",
      "[CV 2/5; 1/12] START metric=euclidean, n_neighbors=31, weights=uniform..........\n",
      "[CV 2/5; 1/12] END metric=euclidean, n_neighbors=31, weights=uniform; total time=   1.3s\n",
      "[CV 3/5; 1/12] START metric=euclidean, n_neighbors=31, weights=uniform..........\n",
      "[CV 3/5; 1/12] END metric=euclidean, n_neighbors=31, weights=uniform; total time=   1.3s\n",
      "[CV 4/5; 1/12] START metric=euclidean, n_neighbors=31, weights=uniform..........\n",
      "[CV 4/5; 1/12] END metric=euclidean, n_neighbors=31, weights=uniform; total time=   1.3s\n",
      "[CV 5/5; 1/12] START metric=euclidean, n_neighbors=31, weights=uniform..........\n",
      "[CV 5/5; 1/12] END metric=euclidean, n_neighbors=31, weights=uniform; total time=   1.5s\n",
      "[CV 1/5; 2/12] START metric=euclidean, n_neighbors=31, weights=distance.........\n",
      "[CV 1/5; 2/12] END metric=euclidean, n_neighbors=31, weights=distance; total time=   1.3s\n",
      "[CV 2/5; 2/12] START metric=euclidean, n_neighbors=31, weights=distance.........\n",
      "[CV 2/5; 2/12] END metric=euclidean, n_neighbors=31, weights=distance; total time=   1.3s\n",
      "[CV 3/5; 2/12] START metric=euclidean, n_neighbors=31, weights=distance.........\n",
      "[CV 3/5; 2/12] END metric=euclidean, n_neighbors=31, weights=distance; total time=   1.3s\n",
      "[CV 4/5; 2/12] START metric=euclidean, n_neighbors=31, weights=distance.........\n",
      "[CV 4/5; 2/12] END metric=euclidean, n_neighbors=31, weights=distance; total time=   1.4s\n",
      "[CV 5/5; 2/12] START metric=euclidean, n_neighbors=31, weights=distance.........\n",
      "[CV 5/5; 2/12] END metric=euclidean, n_neighbors=31, weights=distance; total time=   1.4s\n",
      "[CV 1/5; 3/12] START metric=euclidean, n_neighbors=32, weights=uniform..........\n",
      "[CV 1/5; 3/12] END metric=euclidean, n_neighbors=32, weights=uniform; total time=   1.5s\n",
      "[CV 2/5; 3/12] START metric=euclidean, n_neighbors=32, weights=uniform..........\n",
      "[CV 2/5; 3/12] END metric=euclidean, n_neighbors=32, weights=uniform; total time=   1.5s\n",
      "[CV 3/5; 3/12] START metric=euclidean, n_neighbors=32, weights=uniform..........\n",
      "[CV 3/5; 3/12] END metric=euclidean, n_neighbors=32, weights=uniform; total time=   1.4s\n",
      "[CV 4/5; 3/12] START metric=euclidean, n_neighbors=32, weights=uniform..........\n",
      "[CV 4/5; 3/12] END metric=euclidean, n_neighbors=32, weights=uniform; total time=   1.4s\n",
      "[CV 5/5; 3/12] START metric=euclidean, n_neighbors=32, weights=uniform..........\n",
      "[CV 5/5; 3/12] END metric=euclidean, n_neighbors=32, weights=uniform; total time=   1.6s\n",
      "[CV 1/5; 4/12] START metric=euclidean, n_neighbors=32, weights=distance.........\n",
      "[CV 1/5; 4/12] END metric=euclidean, n_neighbors=32, weights=distance; total time=   1.5s\n",
      "[CV 2/5; 4/12] START metric=euclidean, n_neighbors=32, weights=distance.........\n",
      "[CV 2/5; 4/12] END metric=euclidean, n_neighbors=32, weights=distance; total time=   1.3s\n",
      "[CV 3/5; 4/12] START metric=euclidean, n_neighbors=32, weights=distance.........\n",
      "[CV 3/5; 4/12] END metric=euclidean, n_neighbors=32, weights=distance; total time=   1.4s\n",
      "[CV 4/5; 4/12] START metric=euclidean, n_neighbors=32, weights=distance.........\n",
      "[CV 4/5; 4/12] END metric=euclidean, n_neighbors=32, weights=distance; total time=   1.4s\n",
      "[CV 5/5; 4/12] START metric=euclidean, n_neighbors=32, weights=distance.........\n",
      "[CV 5/5; 4/12] END metric=euclidean, n_neighbors=32, weights=distance; total time=   1.4s\n",
      "[CV 1/5; 5/12] START metric=euclidean, n_neighbors=59, weights=uniform..........\n",
      "[CV 1/5; 5/12] END metric=euclidean, n_neighbors=59, weights=uniform; total time=   1.6s\n",
      "[CV 2/5; 5/12] START metric=euclidean, n_neighbors=59, weights=uniform..........\n",
      "[CV 2/5; 5/12] END metric=euclidean, n_neighbors=59, weights=uniform; total time=   1.5s\n",
      "[CV 3/5; 5/12] START metric=euclidean, n_neighbors=59, weights=uniform..........\n",
      "[CV 3/5; 5/12] END metric=euclidean, n_neighbors=59, weights=uniform; total time=   1.3s\n",
      "[CV 4/5; 5/12] START metric=euclidean, n_neighbors=59, weights=uniform..........\n",
      "[CV 4/5; 5/12] END metric=euclidean, n_neighbors=59, weights=uniform; total time=   1.4s\n",
      "[CV 5/5; 5/12] START metric=euclidean, n_neighbors=59, weights=uniform..........\n",
      "[CV 5/5; 5/12] END metric=euclidean, n_neighbors=59, weights=uniform; total time=   1.4s\n",
      "[CV 1/5; 6/12] START metric=euclidean, n_neighbors=59, weights=distance.........\n",
      "[CV 1/5; 6/12] END metric=euclidean, n_neighbors=59, weights=distance; total time=   1.3s\n",
      "[CV 2/5; 6/12] START metric=euclidean, n_neighbors=59, weights=distance.........\n",
      "[CV 2/5; 6/12] END metric=euclidean, n_neighbors=59, weights=distance; total time=   1.2s\n",
      "[CV 3/5; 6/12] START metric=euclidean, n_neighbors=59, weights=distance.........\n",
      "[CV 3/5; 6/12] END metric=euclidean, n_neighbors=59, weights=distance; total time=   1.2s\n",
      "[CV 4/5; 6/12] START metric=euclidean, n_neighbors=59, weights=distance.........\n",
      "[CV 4/5; 6/12] END metric=euclidean, n_neighbors=59, weights=distance; total time=   1.3s\n",
      "[CV 5/5; 6/12] START metric=euclidean, n_neighbors=59, weights=distance.........\n",
      "[CV 5/5; 6/12] END metric=euclidean, n_neighbors=59, weights=distance; total time=   1.3s\n",
      "[CV 1/5; 7/12] START metric=manhattan, n_neighbors=31, weights=uniform..........\n",
      "[CV 1/5; 7/12] END metric=manhattan, n_neighbors=31, weights=uniform; total time=   1.5s\n",
      "[CV 2/5; 7/12] START metric=manhattan, n_neighbors=31, weights=uniform..........\n",
      "[CV 2/5; 7/12] END metric=manhattan, n_neighbors=31, weights=uniform; total time=   1.5s\n",
      "[CV 3/5; 7/12] START metric=manhattan, n_neighbors=31, weights=uniform..........\n",
      "[CV 3/5; 7/12] END metric=manhattan, n_neighbors=31, weights=uniform; total time=   1.5s\n",
      "[CV 4/5; 7/12] START metric=manhattan, n_neighbors=31, weights=uniform..........\n",
      "[CV 4/5; 7/12] END metric=manhattan, n_neighbors=31, weights=uniform; total time=   1.5s\n",
      "[CV 5/5; 7/12] START metric=manhattan, n_neighbors=31, weights=uniform..........\n",
      "[CV 5/5; 7/12] END metric=manhattan, n_neighbors=31, weights=uniform; total time=   1.6s\n",
      "[CV 1/5; 8/12] START metric=manhattan, n_neighbors=31, weights=distance.........\n",
      "[CV 1/5; 8/12] END metric=manhattan, n_neighbors=31, weights=distance; total time=   1.5s\n",
      "[CV 2/5; 8/12] START metric=manhattan, n_neighbors=31, weights=distance.........\n",
      "[CV 2/5; 8/12] END metric=manhattan, n_neighbors=31, weights=distance; total time=   1.4s\n",
      "[CV 3/5; 8/12] START metric=manhattan, n_neighbors=31, weights=distance.........\n",
      "[CV 3/5; 8/12] END metric=manhattan, n_neighbors=31, weights=distance; total time=   1.4s\n",
      "[CV 4/5; 8/12] START metric=manhattan, n_neighbors=31, weights=distance.........\n",
      "[CV 4/5; 8/12] END metric=manhattan, n_neighbors=31, weights=distance; total time=   1.4s\n",
      "[CV 5/5; 8/12] START metric=manhattan, n_neighbors=31, weights=distance.........\n",
      "[CV 5/5; 8/12] END metric=manhattan, n_neighbors=31, weights=distance; total time=   1.4s\n",
      "[CV 1/5; 9/12] START metric=manhattan, n_neighbors=32, weights=uniform..........\n",
      "[CV 1/5; 9/12] END metric=manhattan, n_neighbors=32, weights=uniform; total time=   1.6s\n",
      "[CV 2/5; 9/12] START metric=manhattan, n_neighbors=32, weights=uniform..........\n",
      "[CV 2/5; 9/12] END metric=manhattan, n_neighbors=32, weights=uniform; total time=   1.5s\n",
      "[CV 3/5; 9/12] START metric=manhattan, n_neighbors=32, weights=uniform..........\n",
      "[CV 3/5; 9/12] END metric=manhattan, n_neighbors=32, weights=uniform; total time=   1.5s\n",
      "[CV 4/5; 9/12] START metric=manhattan, n_neighbors=32, weights=uniform..........\n",
      "[CV 4/5; 9/12] END metric=manhattan, n_neighbors=32, weights=uniform; total time=   1.5s\n",
      "[CV 5/5; 9/12] START metric=manhattan, n_neighbors=32, weights=uniform..........\n",
      "[CV 5/5; 9/12] END metric=manhattan, n_neighbors=32, weights=uniform; total time=   1.6s\n",
      "[CV 1/5; 10/12] START metric=manhattan, n_neighbors=32, weights=distance........\n",
      "[CV 1/5; 10/12] END metric=manhattan, n_neighbors=32, weights=distance; total time=   1.5s\n",
      "[CV 2/5; 10/12] START metric=manhattan, n_neighbors=32, weights=distance........\n",
      "[CV 2/5; 10/12] END metric=manhattan, n_neighbors=32, weights=distance; total time=   1.4s\n",
      "[CV 3/5; 10/12] START metric=manhattan, n_neighbors=32, weights=distance........\n",
      "[CV 3/5; 10/12] END metric=manhattan, n_neighbors=32, weights=distance; total time=   1.4s\n",
      "[CV 4/5; 10/12] START metric=manhattan, n_neighbors=32, weights=distance........\n"
     ]
    },
    {
     "name": "stdout",
     "output_type": "stream",
     "text": [
      "[CV 4/5; 10/12] END metric=manhattan, n_neighbors=32, weights=distance; total time=   1.4s\n",
      "[CV 5/5; 10/12] START metric=manhattan, n_neighbors=32, weights=distance........\n",
      "[CV 5/5; 10/12] END metric=manhattan, n_neighbors=32, weights=distance; total time=   1.5s\n",
      "[CV 1/5; 11/12] START metric=manhattan, n_neighbors=59, weights=uniform.........\n",
      "[CV 1/5; 11/12] END metric=manhattan, n_neighbors=59, weights=uniform; total time=   1.6s\n",
      "[CV 2/5; 11/12] START metric=manhattan, n_neighbors=59, weights=uniform.........\n",
      "[CV 2/5; 11/12] END metric=manhattan, n_neighbors=59, weights=uniform; total time=   1.6s\n",
      "[CV 3/5; 11/12] START metric=manhattan, n_neighbors=59, weights=uniform.........\n",
      "[CV 3/5; 11/12] END metric=manhattan, n_neighbors=59, weights=uniform; total time=   1.5s\n",
      "[CV 4/5; 11/12] START metric=manhattan, n_neighbors=59, weights=uniform.........\n",
      "[CV 4/5; 11/12] END metric=manhattan, n_neighbors=59, weights=uniform; total time=   1.5s\n",
      "[CV 5/5; 11/12] START metric=manhattan, n_neighbors=59, weights=uniform.........\n",
      "[CV 5/5; 11/12] END metric=manhattan, n_neighbors=59, weights=uniform; total time=   1.5s\n",
      "[CV 1/5; 12/12] START metric=manhattan, n_neighbors=59, weights=distance........\n",
      "[CV 1/5; 12/12] END metric=manhattan, n_neighbors=59, weights=distance; total time=   1.5s\n",
      "[CV 2/5; 12/12] START metric=manhattan, n_neighbors=59, weights=distance........\n",
      "[CV 2/5; 12/12] END metric=manhattan, n_neighbors=59, weights=distance; total time=   1.4s\n",
      "[CV 3/5; 12/12] START metric=manhattan, n_neighbors=59, weights=distance........\n",
      "[CV 3/5; 12/12] END metric=manhattan, n_neighbors=59, weights=distance; total time=   1.4s\n",
      "[CV 4/5; 12/12] START metric=manhattan, n_neighbors=59, weights=distance........\n",
      "[CV 4/5; 12/12] END metric=manhattan, n_neighbors=59, weights=distance; total time=   1.4s\n",
      "[CV 5/5; 12/12] START metric=manhattan, n_neighbors=59, weights=distance........\n",
      "[CV 5/5; 12/12] END metric=manhattan, n_neighbors=59, weights=distance; total time=   1.5s\n",
      "KNeighborsClassifier(metric='manhattan', n_neighbors=59)\n"
     ]
    }
   ],
   "source": [
    "# Create the parameter grid based on the results of random search \n",
    "parameters = {\n",
    "    'n_neighbors': [31,32,59],\n",
    "    'weights': ['uniform', 'distance'],\n",
    "    'metric': ['euclidean', 'manhattan'],\n",
    "}\n",
    "\n",
    "# Create the model\n",
    "knn_model = KNeighborsClassifier()\n",
    "\n",
    "# Best model\n",
    "opt_model_knn = GridSearchCV(knn_model, parameters,  scoring='accuracy', verbose=10)\n",
    "\n",
    "# Fit the model\n",
    "opt_model_knn.fit(train_m2, train_m2_target)\n",
    "\n",
    "print (opt_model_knn.best_estimator_)"
   ]
  },
  {
   "cell_type": "markdown",
   "metadata": {},
   "source": [
    "#### Create and fit the model"
   ]
  },
  {
   "cell_type": "code",
   "execution_count": 29,
   "metadata": {},
   "outputs": [
    {
     "data": {
      "text/plain": [
       "KNeighborsClassifier(metric='manhattan', n_neighbors=59)"
      ]
     },
     "execution_count": 29,
     "metadata": {},
     "output_type": "execute_result"
    }
   ],
   "source": [
    "# Create model with best parameters\n",
    "knn_best_model = KNeighborsClassifier(metric='manhattan', n_neighbors=59)\n",
    "\n",
    "# Fit the best model\n",
    "knn_best_model.fit(train_m2, train_m2_target)\n",
    "knn_best_model"
   ]
  },
  {
   "cell_type": "code",
   "execution_count": 30,
   "metadata": {},
   "outputs": [
    {
     "name": "stdout",
     "output_type": "stream",
     "text": [
      "Predicted     0    1   All\n",
      "Actual                    \n",
      "0          7873  121  7994\n",
      "1           856  297  1153\n",
      "All        8729  418  9147\n"
     ]
    }
   ],
   "source": [
    "predictions = knn_best_model.predict(test_m2)\n",
    "\n",
    "# Confusion matrix\n",
    "confusion = pd.crosstab(test_m2_target,predictions, rownames=['Actual'], colnames=['Predicted'], margins=True)\n",
    "print(confusion )"
   ]
  },
  {
   "cell_type": "code",
   "execution_count": 31,
   "metadata": {},
   "outputs": [
    {
     "name": "stdout",
     "output_type": "stream",
     "text": [
      "Accuracy:0.893189\n"
     ]
    }
   ],
   "source": [
    "# Accuracy\n",
    "score = accuracy_score(test_m2_target,predictions)\n",
    "print('Accuracy:{0:f}'.format(score))"
   ]
  },
  {
   "cell_type": "code",
   "execution_count": 32,
   "metadata": {},
   "outputs": [
    {
     "name": "stdout",
     "output_type": "stream",
     "text": [
      "              precision    recall  f1-score   support\n",
      "\n",
      "           0       0.90      0.98      0.94      7994\n",
      "           1       0.71      0.26      0.38      1153\n",
      "\n",
      "    accuracy                           0.89      9147\n",
      "   macro avg       0.81      0.62      0.66      9147\n",
      "weighted avg       0.88      0.89      0.87      9147\n",
      "\n"
     ]
    }
   ],
   "source": [
    "# Report\n",
    "print(classification_report(test_m2_target,predictions))"
   ]
  },
  {
   "cell_type": "code",
   "execution_count": 33,
   "metadata": {},
   "outputs": [
    {
     "data": {
      "text/plain": [
       "0.8918046187692136"
      ]
     },
     "execution_count": 33,
     "metadata": {},
     "output_type": "execute_result"
    }
   ],
   "source": [
    "# Validate model using best model and cross validation\n",
    "pecc_knn = cross_val_score(knn_best_model, train_m2, train_m2_target, cv = 5).mean()\n",
    "pecc_knn"
   ]
  },
  {
   "cell_type": "markdown",
   "metadata": {},
   "source": [
    "### Model 3\n",
    "#### Read CSV"
   ]
  },
  {
   "cell_type": "code",
   "execution_count": 34,
   "metadata": {},
   "outputs": [
    {
     "data": {
      "text/html": [
       "<div>\n",
       "<style scoped>\n",
       "    .dataframe tbody tr th:only-of-type {\n",
       "        vertical-align: middle;\n",
       "    }\n",
       "\n",
       "    .dataframe tbody tr th {\n",
       "        vertical-align: top;\n",
       "    }\n",
       "\n",
       "    .dataframe thead th {\n",
       "        text-align: right;\n",
       "    }\n",
       "</style>\n",
       "<table border=\"1\" class=\"dataframe\">\n",
       "  <thead>\n",
       "    <tr style=\"text-align: right;\">\n",
       "      <th></th>\n",
       "      <th>age</th>\n",
       "      <th>job</th>\n",
       "      <th>marital</th>\n",
       "      <th>education</th>\n",
       "      <th>default</th>\n",
       "      <th>housing</th>\n",
       "      <th>loan</th>\n",
       "      <th>contact</th>\n",
       "      <th>month</th>\n",
       "      <th>day_of_week</th>\n",
       "      <th>...</th>\n",
       "      <th>campaign</th>\n",
       "      <th>pdays</th>\n",
       "      <th>previous</th>\n",
       "      <th>poutcome</th>\n",
       "      <th>emp.var.rate</th>\n",
       "      <th>cons.price.idx</th>\n",
       "      <th>cons.conf.idx</th>\n",
       "      <th>euribor3m</th>\n",
       "      <th>nr.employed</th>\n",
       "      <th>y</th>\n",
       "    </tr>\n",
       "  </thead>\n",
       "  <tbody>\n",
       "    <tr>\n",
       "      <th>0</th>\n",
       "      <td>0.430712</td>\n",
       "      <td>1.468709</td>\n",
       "      <td>1.315671</td>\n",
       "      <td>0.575506</td>\n",
       "      <td>-0.009193</td>\n",
       "      <td>0.963609</td>\n",
       "      <td>-0.409284</td>\n",
       "      <td>1.511648</td>\n",
       "      <td>0.731850</td>\n",
       "      <td>0.727884</td>\n",
       "      <td>...</td>\n",
       "      <td>-0.167650</td>\n",
       "      <td>0.249588</td>\n",
       "      <td>-0.390321</td>\n",
       "      <td>0.162454</td>\n",
       "      <td>-0.975689</td>\n",
       "      <td>-1.023979</td>\n",
       "      <td>-1.142809</td>\n",
       "      <td>-1.113536</td>\n",
       "      <td>-0.696420</td>\n",
       "      <td>0</td>\n",
       "    </tr>\n",
       "    <tr>\n",
       "      <th>1</th>\n",
       "      <td>0.430712</td>\n",
       "      <td>-1.026811</td>\n",
       "      <td>1.315671</td>\n",
       "      <td>1.079601</td>\n",
       "      <td>-0.009193</td>\n",
       "      <td>0.963609</td>\n",
       "      <td>-0.409284</td>\n",
       "      <td>-0.661530</td>\n",
       "      <td>-0.508577</td>\n",
       "      <td>-0.709064</td>\n",
       "      <td>...</td>\n",
       "      <td>0.204000</td>\n",
       "      <td>0.249588</td>\n",
       "      <td>-0.390321</td>\n",
       "      <td>0.162454</td>\n",
       "      <td>0.971222</td>\n",
       "      <td>0.699099</td>\n",
       "      <td>-0.434338</td>\n",
       "      <td>0.905339</td>\n",
       "      <td>0.940431</td>\n",
       "      <td>0</td>\n",
       "    </tr>\n",
       "    <tr>\n",
       "      <th>2</th>\n",
       "      <td>0.430712</td>\n",
       "      <td>-1.026811</td>\n",
       "      <td>1.315671</td>\n",
       "      <td>1.079601</td>\n",
       "      <td>-0.009193</td>\n",
       "      <td>0.963609</td>\n",
       "      <td>-0.409284</td>\n",
       "      <td>-0.661530</td>\n",
       "      <td>-1.335529</td>\n",
       "      <td>0.009410</td>\n",
       "      <td>...</td>\n",
       "      <td>-0.167650</td>\n",
       "      <td>0.249588</td>\n",
       "      <td>-0.390321</td>\n",
       "      <td>0.162454</td>\n",
       "      <td>0.971222</td>\n",
       "      <td>-0.097719</td>\n",
       "      <td>0.901635</td>\n",
       "      <td>0.905889</td>\n",
       "      <td>0.940431</td>\n",
       "      <td>0</td>\n",
       "    </tr>\n",
       "    <tr>\n",
       "      <th>3</th>\n",
       "      <td>2.595616</td>\n",
       "      <td>0.359589</td>\n",
       "      <td>-0.284073</td>\n",
       "      <td>-1.944969</td>\n",
       "      <td>-0.009193</td>\n",
       "      <td>-1.037765</td>\n",
       "      <td>-0.409284</td>\n",
       "      <td>-0.661530</td>\n",
       "      <td>-0.922053</td>\n",
       "      <td>1.446358</td>\n",
       "      <td>...</td>\n",
       "      <td>-0.167650</td>\n",
       "      <td>0.249588</td>\n",
       "      <td>-0.390321</td>\n",
       "      <td>0.162454</td>\n",
       "      <td>-1.705780</td>\n",
       "      <td>-1.326568</td>\n",
       "      <td>1.529138</td>\n",
       "      <td>-1.430308</td>\n",
       "      <td>-1.655691</td>\n",
       "      <td>1</td>\n",
       "    </tr>\n",
       "    <tr>\n",
       "      <th>4</th>\n",
       "      <td>0.430712</td>\n",
       "      <td>1.468709</td>\n",
       "      <td>-0.284073</td>\n",
       "      <td>1.079601</td>\n",
       "      <td>-0.009193</td>\n",
       "      <td>-1.037765</td>\n",
       "      <td>-0.409284</td>\n",
       "      <td>-0.661530</td>\n",
       "      <td>-1.335529</td>\n",
       "      <td>-0.709064</td>\n",
       "      <td>...</td>\n",
       "      <td>0.947301</td>\n",
       "      <td>0.249588</td>\n",
       "      <td>-0.390321</td>\n",
       "      <td>0.162454</td>\n",
       "      <td>0.971222</td>\n",
       "      <td>-0.097719</td>\n",
       "      <td>0.901635</td>\n",
       "      <td>0.906989</td>\n",
       "      <td>0.940431</td>\n",
       "      <td>0</td>\n",
       "    </tr>\n",
       "  </tbody>\n",
       "</table>\n",
       "<p>5 rows × 21 columns</p>\n",
       "</div>"
      ],
      "text/plain": [
       "        age       job   marital  education   default   housing      loan  \\\n",
       "0  0.430712  1.468709  1.315671   0.575506 -0.009193  0.963609 -0.409284   \n",
       "1  0.430712 -1.026811  1.315671   1.079601 -0.009193  0.963609 -0.409284   \n",
       "2  0.430712 -1.026811  1.315671   1.079601 -0.009193  0.963609 -0.409284   \n",
       "3  2.595616  0.359589 -0.284073  -1.944969 -0.009193 -1.037765 -0.409284   \n",
       "4  0.430712  1.468709 -0.284073   1.079601 -0.009193 -1.037765 -0.409284   \n",
       "\n",
       "    contact     month  day_of_week  ...  campaign     pdays  previous  \\\n",
       "0  1.511648  0.731850     0.727884  ... -0.167650  0.249588 -0.390321   \n",
       "1 -0.661530 -0.508577    -0.709064  ...  0.204000  0.249588 -0.390321   \n",
       "2 -0.661530 -1.335529     0.009410  ... -0.167650  0.249588 -0.390321   \n",
       "3 -0.661530 -0.922053     1.446358  ... -0.167650  0.249588 -0.390321   \n",
       "4 -0.661530 -1.335529    -0.709064  ...  0.947301  0.249588 -0.390321   \n",
       "\n",
       "   poutcome  emp.var.rate  cons.price.idx  cons.conf.idx  euribor3m  \\\n",
       "0  0.162454     -0.975689       -1.023979      -1.142809  -1.113536   \n",
       "1  0.162454      0.971222        0.699099      -0.434338   0.905339   \n",
       "2  0.162454      0.971222       -0.097719       0.901635   0.905889   \n",
       "3  0.162454     -1.705780       -1.326568       1.529138  -1.430308   \n",
       "4  0.162454      0.971222       -0.097719       0.901635   0.906989   \n",
       "\n",
       "   nr.employed  y  \n",
       "0    -0.696420  0  \n",
       "1     0.940431  0  \n",
       "2     0.940431  0  \n",
       "3    -1.655691  1  \n",
       "4     0.940431  0  \n",
       "\n",
       "[5 rows x 21 columns]"
      ]
     },
     "execution_count": 34,
     "metadata": {},
     "output_type": "execute_result"
    }
   ],
   "source": [
    "train_m3 = pd.read_csv('../../../../Data_AA2/train_m3.csv', sep = ',')\n",
    "train_m3.head()"
   ]
  },
  {
   "cell_type": "code",
   "execution_count": 35,
   "metadata": {},
   "outputs": [
    {
     "data": {
      "text/html": [
       "<div>\n",
       "<style scoped>\n",
       "    .dataframe tbody tr th:only-of-type {\n",
       "        vertical-align: middle;\n",
       "    }\n",
       "\n",
       "    .dataframe tbody tr th {\n",
       "        vertical-align: top;\n",
       "    }\n",
       "\n",
       "    .dataframe thead th {\n",
       "        text-align: right;\n",
       "    }\n",
       "</style>\n",
       "<table border=\"1\" class=\"dataframe\">\n",
       "  <thead>\n",
       "    <tr style=\"text-align: right;\">\n",
       "      <th></th>\n",
       "      <th>age</th>\n",
       "      <th>job</th>\n",
       "      <th>marital</th>\n",
       "      <th>education</th>\n",
       "      <th>default</th>\n",
       "      <th>housing</th>\n",
       "      <th>loan</th>\n",
       "      <th>contact</th>\n",
       "      <th>month</th>\n",
       "      <th>day_of_week</th>\n",
       "      <th>...</th>\n",
       "      <th>campaign</th>\n",
       "      <th>pdays</th>\n",
       "      <th>previous</th>\n",
       "      <th>poutcome</th>\n",
       "      <th>emp.var.rate</th>\n",
       "      <th>cons.price.idx</th>\n",
       "      <th>cons.conf.idx</th>\n",
       "      <th>euribor3m</th>\n",
       "      <th>nr.employed</th>\n",
       "      <th>y</th>\n",
       "    </tr>\n",
       "  </thead>\n",
       "  <tbody>\n",
       "    <tr>\n",
       "      <th>0</th>\n",
       "      <td>0.430712</td>\n",
       "      <td>-0.749531</td>\n",
       "      <td>-0.284073</td>\n",
       "      <td>-1.440874</td>\n",
       "      <td>-0.009193</td>\n",
       "      <td>0.963609</td>\n",
       "      <td>-0.409284</td>\n",
       "      <td>-0.661530</td>\n",
       "      <td>-0.508577</td>\n",
       "      <td>-0.709064</td>\n",
       "      <td>...</td>\n",
       "      <td>0.947301</td>\n",
       "      <td>0.249588</td>\n",
       "      <td>-0.390321</td>\n",
       "      <td>0.162454</td>\n",
       "      <td>0.971222</td>\n",
       "      <td>0.699099</td>\n",
       "      <td>-0.434338</td>\n",
       "      <td>0.904239</td>\n",
       "      <td>0.940431</td>\n",
       "      <td>0</td>\n",
       "    </tr>\n",
       "    <tr>\n",
       "      <th>1</th>\n",
       "      <td>0.430712</td>\n",
       "      <td>-1.026811</td>\n",
       "      <td>-0.284073</td>\n",
       "      <td>-0.432684</td>\n",
       "      <td>-0.009193</td>\n",
       "      <td>0.963609</td>\n",
       "      <td>-0.409284</td>\n",
       "      <td>1.511648</td>\n",
       "      <td>0.731850</td>\n",
       "      <td>0.009410</td>\n",
       "      <td>...</td>\n",
       "      <td>0.575650</td>\n",
       "      <td>0.249588</td>\n",
       "      <td>-0.390321</td>\n",
       "      <td>0.162454</td>\n",
       "      <td>0.788699</td>\n",
       "      <td>0.826859</td>\n",
       "      <td>0.840909</td>\n",
       "      <td>0.849244</td>\n",
       "      <td>0.469678</td>\n",
       "      <td>0</td>\n",
       "    </tr>\n",
       "    <tr>\n",
       "      <th>2</th>\n",
       "      <td>0.430712</td>\n",
       "      <td>-1.026811</td>\n",
       "      <td>-0.284073</td>\n",
       "      <td>-1.440874</td>\n",
       "      <td>-0.009193</td>\n",
       "      <td>0.963609</td>\n",
       "      <td>2.443291</td>\n",
       "      <td>1.511648</td>\n",
       "      <td>0.731850</td>\n",
       "      <td>0.727884</td>\n",
       "      <td>...</td>\n",
       "      <td>-0.539300</td>\n",
       "      <td>0.249588</td>\n",
       "      <td>-0.390321</td>\n",
       "      <td>0.162454</td>\n",
       "      <td>0.788699</td>\n",
       "      <td>0.826859</td>\n",
       "      <td>0.840909</td>\n",
       "      <td>0.847594</td>\n",
       "      <td>0.469678</td>\n",
       "      <td>0</td>\n",
       "    </tr>\n",
       "    <tr>\n",
       "      <th>3</th>\n",
       "      <td>0.430712</td>\n",
       "      <td>-1.026811</td>\n",
       "      <td>-0.284073</td>\n",
       "      <td>1.079601</td>\n",
       "      <td>-0.009193</td>\n",
       "      <td>0.963609</td>\n",
       "      <td>-0.409284</td>\n",
       "      <td>-0.661530</td>\n",
       "      <td>-0.095102</td>\n",
       "      <td>-0.709064</td>\n",
       "      <td>...</td>\n",
       "      <td>-0.539300</td>\n",
       "      <td>0.249588</td>\n",
       "      <td>1.459600</td>\n",
       "      <td>-2.255863</td>\n",
       "      <td>-1.644939</td>\n",
       "      <td>-0.906305</td>\n",
       "      <td>-0.049740</td>\n",
       "      <td>-1.155332</td>\n",
       "      <td>-0.986993</td>\n",
       "      <td>0</td>\n",
       "    </tr>\n",
       "    <tr>\n",
       "      <th>4</th>\n",
       "      <td>0.430712</td>\n",
       "      <td>-0.749531</td>\n",
       "      <td>-0.284073</td>\n",
       "      <td>-1.440874</td>\n",
       "      <td>-0.009193</td>\n",
       "      <td>0.963609</td>\n",
       "      <td>-0.409284</td>\n",
       "      <td>-0.661530</td>\n",
       "      <td>0.731850</td>\n",
       "      <td>0.727884</td>\n",
       "      <td>...</td>\n",
       "      <td>0.947301</td>\n",
       "      <td>0.249588</td>\n",
       "      <td>-0.390321</td>\n",
       "      <td>0.162454</td>\n",
       "      <td>-0.975689</td>\n",
       "      <td>-1.023979</td>\n",
       "      <td>-1.142809</td>\n",
       "      <td>-1.084388</td>\n",
       "      <td>-0.696420</td>\n",
       "      <td>0</td>\n",
       "    </tr>\n",
       "  </tbody>\n",
       "</table>\n",
       "<p>5 rows × 21 columns</p>\n",
       "</div>"
      ],
      "text/plain": [
       "        age       job   marital  education   default   housing      loan  \\\n",
       "0  0.430712 -0.749531 -0.284073  -1.440874 -0.009193  0.963609 -0.409284   \n",
       "1  0.430712 -1.026811 -0.284073  -0.432684 -0.009193  0.963609 -0.409284   \n",
       "2  0.430712 -1.026811 -0.284073  -1.440874 -0.009193  0.963609  2.443291   \n",
       "3  0.430712 -1.026811 -0.284073   1.079601 -0.009193  0.963609 -0.409284   \n",
       "4  0.430712 -0.749531 -0.284073  -1.440874 -0.009193  0.963609 -0.409284   \n",
       "\n",
       "    contact     month  day_of_week  ...  campaign     pdays  previous  \\\n",
       "0 -0.661530 -0.508577    -0.709064  ...  0.947301  0.249588 -0.390321   \n",
       "1  1.511648  0.731850     0.009410  ...  0.575650  0.249588 -0.390321   \n",
       "2  1.511648  0.731850     0.727884  ... -0.539300  0.249588 -0.390321   \n",
       "3 -0.661530 -0.095102    -0.709064  ... -0.539300  0.249588  1.459600   \n",
       "4 -0.661530  0.731850     0.727884  ...  0.947301  0.249588 -0.390321   \n",
       "\n",
       "   poutcome  emp.var.rate  cons.price.idx  cons.conf.idx  euribor3m  \\\n",
       "0  0.162454      0.971222        0.699099      -0.434338   0.904239   \n",
       "1  0.162454      0.788699        0.826859       0.840909   0.849244   \n",
       "2  0.162454      0.788699        0.826859       0.840909   0.847594   \n",
       "3 -2.255863     -1.644939       -0.906305      -0.049740  -1.155332   \n",
       "4  0.162454     -0.975689       -1.023979      -1.142809  -1.084388   \n",
       "\n",
       "   nr.employed  y  \n",
       "0     0.940431  0  \n",
       "1     0.469678  0  \n",
       "2     0.469678  0  \n",
       "3    -0.986993  0  \n",
       "4    -0.696420  0  \n",
       "\n",
       "[5 rows x 21 columns]"
      ]
     },
     "execution_count": 35,
     "metadata": {},
     "output_type": "execute_result"
    }
   ],
   "source": [
    "test_m3 = pd.read_csv('../../../../Data_AA2/test_m3.csv', sep = ',')\n",
    "test_m3.head()"
   ]
  },
  {
   "cell_type": "code",
   "execution_count": 36,
   "metadata": {},
   "outputs": [],
   "source": [
    "#get target\n",
    "train_m3_target = train_m3['y']\n",
    "train_m3 = train_m3.drop(columns=['y'])"
   ]
  },
  {
   "cell_type": "code",
   "execution_count": 37,
   "metadata": {},
   "outputs": [],
   "source": [
    "#get target\n",
    "test_m3_target = test_m3['y']\n",
    "test_m3 = test_m3.drop(columns=['y'])"
   ]
  },
  {
   "cell_type": "markdown",
   "metadata": {},
   "source": [
    "### Check for lower errors"
   ]
  },
  {
   "cell_type": "code",
   "execution_count": 40,
   "metadata": {},
   "outputs": [
    {
     "name": "stderr",
     "output_type": "stream",
     "text": [
      "100%|██████████████████████████████████████████████████████████████████████████████████| 99/99 [07:59<00:00,  4.85s/it]\n"
     ]
    }
   ],
   "source": [
    "error_rate = []\n",
    "\n",
    "for i in tqdm(range(1,100)):\n",
    "    knn = KNeighborsClassifier(n_neighbors=i)\n",
    "    knn.fit(train_m3,train_m3_target)\n",
    "    predictions = knn.predict(test_m3)\n",
    "    error_rate.append(np.mean(predictions != test_m3_target))"
   ]
  },
  {
   "cell_type": "code",
   "execution_count": 41,
   "metadata": {},
   "outputs": [
    {
     "data": {
      "text/plain": [
       "Text(0, 0.5, 'Error Rate')"
      ]
     },
     "execution_count": 41,
     "metadata": {},
     "output_type": "execute_result"
    },
    {
     "data": {
      "image/png": "[encoded data removed]",
      "text/plain": [
       "<Figure size 1800x432 with 1 Axes>"
      ]
     },
     "metadata": {
      "needs_background": "light"
     },
     "output_type": "display_data"
    }
   ],
   "source": [
    "plt.figure(figsize=(25,6))\n",
    "plt.plot(range(1,100),error_rate,color='blue',linestyle='dashed',marker='o',markerfacecolor='red',markersize=10)\n",
    "plt.title('Error Rate vs DepthValue')\n",
    "plt.xlabel(\"depth\")\n",
    "plt.ylabel(\"Error Rate\")"
   ]
  },
  {
   "cell_type": "markdown",
   "metadata": {},
   "source": [
    "#### Hyperparameter tuning using GridSearchCV"
   ]
  },
  {
   "cell_type": "code",
   "execution_count": 42,
   "metadata": {},
   "outputs": [
    {
     "name": "stdout",
     "output_type": "stream",
     "text": [
      "Fitting 5 folds for each of 8 candidates, totalling 40 fits\n",
      "KNeighborsClassifier(metric='manhattan', n_neighbors=26, weights='distance')\n"
     ]
    }
   ],
   "source": [
    "# Create the parameter grid based on the results of random search \n",
    "parameters = {\n",
    "    'n_neighbors': [26,28],\n",
    "    'weights': ['uniform', 'distance'],\n",
    "    'metric': ['euclidean', 'manhattan'],\n",
    "}\n",
    "\n",
    "# Create the model\n",
    "knn_model = KNeighborsClassifier()\n",
    "\n",
    "# Best model\n",
    "opt_model_knn = GridSearchCV(knn_model, parameters,  scoring='accuracy', verbose=1)\n",
    "\n",
    "# Fit the model\n",
    "opt_model_knn.fit(train_m3, train_m3_target)\n",
    "\n",
    "print (opt_model_knn.best_estimator_)"
   ]
  },
  {
   "cell_type": "markdown",
   "metadata": {},
   "source": [
    "#### Create and fit the model"
   ]
  },
  {
   "cell_type": "code",
   "execution_count": 43,
   "metadata": {},
   "outputs": [
    {
     "data": {
      "text/plain": [
       "KNeighborsClassifier(metric='manhattan', n_neighbors=26, weights='distance')"
      ]
     },
     "execution_count": 43,
     "metadata": {},
     "output_type": "execute_result"
    }
   ],
   "source": [
    "# Create model with best parameters\n",
    "knn_best_model = KNeighborsClassifier(metric='manhattan', n_neighbors=26, weights='distance')\n",
    "\n",
    "# Fit the best model\n",
    "knn_best_model.fit(train_m3, train_m3_target)\n",
    "knn_best_model"
   ]
  },
  {
   "cell_type": "code",
   "execution_count": 44,
   "metadata": {},
   "outputs": [
    {
     "name": "stdout",
     "output_type": "stream",
     "text": [
      "Predicted     0     1   All\n",
      "Actual                     \n",
      "0          7478   482  7960\n",
      "1           589   598  1187\n",
      "All        8067  1080  9147\n"
     ]
    }
   ],
   "source": [
    "predictions = knn_best_model.predict(test_m3)\n",
    "\n",
    "# Confusion matrix\n",
    "confusion = pd.crosstab(test_m3_target,predictions, rownames=['Actual'], colnames=['Predicted'], margins=True)\n",
    "print(confusion )"
   ]
  },
  {
   "cell_type": "code",
   "execution_count": 45,
   "metadata": {},
   "outputs": [
    {
     "name": "stdout",
     "output_type": "stream",
     "text": [
      "Accuracy:0.882912\n"
     ]
    }
   ],
   "source": [
    "# Accuracy\n",
    "score = accuracy_score(test_m3_target,predictions)\n",
    "print('Accuracy:{0:f}'.format(score))"
   ]
  },
  {
   "cell_type": "code",
   "execution_count": 46,
   "metadata": {},
   "outputs": [
    {
     "name": "stdout",
     "output_type": "stream",
     "text": [
      "              precision    recall  f1-score   support\n",
      "\n",
      "           0       0.93      0.94      0.93      7960\n",
      "           1       0.55      0.50      0.53      1187\n",
      "\n",
      "    accuracy                           0.88      9147\n",
      "   macro avg       0.74      0.72      0.73      9147\n",
      "weighted avg       0.88      0.88      0.88      9147\n",
      "\n"
     ]
    }
   ],
   "source": [
    "# Report\n",
    "print(classification_report(test_m3_target,predictions))"
   ]
  },
  {
   "cell_type": "code",
   "execution_count": 47,
   "metadata": {},
   "outputs": [
    {
     "data": {
      "text/plain": [
       "0.8835195734432467"
      ]
     },
     "execution_count": 47,
     "metadata": {},
     "output_type": "execute_result"
    }
   ],
   "source": [
    "# Validate model using best model and cross validation\n",
    "pecc_knn = cross_val_score(knn_best_model, train_m3, train_m3_target, cv = 5).mean()\n",
    "pecc_knn"
   ]
  },
  {
   "cell_type": "markdown",
   "metadata": {},
   "source": [
    "### Model 4\n",
    "#### Read CSV"
   ]
  },
  {
   "cell_type": "code",
   "execution_count": 2,
   "metadata": {},
   "outputs": [
    {
     "data": {
      "text/html": [
       "<div>\n",
       "<style scoped>\n",
       "    .dataframe tbody tr th:only-of-type {\n",
       "        vertical-align: middle;\n",
       "    }\n",
       "\n",
       "    .dataframe tbody tr th {\n",
       "        vertical-align: top;\n",
       "    }\n",
       "\n",
       "    .dataframe thead th {\n",
       "        text-align: right;\n",
       "    }\n",
       "</style>\n",
       "<table border=\"1\" class=\"dataframe\">\n",
       "  <thead>\n",
       "    <tr style=\"text-align: right;\">\n",
       "      <th></th>\n",
       "      <th>job</th>\n",
       "      <th>marital</th>\n",
       "      <th>education</th>\n",
       "      <th>default</th>\n",
       "      <th>contact</th>\n",
       "      <th>duration</th>\n",
       "      <th>campaign</th>\n",
       "      <th>pdays</th>\n",
       "      <th>previous</th>\n",
       "      <th>poutcome</th>\n",
       "      <th>emp.var.rate</th>\n",
       "      <th>cons.price.idx</th>\n",
       "      <th>cons.conf.idx</th>\n",
       "      <th>euribor3m</th>\n",
       "      <th>nr.employed</th>\n",
       "      <th>y</th>\n",
       "    </tr>\n",
       "  </thead>\n",
       "  <tbody>\n",
       "    <tr>\n",
       "      <th>0</th>\n",
       "      <td>-1.038917</td>\n",
       "      <td>1.363073</td>\n",
       "      <td>-0.351284</td>\n",
       "      <td>-0.512695</td>\n",
       "      <td>1.325358</td>\n",
       "      <td>0.350664</td>\n",
       "      <td>-0.204429</td>\n",
       "      <td>0.196894</td>\n",
       "      <td>-0.351367</td>\n",
       "      <td>0.195096</td>\n",
       "      <td>0.840943</td>\n",
       "      <td>1.537557</td>\n",
       "      <td>-0.279432</td>\n",
       "      <td>0.778118</td>\n",
       "      <td>0.846583</td>\n",
       "      <td>0</td>\n",
       "    </tr>\n",
       "    <tr>\n",
       "      <th>1</th>\n",
       "      <td>-0.761163</td>\n",
       "      <td>-0.286126</td>\n",
       "      <td>-0.820426</td>\n",
       "      <td>-0.512695</td>\n",
       "      <td>1.325358</td>\n",
       "      <td>1.966453</td>\n",
       "      <td>0.156584</td>\n",
       "      <td>0.196894</td>\n",
       "      <td>-0.351367</td>\n",
       "      <td>0.195096</td>\n",
       "      <td>0.840943</td>\n",
       "      <td>0.594054</td>\n",
       "      <td>-0.473904</td>\n",
       "      <td>0.774087</td>\n",
       "      <td>0.846583</td>\n",
       "      <td>1</td>\n",
       "    </tr>\n",
       "    <tr>\n",
       "      <th>2</th>\n",
       "      <td>-1.038917</td>\n",
       "      <td>-0.286126</td>\n",
       "      <td>1.056145</td>\n",
       "      <td>-0.512695</td>\n",
       "      <td>-0.754513</td>\n",
       "      <td>-0.457231</td>\n",
       "      <td>-0.565442</td>\n",
       "      <td>0.196894</td>\n",
       "      <td>1.645136</td>\n",
       "      <td>-2.544702</td>\n",
       "      <td>-1.193288</td>\n",
       "      <td>-1.173936</td>\n",
       "      <td>-1.230186</td>\n",
       "      <td>-1.325914</td>\n",
       "      <td>-0.938246</td>\n",
       "      <td>0</td>\n",
       "    </tr>\n",
       "    <tr>\n",
       "      <th>3</th>\n",
       "      <td>-1.038917</td>\n",
       "      <td>1.363073</td>\n",
       "      <td>1.056145</td>\n",
       "      <td>-0.512695</td>\n",
       "      <td>1.325358</td>\n",
       "      <td>0.350664</td>\n",
       "      <td>-0.565442</td>\n",
       "      <td>0.196894</td>\n",
       "      <td>-0.351367</td>\n",
       "      <td>0.195096</td>\n",
       "      <td>-1.193288</td>\n",
       "      <td>-0.860010</td>\n",
       "      <td>-1.424658</td>\n",
       "      <td>-1.272939</td>\n",
       "      <td>-0.938246</td>\n",
       "      <td>0</td>\n",
       "    </tr>\n",
       "    <tr>\n",
       "      <th>4</th>\n",
       "      <td>-1.038917</td>\n",
       "      <td>-0.286126</td>\n",
       "      <td>1.056145</td>\n",
       "      <td>1.948838</td>\n",
       "      <td>1.325358</td>\n",
       "      <td>-1.265125</td>\n",
       "      <td>0.517596</td>\n",
       "      <td>0.196894</td>\n",
       "      <td>-0.351367</td>\n",
       "      <td>0.195096</td>\n",
       "      <td>0.840943</td>\n",
       "      <td>1.537557</td>\n",
       "      <td>-0.279432</td>\n",
       "      <td>0.771208</td>\n",
       "      <td>0.846583</td>\n",
       "      <td>0</td>\n",
       "    </tr>\n",
       "  </tbody>\n",
       "</table>\n",
       "</div>"
      ],
      "text/plain": [
       "        job   marital  education   default   contact  duration  campaign  \\\n",
       "0 -1.038917  1.363073  -0.351284 -0.512695  1.325358  0.350664 -0.204429   \n",
       "1 -0.761163 -0.286126  -0.820426 -0.512695  1.325358  1.966453  0.156584   \n",
       "2 -1.038917 -0.286126   1.056145 -0.512695 -0.754513 -0.457231 -0.565442   \n",
       "3 -1.038917  1.363073   1.056145 -0.512695  1.325358  0.350664 -0.565442   \n",
       "4 -1.038917 -0.286126   1.056145  1.948838  1.325358 -1.265125  0.517596   \n",
       "\n",
       "      pdays  previous  poutcome  emp.var.rate  cons.price.idx  cons.conf.idx  \\\n",
       "0  0.196894 -0.351367  0.195096      0.840943        1.537557      -0.279432   \n",
       "1  0.196894 -0.351367  0.195096      0.840943        0.594054      -0.473904   \n",
       "2  0.196894  1.645136 -2.544702     -1.193288       -1.173936      -1.230186   \n",
       "3  0.196894 -0.351367  0.195096     -1.193288       -0.860010      -1.424658   \n",
       "4  0.196894 -0.351367  0.195096      0.840943        1.537557      -0.279432   \n",
       "\n",
       "   euribor3m  nr.employed  y  \n",
       "0   0.778118     0.846583  0  \n",
       "1   0.774087     0.846583  1  \n",
       "2  -1.325914    -0.938246  0  \n",
       "3  -1.272939    -0.938246  0  \n",
       "4   0.771208     0.846583  0  "
      ]
     },
     "execution_count": 2,
     "metadata": {},
     "output_type": "execute_result"
    }
   ],
   "source": [
    "train_m4 = pd.read_csv('../../../../Data_AA2/train_m4.csv', sep = ',')\n",
    "train_m4.head()"
   ]
  },
  {
   "cell_type": "code",
   "execution_count": 3,
   "metadata": {},
   "outputs": [
    {
     "data": {
      "text/html": [
       "<div>\n",
       "<style scoped>\n",
       "    .dataframe tbody tr th:only-of-type {\n",
       "        vertical-align: middle;\n",
       "    }\n",
       "\n",
       "    .dataframe tbody tr th {\n",
       "        vertical-align: top;\n",
       "    }\n",
       "\n",
       "    .dataframe thead th {\n",
       "        text-align: right;\n",
       "    }\n",
       "</style>\n",
       "<table border=\"1\" class=\"dataframe\">\n",
       "  <thead>\n",
       "    <tr style=\"text-align: right;\">\n",
       "      <th></th>\n",
       "      <th>job</th>\n",
       "      <th>marital</th>\n",
       "      <th>education</th>\n",
       "      <th>default</th>\n",
       "      <th>contact</th>\n",
       "      <th>duration</th>\n",
       "      <th>campaign</th>\n",
       "      <th>pdays</th>\n",
       "      <th>previous</th>\n",
       "      <th>poutcome</th>\n",
       "      <th>emp.var.rate</th>\n",
       "      <th>cons.price.idx</th>\n",
       "      <th>cons.conf.idx</th>\n",
       "      <th>euribor3m</th>\n",
       "      <th>nr.employed</th>\n",
       "      <th>y</th>\n",
       "    </tr>\n",
       "  </thead>\n",
       "  <tbody>\n",
       "    <tr>\n",
       "      <th>0</th>\n",
       "      <td>0.349854</td>\n",
       "      <td>-0.286126</td>\n",
       "      <td>-0.351284</td>\n",
       "      <td>-0.512695</td>\n",
       "      <td>-0.754513</td>\n",
       "      <td>1.158558</td>\n",
       "      <td>-0.565442</td>\n",
       "      <td>0.196894</td>\n",
       "      <td>-0.351367</td>\n",
       "      <td>0.195096</td>\n",
       "      <td>-0.112602</td>\n",
       "      <td>-0.644401</td>\n",
       "      <td>-0.322648</td>\n",
       "      <td>0.265066</td>\n",
       "      <td>0.399684</td>\n",
       "      <td>1</td>\n",
       "    </tr>\n",
       "    <tr>\n",
       "      <th>1</th>\n",
       "      <td>0.905362</td>\n",
       "      <td>-0.286126</td>\n",
       "      <td>-0.351284</td>\n",
       "      <td>1.948838</td>\n",
       "      <td>-0.754513</td>\n",
       "      <td>-1.265125</td>\n",
       "      <td>-0.565442</td>\n",
       "      <td>0.196894</td>\n",
       "      <td>-0.351367</td>\n",
       "      <td>0.195096</td>\n",
       "      <td>-0.112602</td>\n",
       "      <td>-0.644401</td>\n",
       "      <td>-0.322648</td>\n",
       "      <td>0.233396</td>\n",
       "      <td>0.399684</td>\n",
       "      <td>0</td>\n",
       "    </tr>\n",
       "    <tr>\n",
       "      <th>2</th>\n",
       "      <td>-0.761163</td>\n",
       "      <td>-0.286126</td>\n",
       "      <td>-1.758712</td>\n",
       "      <td>1.948838</td>\n",
       "      <td>1.325358</td>\n",
       "      <td>-0.457231</td>\n",
       "      <td>-0.565442</td>\n",
       "      <td>0.196894</td>\n",
       "      <td>-0.351367</td>\n",
       "      <td>0.195096</td>\n",
       "      <td>0.650234</td>\n",
       "      <td>0.725144</td>\n",
       "      <td>0.887403</td>\n",
       "      <td>0.714778</td>\n",
       "      <td>0.333271</td>\n",
       "      <td>0</td>\n",
       "    </tr>\n",
       "    <tr>\n",
       "      <th>3</th>\n",
       "      <td>1.460871</td>\n",
       "      <td>1.363073</td>\n",
       "      <td>1.056145</td>\n",
       "      <td>-0.512695</td>\n",
       "      <td>-0.754513</td>\n",
       "      <td>1.966453</td>\n",
       "      <td>-0.565442</td>\n",
       "      <td>0.196894</td>\n",
       "      <td>1.645136</td>\n",
       "      <td>-2.544702</td>\n",
       "      <td>-1.193288</td>\n",
       "      <td>-1.173936</td>\n",
       "      <td>-1.230186</td>\n",
       "      <td>-1.333976</td>\n",
       "      <td>-0.938246</td>\n",
       "      <td>1</td>\n",
       "    </tr>\n",
       "    <tr>\n",
       "      <th>4</th>\n",
       "      <td>-1.038917</td>\n",
       "      <td>-1.935325</td>\n",
       "      <td>-0.351284</td>\n",
       "      <td>-0.512695</td>\n",
       "      <td>1.325358</td>\n",
       "      <td>-1.265125</td>\n",
       "      <td>-0.204429</td>\n",
       "      <td>0.196894</td>\n",
       "      <td>1.645136</td>\n",
       "      <td>-2.544702</td>\n",
       "      <td>-1.193288</td>\n",
       "      <td>-1.173936</td>\n",
       "      <td>-1.230186</td>\n",
       "      <td>-1.333976</td>\n",
       "      <td>-0.938246</td>\n",
       "      <td>0</td>\n",
       "    </tr>\n",
       "  </tbody>\n",
       "</table>\n",
       "</div>"
      ],
      "text/plain": [
       "        job   marital  education   default   contact  duration  campaign  \\\n",
       "0  0.349854 -0.286126  -0.351284 -0.512695 -0.754513  1.158558 -0.565442   \n",
       "1  0.905362 -0.286126  -0.351284  1.948838 -0.754513 -1.265125 -0.565442   \n",
       "2 -0.761163 -0.286126  -1.758712  1.948838  1.325358 -0.457231 -0.565442   \n",
       "3  1.460871  1.363073   1.056145 -0.512695 -0.754513  1.966453 -0.565442   \n",
       "4 -1.038917 -1.935325  -0.351284 -0.512695  1.325358 -1.265125 -0.204429   \n",
       "\n",
       "      pdays  previous  poutcome  emp.var.rate  cons.price.idx  cons.conf.idx  \\\n",
       "0  0.196894 -0.351367  0.195096     -0.112602       -0.644401      -0.322648   \n",
       "1  0.196894 -0.351367  0.195096     -0.112602       -0.644401      -0.322648   \n",
       "2  0.196894 -0.351367  0.195096      0.650234        0.725144       0.887403   \n",
       "3  0.196894  1.645136 -2.544702     -1.193288       -1.173936      -1.230186   \n",
       "4  0.196894  1.645136 -2.544702     -1.193288       -1.173936      -1.230186   \n",
       "\n",
       "   euribor3m  nr.employed  y  \n",
       "0   0.265066     0.399684  1  \n",
       "1   0.233396     0.399684  0  \n",
       "2   0.714778     0.333271  0  \n",
       "3  -1.333976    -0.938246  1  \n",
       "4  -1.333976    -0.938246  0  "
      ]
     },
     "execution_count": 3,
     "metadata": {},
     "output_type": "execute_result"
    }
   ],
   "source": [
    "test_m4 = pd.read_csv('../../../../Data_AA2/test_m4.csv', sep = ',')\n",
    "test_m4.head()"
   ]
  },
  {
   "cell_type": "code",
   "execution_count": 4,
   "metadata": {},
   "outputs": [],
   "source": [
    "#get target\n",
    "train_m4_target = train_m4['y']\n",
    "train_m4 = train_m4.drop(columns=['y'])"
   ]
  },
  {
   "cell_type": "code",
   "execution_count": 5,
   "metadata": {},
   "outputs": [],
   "source": [
    "#get target\n",
    "test_m4_target = test_m4['y']\n",
    "test_m4 = test_m4.drop(columns=['y'])"
   ]
  },
  {
   "cell_type": "markdown",
   "metadata": {},
   "source": [
    "### Check for lower errors"
   ]
  },
  {
   "cell_type": "code",
   "execution_count": 6,
   "metadata": {},
   "outputs": [
    {
     "name": "stderr",
     "output_type": "stream",
     "text": [
      "100%|██████████████████████████████████████████████████████████████████████████████████| 99/99 [08:59<00:00,  5.45s/it]\n"
     ]
    }
   ],
   "source": [
    "error_rate = []\n",
    "\n",
    "for i in tqdm(range(1,100)):\n",
    "    knn = KNeighborsClassifier(n_neighbors=i)\n",
    "    knn.fit(train_m4,train_m4_target)\n",
    "    predictions = knn.predict(test_m4)\n",
    "    error_rate.append(np.mean(predictions != test_m4_target))"
   ]
  },
  {
   "cell_type": "code",
   "execution_count": 7,
   "metadata": {},
   "outputs": [
    {
     "data": {
      "text/plain": [
       "Text(0, 0.5, 'Error Rate')"
      ]
     },
     "execution_count": 7,
     "metadata": {},
     "output_type": "execute_result"
    },
    {
     "data": {
      "image/png": "[encoded data removed]",
      "text/plain": [
       "<Figure size 1800x432 with 1 Axes>"
      ]
     },
     "metadata": {
      "needs_background": "light"
     },
     "output_type": "display_data"
    }
   ],
   "source": [
    "plt.figure(figsize=(25,6))\n",
    "plt.plot(range(1,100),error_rate,color='blue',linestyle='dashed',marker='o',markerfacecolor='red',markersize=10)\n",
    "plt.title('Error Rate vs DepthValue')\n",
    "plt.xlabel(\"depth\")\n",
    "plt.ylabel(\"Error Rate\")"
   ]
  },
  {
   "cell_type": "markdown",
   "metadata": {},
   "source": [
    "#### Hyperparameter tuning using GridSearchCV"
   ]
  },
  {
   "cell_type": "code",
   "execution_count": 8,
   "metadata": {},
   "outputs": [
    {
     "name": "stdout",
     "output_type": "stream",
     "text": [
      "Fitting 5 folds for each of 12 candidates, totalling 60 fits\n",
      "KNeighborsClassifier(metric='manhattan', n_neighbors=29)\n"
     ]
    }
   ],
   "source": [
    "# Create the parameter grid based on the results of random search \n",
    "parameters = {\n",
    "    'n_neighbors': [28,29,30],\n",
    "    'weights': ['uniform', 'distance'],\n",
    "    'metric': ['euclidean', 'manhattan'],\n",
    "}\n",
    "\n",
    "# Create the model\n",
    "knn_model = KNeighborsClassifier()\n",
    "\n",
    "# Best model\n",
    "opt_model_knn = GridSearchCV(knn_model, parameters,  scoring='accuracy', verbose=1)\n",
    "\n",
    "# Fit the model\n",
    "opt_model_knn.fit(train_m4, train_m4_target)\n",
    "\n",
    "print (opt_model_knn.best_estimator_)"
   ]
  },
  {
   "cell_type": "markdown",
   "metadata": {},
   "source": [
    "#### Create and fit the model"
   ]
  },
  {
   "cell_type": "code",
   "execution_count": 9,
   "metadata": {},
   "outputs": [
    {
     "data": {
      "text/plain": [
       "KNeighborsClassifier(metric='manhattan', n_neighbors=29)"
      ]
     },
     "execution_count": 9,
     "metadata": {},
     "output_type": "execute_result"
    }
   ],
   "source": [
    "# Create model with best parameters\n",
    "knn_best_model = KNeighborsClassifier(metric='manhattan', n_neighbors=29)\n",
    "\n",
    "# Fit the best model\n",
    "knn_best_model.fit(train_m4, train_m4_target)\n",
    "knn_best_model"
   ]
  },
  {
   "cell_type": "code",
   "execution_count": 10,
   "metadata": {},
   "outputs": [
    {
     "name": "stdout",
     "output_type": "stream",
     "text": [
      "Predicted      0    1    All\n",
      "Actual                      \n",
      "0          10738  229  10967\n",
      "1            937  453   1390\n",
      "All        11675  682  12357\n"
     ]
    }
   ],
   "source": [
    "predictions = knn_best_model.predict(test_m4)\n",
    "\n",
    "# Confusion matrix\n",
    "confusion = pd.crosstab(test_m4_target,predictions, rownames=['Actual'], colnames=['Predicted'], margins=True)\n",
    "print(confusion )"
   ]
  },
  {
   "cell_type": "code",
   "execution_count": 11,
   "metadata": {},
   "outputs": [
    {
     "name": "stdout",
     "output_type": "stream",
     "text": [
      "Accuracy:0.905641\n"
     ]
    }
   ],
   "source": [
    "# Accuracy\n",
    "score = accuracy_score(test_m4_target,predictions)\n",
    "print('Accuracy:{0:f}'.format(score))"
   ]
  },
  {
   "cell_type": "code",
   "execution_count": 12,
   "metadata": {},
   "outputs": [
    {
     "name": "stdout",
     "output_type": "stream",
     "text": [
      "              precision    recall  f1-score   support\n",
      "\n",
      "           0       0.92      0.98      0.95     10967\n",
      "           1       0.66      0.33      0.44      1390\n",
      "\n",
      "    accuracy                           0.91     12357\n",
      "   macro avg       0.79      0.65      0.69     12357\n",
      "weighted avg       0.89      0.91      0.89     12357\n",
      "\n"
     ]
    }
   ],
   "source": [
    "# Report\n",
    "print(classification_report(test_m4_target,predictions))"
   ]
  },
  {
   "cell_type": "code",
   "execution_count": 13,
   "metadata": {},
   "outputs": [
    {
     "data": {
      "text/plain": [
       "0.9063856088870492"
      ]
     },
     "execution_count": 13,
     "metadata": {},
     "output_type": "execute_result"
    }
   ],
   "source": [
    "# Validate model using best model and cross validation\n",
    "pecc_knn = cross_val_score(knn_best_model, train_m4, train_m4_target, cv = 5).mean()\n",
    "pecc_knn"
   ]
  },
  {
   "cell_type": "markdown",
   "metadata": {},
   "source": [
    "### Model 5\n",
    "#### Read CSV"
   ]
  },
  {
   "cell_type": "code",
   "execution_count": 60,
   "metadata": {},
   "outputs": [
    {
     "data": {
      "text/html": [
       "<div>\n",
       "<style scoped>\n",
       "    .dataframe tbody tr th:only-of-type {\n",
       "        vertical-align: middle;\n",
       "    }\n",
       "\n",
       "    .dataframe tbody tr th {\n",
       "        vertical-align: top;\n",
       "    }\n",
       "\n",
       "    .dataframe thead th {\n",
       "        text-align: right;\n",
       "    }\n",
       "</style>\n",
       "<table border=\"1\" class=\"dataframe\">\n",
       "  <thead>\n",
       "    <tr style=\"text-align: right;\">\n",
       "      <th></th>\n",
       "      <th>index</th>\n",
       "      <th>age</th>\n",
       "      <th>job</th>\n",
       "      <th>marital</th>\n",
       "      <th>education</th>\n",
       "      <th>default</th>\n",
       "      <th>housing</th>\n",
       "      <th>loan</th>\n",
       "      <th>contact</th>\n",
       "      <th>month</th>\n",
       "      <th>...</th>\n",
       "      <th>campaign</th>\n",
       "      <th>pdays</th>\n",
       "      <th>previous</th>\n",
       "      <th>poutcome</th>\n",
       "      <th>emp.var.rate</th>\n",
       "      <th>cons.price.idx</th>\n",
       "      <th>cons.conf.idx</th>\n",
       "      <th>euribor3m</th>\n",
       "      <th>nr.employed</th>\n",
       "      <th>y</th>\n",
       "    </tr>\n",
       "  </thead>\n",
       "  <tbody>\n",
       "    <tr>\n",
       "      <th>0</th>\n",
       "      <td>1.542856</td>\n",
       "      <td>-1.154683</td>\n",
       "      <td>1.504582</td>\n",
       "      <td>1.376593</td>\n",
       "      <td>0.689601</td>\n",
       "      <td>-0.010201</td>\n",
       "      <td>0.928497</td>\n",
       "      <td>-0.429774</td>\n",
       "      <td>-0.758480</td>\n",
       "      <td>1.194001</td>\n",
       "      <td>...</td>\n",
       "      <td>-0.204674</td>\n",
       "      <td>-5.083824</td>\n",
       "      <td>1.660200</td>\n",
       "      <td>2.938971</td>\n",
       "      <td>-1.947193</td>\n",
       "      <td>-0.804593</td>\n",
       "      <td>2.226079</td>\n",
       "      <td>-1.425183</td>\n",
       "      <td>-2.064840</td>\n",
       "      <td>1.0</td>\n",
       "    </tr>\n",
       "    <tr>\n",
       "      <th>1</th>\n",
       "      <td>-0.506227</td>\n",
       "      <td>-0.963193</td>\n",
       "      <td>-0.754426</td>\n",
       "      <td>1.376593</td>\n",
       "      <td>-1.766225</td>\n",
       "      <td>-0.010201</td>\n",
       "      <td>0.928497</td>\n",
       "      <td>-0.429774</td>\n",
       "      <td>-0.758480</td>\n",
       "      <td>-0.531893</td>\n",
       "      <td>...</td>\n",
       "      <td>-0.204674</td>\n",
       "      <td>0.196704</td>\n",
       "      <td>-0.351282</td>\n",
       "      <td>0.193233</td>\n",
       "      <td>0.763192</td>\n",
       "      <td>0.898330</td>\n",
       "      <td>-0.539387</td>\n",
       "      <td>0.760455</td>\n",
       "      <td>0.845530</td>\n",
       "      <td>0.0</td>\n",
       "    </tr>\n",
       "    <tr>\n",
       "      <th>2</th>\n",
       "      <td>-1.116306</td>\n",
       "      <td>1.334690</td>\n",
       "      <td>1.504582</td>\n",
       "      <td>-1.926794</td>\n",
       "      <td>1.180766</td>\n",
       "      <td>-0.010201</td>\n",
       "      <td>-1.077009</td>\n",
       "      <td>2.326804</td>\n",
       "      <td>1.318426</td>\n",
       "      <td>0.762528</td>\n",
       "      <td>...</td>\n",
       "      <td>-0.204674</td>\n",
       "      <td>0.196704</td>\n",
       "      <td>-0.351282</td>\n",
       "      <td>0.193233</td>\n",
       "      <td>0.763192</td>\n",
       "      <td>0.898330</td>\n",
       "      <td>0.949710</td>\n",
       "      <td>0.760455</td>\n",
       "      <td>0.332751</td>\n",
       "      <td>0.0</td>\n",
       "    </tr>\n",
       "    <tr>\n",
       "      <th>3</th>\n",
       "      <td>-1.179061</td>\n",
       "      <td>-0.197232</td>\n",
       "      <td>-1.036802</td>\n",
       "      <td>-0.275101</td>\n",
       "      <td>1.180766</td>\n",
       "      <td>-0.010201</td>\n",
       "      <td>0.928497</td>\n",
       "      <td>2.326804</td>\n",
       "      <td>1.318426</td>\n",
       "      <td>0.762528</td>\n",
       "      <td>...</td>\n",
       "      <td>-0.204674</td>\n",
       "      <td>0.196704</td>\n",
       "      <td>-0.351282</td>\n",
       "      <td>0.193233</td>\n",
       "      <td>0.763192</td>\n",
       "      <td>0.898330</td>\n",
       "      <td>0.949710</td>\n",
       "      <td>0.760455</td>\n",
       "      <td>0.332751</td>\n",
       "      <td>0.0</td>\n",
       "    </tr>\n",
       "    <tr>\n",
       "      <th>4</th>\n",
       "      <td>0.880355</td>\n",
       "      <td>-0.388722</td>\n",
       "      <td>-0.754426</td>\n",
       "      <td>1.376593</td>\n",
       "      <td>0.689601</td>\n",
       "      <td>-0.010201</td>\n",
       "      <td>0.928497</td>\n",
       "      <td>-0.429774</td>\n",
       "      <td>-0.758480</td>\n",
       "      <td>0.762528</td>\n",
       "      <td>...</td>\n",
       "      <td>-0.560688</td>\n",
       "      <td>0.196704</td>\n",
       "      <td>-0.351282</td>\n",
       "      <td>0.193233</td>\n",
       "      <td>-1.269597</td>\n",
       "      <td>-0.804593</td>\n",
       "      <td>-1.177571</td>\n",
       "      <td>-1.425183</td>\n",
       "      <td>-0.942269</td>\n",
       "      <td>0.0</td>\n",
       "    </tr>\n",
       "  </tbody>\n",
       "</table>\n",
       "<p>5 rows × 22 columns</p>\n",
       "</div>"
      ],
      "text/plain": [
       "      index       age       job   marital  education   default   housing  \\\n",
       "0  1.542856 -1.154683  1.504582  1.376593   0.689601 -0.010201  0.928497   \n",
       "1 -0.506227 -0.963193 -0.754426  1.376593  -1.766225 -0.010201  0.928497   \n",
       "2 -1.116306  1.334690  1.504582 -1.926794   1.180766 -0.010201 -1.077009   \n",
       "3 -1.179061 -0.197232 -1.036802 -0.275101   1.180766 -0.010201  0.928497   \n",
       "4  0.880355 -0.388722 -0.754426  1.376593   0.689601 -0.010201  0.928497   \n",
       "\n",
       "       loan   contact     month  ...  campaign     pdays  previous  poutcome  \\\n",
       "0 -0.429774 -0.758480  1.194001  ... -0.204674 -5.083824  1.660200  2.938971   \n",
       "1 -0.429774 -0.758480 -0.531893  ... -0.204674  0.196704 -0.351282  0.193233   \n",
       "2  2.326804  1.318426  0.762528  ... -0.204674  0.196704 -0.351282  0.193233   \n",
       "3  2.326804  1.318426  0.762528  ... -0.204674  0.196704 -0.351282  0.193233   \n",
       "4 -0.429774 -0.758480  0.762528  ... -0.560688  0.196704 -0.351282  0.193233   \n",
       "\n",
       "   emp.var.rate  cons.price.idx  cons.conf.idx  euribor3m  nr.employed    y  \n",
       "0     -1.947193       -0.804593       2.226079  -1.425183    -2.064840  1.0  \n",
       "1      0.763192        0.898330      -0.539387   0.760455     0.845530  0.0  \n",
       "2      0.763192        0.898330       0.949710   0.760455     0.332751  0.0  \n",
       "3      0.763192        0.898330       0.949710   0.760455     0.332751  0.0  \n",
       "4     -1.269597       -0.804593      -1.177571  -1.425183    -0.942269  0.0  \n",
       "\n",
       "[5 rows x 22 columns]"
      ]
     },
     "execution_count": 60,
     "metadata": {},
     "output_type": "execute_result"
    }
   ],
   "source": [
    "train_m5 = pd.read_csv('../../../../Data_AA2/train_m5.csv', sep = ',')\n",
    "train_m5.head()"
   ]
  },
  {
   "cell_type": "code",
   "execution_count": 61,
   "metadata": {},
   "outputs": [
    {
     "data": {
      "text/html": [
       "<div>\n",
       "<style scoped>\n",
       "    .dataframe tbody tr th:only-of-type {\n",
       "        vertical-align: middle;\n",
       "    }\n",
       "\n",
       "    .dataframe tbody tr th {\n",
       "        vertical-align: top;\n",
       "    }\n",
       "\n",
       "    .dataframe thead th {\n",
       "        text-align: right;\n",
       "    }\n",
       "</style>\n",
       "<table border=\"1\" class=\"dataframe\">\n",
       "  <thead>\n",
       "    <tr style=\"text-align: right;\">\n",
       "      <th></th>\n",
       "      <th>level_0</th>\n",
       "      <th>age</th>\n",
       "      <th>job</th>\n",
       "      <th>marital</th>\n",
       "      <th>education</th>\n",
       "      <th>default</th>\n",
       "      <th>housing</th>\n",
       "      <th>loan</th>\n",
       "      <th>contact</th>\n",
       "      <th>month</th>\n",
       "      <th>...</th>\n",
       "      <th>campaign</th>\n",
       "      <th>pdays</th>\n",
       "      <th>previous</th>\n",
       "      <th>poutcome</th>\n",
       "      <th>emp.var.rate</th>\n",
       "      <th>cons.price.idx</th>\n",
       "      <th>cons.conf.idx</th>\n",
       "      <th>euribor3m</th>\n",
       "      <th>nr.employed</th>\n",
       "      <th>y</th>\n",
       "    </tr>\n",
       "  </thead>\n",
       "  <tbody>\n",
       "    <tr>\n",
       "      <th>0</th>\n",
       "      <td>1</td>\n",
       "      <td>0.090003</td>\n",
       "      <td>0.939830</td>\n",
       "      <td>-0.275101</td>\n",
       "      <td>-0.292730</td>\n",
       "      <td>-0.010201</td>\n",
       "      <td>0.928497</td>\n",
       "      <td>-0.429774</td>\n",
       "      <td>1.318426</td>\n",
       "      <td>0.762528</td>\n",
       "      <td>...</td>\n",
       "      <td>0.507356</td>\n",
       "      <td>0.196704</td>\n",
       "      <td>-0.351282</td>\n",
       "      <td>0.193233</td>\n",
       "      <td>0.763192</td>\n",
       "      <td>0.898330</td>\n",
       "      <td>0.949710</td>\n",
       "      <td>0.760455</td>\n",
       "      <td>0.332751</td>\n",
       "      <td>0.0</td>\n",
       "    </tr>\n",
       "    <tr>\n",
       "      <th>1</th>\n",
       "      <td>2</td>\n",
       "      <td>-0.580213</td>\n",
       "      <td>-1.036802</td>\n",
       "      <td>1.376593</td>\n",
       "      <td>-0.292730</td>\n",
       "      <td>-0.010201</td>\n",
       "      <td>-1.077009</td>\n",
       "      <td>-0.429774</td>\n",
       "      <td>-0.758480</td>\n",
       "      <td>0.762528</td>\n",
       "      <td>...</td>\n",
       "      <td>2.287429</td>\n",
       "      <td>0.196704</td>\n",
       "      <td>-0.351282</td>\n",
       "      <td>0.193233</td>\n",
       "      <td>-1.269597</td>\n",
       "      <td>-0.804593</td>\n",
       "      <td>-1.177571</td>\n",
       "      <td>-1.425183</td>\n",
       "      <td>-0.942269</td>\n",
       "      <td>0.0</td>\n",
       "    </tr>\n",
       "    <tr>\n",
       "      <th>2</th>\n",
       "      <td>3</td>\n",
       "      <td>0.760219</td>\n",
       "      <td>-0.754426</td>\n",
       "      <td>-0.275101</td>\n",
       "      <td>-1.275060</td>\n",
       "      <td>-0.010201</td>\n",
       "      <td>0.928497</td>\n",
       "      <td>-0.429774</td>\n",
       "      <td>-0.758480</td>\n",
       "      <td>0.762528</td>\n",
       "      <td>...</td>\n",
       "      <td>-0.204674</td>\n",
       "      <td>0.196704</td>\n",
       "      <td>-0.351282</td>\n",
       "      <td>0.193233</td>\n",
       "      <td>-1.269597</td>\n",
       "      <td>-0.804593</td>\n",
       "      <td>-1.177571</td>\n",
       "      <td>-1.425183</td>\n",
       "      <td>-0.942269</td>\n",
       "      <td>0.0</td>\n",
       "    </tr>\n",
       "    <tr>\n",
       "      <th>3</th>\n",
       "      <td>4</td>\n",
       "      <td>3.153847</td>\n",
       "      <td>0.375078</td>\n",
       "      <td>-1.926794</td>\n",
       "      <td>-1.766225</td>\n",
       "      <td>-0.010201</td>\n",
       "      <td>-1.077009</td>\n",
       "      <td>2.326804</td>\n",
       "      <td>-0.758480</td>\n",
       "      <td>-1.826313</td>\n",
       "      <td>...</td>\n",
       "      <td>-0.560688</td>\n",
       "      <td>0.196704</td>\n",
       "      <td>-0.351282</td>\n",
       "      <td>0.193233</td>\n",
       "      <td>-1.269597</td>\n",
       "      <td>-0.804593</td>\n",
       "      <td>-1.390299</td>\n",
       "      <td>-1.425183</td>\n",
       "      <td>-0.942269</td>\n",
       "      <td>1.0</td>\n",
       "    </tr>\n",
       "    <tr>\n",
       "      <th>4</th>\n",
       "      <td>5</td>\n",
       "      <td>1.813416</td>\n",
       "      <td>0.375078</td>\n",
       "      <td>-0.275101</td>\n",
       "      <td>0.689601</td>\n",
       "      <td>-0.010201</td>\n",
       "      <td>-1.077009</td>\n",
       "      <td>-0.429774</td>\n",
       "      <td>-0.758480</td>\n",
       "      <td>-1.394840</td>\n",
       "      <td>...</td>\n",
       "      <td>-0.560688</td>\n",
       "      <td>0.196704</td>\n",
       "      <td>-0.351282</td>\n",
       "      <td>0.193233</td>\n",
       "      <td>0.763192</td>\n",
       "      <td>-0.804593</td>\n",
       "      <td>0.949710</td>\n",
       "      <td>0.760455</td>\n",
       "      <td>0.845530</td>\n",
       "      <td>0.0</td>\n",
       "    </tr>\n",
       "  </tbody>\n",
       "</table>\n",
       "<p>5 rows × 22 columns</p>\n",
       "</div>"
      ],
      "text/plain": [
       "   level_0       age       job   marital  education   default   housing  \\\n",
       "0        1  0.090003  0.939830 -0.275101  -0.292730 -0.010201  0.928497   \n",
       "1        2 -0.580213 -1.036802  1.376593  -0.292730 -0.010201 -1.077009   \n",
       "2        3  0.760219 -0.754426 -0.275101  -1.275060 -0.010201  0.928497   \n",
       "3        4  3.153847  0.375078 -1.926794  -1.766225 -0.010201 -1.077009   \n",
       "4        5  1.813416  0.375078 -0.275101   0.689601 -0.010201 -1.077009   \n",
       "\n",
       "       loan   contact     month  ...  campaign     pdays  previous  poutcome  \\\n",
       "0 -0.429774  1.318426  0.762528  ...  0.507356  0.196704 -0.351282  0.193233   \n",
       "1 -0.429774 -0.758480  0.762528  ...  2.287429  0.196704 -0.351282  0.193233   \n",
       "2 -0.429774 -0.758480  0.762528  ... -0.204674  0.196704 -0.351282  0.193233   \n",
       "3  2.326804 -0.758480 -1.826313  ... -0.560688  0.196704 -0.351282  0.193233   \n",
       "4 -0.429774 -0.758480 -1.394840  ... -0.560688  0.196704 -0.351282  0.193233   \n",
       "\n",
       "   emp.var.rate  cons.price.idx  cons.conf.idx  euribor3m  nr.employed    y  \n",
       "0      0.763192        0.898330       0.949710   0.760455     0.332751  0.0  \n",
       "1     -1.269597       -0.804593      -1.177571  -1.425183    -0.942269  0.0  \n",
       "2     -1.269597       -0.804593      -1.177571  -1.425183    -0.942269  0.0  \n",
       "3     -1.269597       -0.804593      -1.390299  -1.425183    -0.942269  1.0  \n",
       "4      0.763192       -0.804593       0.949710   0.760455     0.845530  0.0  \n",
       "\n",
       "[5 rows x 22 columns]"
      ]
     },
     "execution_count": 61,
     "metadata": {},
     "output_type": "execute_result"
    }
   ],
   "source": [
    "test_m5 = pd.read_csv('../../../../Data_AA2/test_m5.csv', sep = ',')\n",
    "test_m5.head()"
   ]
  },
  {
   "cell_type": "code",
   "execution_count": 62,
   "metadata": {},
   "outputs": [],
   "source": [
    "#get target\n",
    "train_m5 = train_m5.drop(columns=['index'])\n",
    "train_m5_target = train_m5['y']\n",
    "train_m5 = train_m5.drop(columns=['y'])"
   ]
  },
  {
   "cell_type": "code",
   "execution_count": 63,
   "metadata": {},
   "outputs": [],
   "source": [
    "#get target\n",
    "test_m5 = test_m5.drop(columns=['level_0'])\n",
    "test_m5_target = test_m5['y']\n",
    "test_m5 = test_m5.drop(columns=['y'])"
   ]
  },
  {
   "cell_type": "markdown",
   "metadata": {},
   "source": [
    "### Check for lower errors"
   ]
  },
  {
   "cell_type": "code",
   "execution_count": 64,
   "metadata": {},
   "outputs": [
    {
     "name": "stderr",
     "output_type": "stream",
     "text": [
      "100%|██████████████████████████████████████████████████████████████████████████████████| 99/99 [09:58<00:00,  6.04s/it]\n"
     ]
    }
   ],
   "source": [
    "error_rate = []\n",
    "\n",
    "for i in tqdm(range(1,100)):\n",
    "    knn = KNeighborsClassifier(n_neighbors=i)\n",
    "    knn.fit(train_m5,train_m5_target)\n",
    "    predictions = knn.predict(test_m5)\n",
    "    error_rate.append(np.mean(predictions != test_m5_target))"
   ]
  },
  {
   "cell_type": "code",
   "execution_count": 65,
   "metadata": {},
   "outputs": [
    {
     "data": {
      "text/plain": [
       "Text(0, 0.5, 'Error Rate')"
      ]
     },
     "execution_count": 65,
     "metadata": {},
     "output_type": "execute_result"
    },
    {
     "data": {
      "image/png": "[encoded data removed]",
      "text/plain": [
       "<Figure size 1800x432 with 1 Axes>"
      ]
     },
     "metadata": {
      "needs_background": "light"
     },
     "output_type": "display_data"
    }
   ],
   "source": [
    "plt.figure(figsize=(25,6))\n",
    "plt.plot(range(1,100),error_rate,color='blue',linestyle='dashed',marker='o',markerfacecolor='red',markersize=10)\n",
    "plt.title('Error Rate vs DepthValue')\n",
    "plt.xlabel(\"depth\")\n",
    "plt.ylabel(\"Error Rate\")"
   ]
  },
  {
   "cell_type": "markdown",
   "metadata": {},
   "source": [
    "#### Hyperparameter tuning using GridSearchCV"
   ]
  },
  {
   "cell_type": "code",
   "execution_count": 66,
   "metadata": {},
   "outputs": [
    {
     "name": "stdout",
     "output_type": "stream",
     "text": [
      "Fitting 5 folds for each of 8 candidates, totalling 40 fits\n",
      "[CV 1/5; 1/8] START metric=euclidean, n_neighbors=20, weights=uniform...........\n",
      "[CV 1/5; 1/8] END metric=euclidean, n_neighbors=20, weights=uniform; total time=   2.2s\n",
      "[CV 2/5; 1/8] START metric=euclidean, n_neighbors=20, weights=uniform...........\n",
      "[CV 2/5; 1/8] END metric=euclidean, n_neighbors=20, weights=uniform; total time=   2.8s\n",
      "[CV 3/5; 1/8] START metric=euclidean, n_neighbors=20, weights=uniform...........\n",
      "[CV 3/5; 1/8] END metric=euclidean, n_neighbors=20, weights=uniform; total time=   3.0s\n",
      "[CV 4/5; 1/8] START metric=euclidean, n_neighbors=20, weights=uniform...........\n",
      "[CV 4/5; 1/8] END metric=euclidean, n_neighbors=20, weights=uniform; total time=   2.9s\n",
      "[CV 5/5; 1/8] START metric=euclidean, n_neighbors=20, weights=uniform...........\n",
      "[CV 5/5; 1/8] END metric=euclidean, n_neighbors=20, weights=uniform; total time=   2.9s\n",
      "[CV 1/5; 2/8] START metric=euclidean, n_neighbors=20, weights=distance..........\n",
      "[CV 1/5; 2/8] END metric=euclidean, n_neighbors=20, weights=distance; total time=   2.4s\n",
      "[CV 2/5; 2/8] START metric=euclidean, n_neighbors=20, weights=distance..........\n",
      "[CV 2/5; 2/8] END metric=euclidean, n_neighbors=20, weights=distance; total time=   2.7s\n",
      "[CV 3/5; 2/8] START metric=euclidean, n_neighbors=20, weights=distance..........\n",
      "[CV 3/5; 2/8] END metric=euclidean, n_neighbors=20, weights=distance; total time=   3.1s\n",
      "[CV 4/5; 2/8] START metric=euclidean, n_neighbors=20, weights=distance..........\n",
      "[CV 4/5; 2/8] END metric=euclidean, n_neighbors=20, weights=distance; total time=   2.9s\n",
      "[CV 5/5; 2/8] START metric=euclidean, n_neighbors=20, weights=distance..........\n",
      "[CV 5/5; 2/8] END metric=euclidean, n_neighbors=20, weights=distance; total time=   2.8s\n",
      "[CV 1/5; 3/8] START metric=euclidean, n_neighbors=39, weights=uniform...........\n",
      "[CV 1/5; 3/8] END metric=euclidean, n_neighbors=39, weights=uniform; total time=   2.5s\n",
      "[CV 2/5; 3/8] START metric=euclidean, n_neighbors=39, weights=uniform...........\n",
      "[CV 2/5; 3/8] END metric=euclidean, n_neighbors=39, weights=uniform; total time=   2.8s\n",
      "[CV 3/5; 3/8] START metric=euclidean, n_neighbors=39, weights=uniform...........\n",
      "[CV 3/5; 3/8] END metric=euclidean, n_neighbors=39, weights=uniform; total time=   3.0s\n",
      "[CV 4/5; 3/8] START metric=euclidean, n_neighbors=39, weights=uniform...........\n",
      "[CV 4/5; 3/8] END metric=euclidean, n_neighbors=39, weights=uniform; total time=   3.0s\n",
      "[CV 5/5; 3/8] START metric=euclidean, n_neighbors=39, weights=uniform...........\n",
      "[CV 5/5; 3/8] END metric=euclidean, n_neighbors=39, weights=uniform; total time=   3.2s\n",
      "[CV 1/5; 4/8] START metric=euclidean, n_neighbors=39, weights=distance..........\n",
      "[CV 1/5; 4/8] END metric=euclidean, n_neighbors=39, weights=distance; total time=   2.6s\n",
      "[CV 2/5; 4/8] START metric=euclidean, n_neighbors=39, weights=distance..........\n",
      "[CV 2/5; 4/8] END metric=euclidean, n_neighbors=39, weights=distance; total time=   2.8s\n",
      "[CV 3/5; 4/8] START metric=euclidean, n_neighbors=39, weights=distance..........\n",
      "[CV 3/5; 4/8] END metric=euclidean, n_neighbors=39, weights=distance; total time=   2.7s\n",
      "[CV 4/5; 4/8] START metric=euclidean, n_neighbors=39, weights=distance..........\n",
      "[CV 4/5; 4/8] END metric=euclidean, n_neighbors=39, weights=distance; total time=   3.0s\n",
      "[CV 5/5; 4/8] START metric=euclidean, n_neighbors=39, weights=distance..........\n",
      "[CV 5/5; 4/8] END metric=euclidean, n_neighbors=39, weights=distance; total time=   2.8s\n",
      "[CV 1/5; 5/8] START metric=manhattan, n_neighbors=20, weights=uniform...........\n",
      "[CV 1/5; 5/8] END metric=manhattan, n_neighbors=20, weights=uniform; total time=   3.2s\n",
      "[CV 2/5; 5/8] START metric=manhattan, n_neighbors=20, weights=uniform...........\n",
      "[CV 2/5; 5/8] END metric=manhattan, n_neighbors=20, weights=uniform; total time=   3.6s\n",
      "[CV 3/5; 5/8] START metric=manhattan, n_neighbors=20, weights=uniform...........\n",
      "[CV 3/5; 5/8] END metric=manhattan, n_neighbors=20, weights=uniform; total time=   3.8s\n",
      "[CV 4/5; 5/8] START metric=manhattan, n_neighbors=20, weights=uniform...........\n",
      "[CV 4/5; 5/8] END metric=manhattan, n_neighbors=20, weights=uniform; total time=   4.0s\n",
      "[CV 5/5; 5/8] START metric=manhattan, n_neighbors=20, weights=uniform...........\n",
      "[CV 5/5; 5/8] END metric=manhattan, n_neighbors=20, weights=uniform; total time=   3.6s\n",
      "[CV 1/5; 6/8] START metric=manhattan, n_neighbors=20, weights=distance..........\n",
      "[CV 1/5; 6/8] END metric=manhattan, n_neighbors=20, weights=distance; total time=   2.7s\n",
      "[CV 2/5; 6/8] START metric=manhattan, n_neighbors=20, weights=distance..........\n",
      "[CV 2/5; 6/8] END metric=manhattan, n_neighbors=20, weights=distance; total time=   2.9s\n",
      "[CV 3/5; 6/8] START metric=manhattan, n_neighbors=20, weights=distance..........\n",
      "[CV 3/5; 6/8] END metric=manhattan, n_neighbors=20, weights=distance; total time=   3.6s\n",
      "[CV 4/5; 6/8] START metric=manhattan, n_neighbors=20, weights=distance..........\n",
      "[CV 4/5; 6/8] END metric=manhattan, n_neighbors=20, weights=distance; total time=   3.5s\n",
      "[CV 5/5; 6/8] START metric=manhattan, n_neighbors=20, weights=distance..........\n",
      "[CV 5/5; 6/8] END metric=manhattan, n_neighbors=20, weights=distance; total time=   3.5s\n",
      "[CV 1/5; 7/8] START metric=manhattan, n_neighbors=39, weights=uniform...........\n",
      "[CV 1/5; 7/8] END metric=manhattan, n_neighbors=39, weights=uniform; total time=   3.2s\n",
      "[CV 2/5; 7/8] START metric=manhattan, n_neighbors=39, weights=uniform...........\n",
      "[CV 2/5; 7/8] END metric=manhattan, n_neighbors=39, weights=uniform; total time=   3.4s\n",
      "[CV 3/5; 7/8] START metric=manhattan, n_neighbors=39, weights=uniform...........\n",
      "[CV 3/5; 7/8] END metric=manhattan, n_neighbors=39, weights=uniform; total time=   3.7s\n",
      "[CV 4/5; 7/8] START metric=manhattan, n_neighbors=39, weights=uniform...........\n",
      "[CV 4/5; 7/8] END metric=manhattan, n_neighbors=39, weights=uniform; total time=   3.6s\n",
      "[CV 5/5; 7/8] START metric=manhattan, n_neighbors=39, weights=uniform...........\n",
      "[CV 5/5; 7/8] END metric=manhattan, n_neighbors=39, weights=uniform; total time=   3.5s\n",
      "[CV 1/5; 8/8] START metric=manhattan, n_neighbors=39, weights=distance..........\n",
      "[CV 1/5; 8/8] END metric=manhattan, n_neighbors=39, weights=distance; total time=   3.1s\n",
      "[CV 2/5; 8/8] START metric=manhattan, n_neighbors=39, weights=distance..........\n",
      "[CV 2/5; 8/8] END metric=manhattan, n_neighbors=39, weights=distance; total time=   3.1s\n",
      "[CV 3/5; 8/8] START metric=manhattan, n_neighbors=39, weights=distance..........\n",
      "[CV 3/5; 8/8] END metric=manhattan, n_neighbors=39, weights=distance; total time=   3.8s\n",
      "[CV 4/5; 8/8] START metric=manhattan, n_neighbors=39, weights=distance..........\n",
      "[CV 4/5; 8/8] END metric=manhattan, n_neighbors=39, weights=distance; total time=   3.5s\n",
      "[CV 5/5; 8/8] START metric=manhattan, n_neighbors=39, weights=distance..........\n",
      "[CV 5/5; 8/8] END metric=manhattan, n_neighbors=39, weights=distance; total time=   3.6s\n",
      "KNeighborsClassifier(metric='euclidean', n_neighbors=20, weights='distance')\n"
     ]
    }
   ],
   "source": [
    "# Create the parameter grid based on the results of random search \n",
    "parameters = {\n",
    "    'n_neighbors': [20,39],\n",
    "    'weights': ['uniform', 'distance'],\n",
    "    'metric': ['euclidean', 'manhattan'],\n",
    "}\n",
    "\n",
    "# Create the model\n",
    "knn_model = KNeighborsClassifier()\n",
    "\n",
    "# Best model\n",
    "opt_model_knn = GridSearchCV(knn_model, parameters,  scoring='accuracy', verbose=10)\n",
    "\n",
    "# Fit the model\n",
    "opt_model_knn.fit(train_m5, train_m5_target)\n",
    "\n",
    "print (opt_model_knn.best_estimator_)"
   ]
  },
  {
   "cell_type": "markdown",
   "metadata": {},
   "source": [
    "#### Create and fit the model"
   ]
  },
  {
   "cell_type": "code",
   "execution_count": 67,
   "metadata": {},
   "outputs": [
    {
     "data": {
      "text/plain": [
       "KNeighborsClassifier(metric='euclidean', n_neighbors=20, weights='distance')"
      ]
     },
     "execution_count": 67,
     "metadata": {},
     "output_type": "execute_result"
    }
   ],
   "source": [
    "# Create model with best parameters\n",
    "knn_best_model = KNeighborsClassifier(metric='euclidean', n_neighbors=20, weights='distance')\n",
    "\n",
    "# Fit the best model\n",
    "knn_best_model.fit(train_m5, train_m5_target)\n",
    "knn_best_model"
   ]
  },
  {
   "cell_type": "code",
   "execution_count": 68,
   "metadata": {},
   "outputs": [
    {
     "name": "stdout",
     "output_type": "stream",
     "text": [
      "Predicted   0.0  1.0   All\n",
      "Actual                    \n",
      "0.0        7765  210  7975\n",
      "1.0         776  397  1173\n",
      "All        8541  607  9148\n"
     ]
    }
   ],
   "source": [
    "predictions = knn_best_model.predict(test_m5)\n",
    "\n",
    "# Confusion matrix\n",
    "confusion = pd.crosstab(test_m5_target,predictions, rownames=['Actual'], colnames=['Predicted'], margins=True)\n",
    "print(confusion )"
   ]
  },
  {
   "cell_type": "code",
   "execution_count": 69,
   "metadata": {},
   "outputs": [
    {
     "name": "stdout",
     "output_type": "stream",
     "text": [
      "Accuracy:0.892217\n"
     ]
    }
   ],
   "source": [
    "# Accuracy\n",
    "score = accuracy_score(test_m5_target,predictions)\n",
    "print('Accuracy:{0:f}'.format(score))"
   ]
  },
  {
   "cell_type": "code",
   "execution_count": 70,
   "metadata": {},
   "outputs": [
    {
     "name": "stdout",
     "output_type": "stream",
     "text": [
      "              precision    recall  f1-score   support\n",
      "\n",
      "         0.0       0.91      0.97      0.94      7975\n",
      "         1.0       0.65      0.34      0.45      1173\n",
      "\n",
      "    accuracy                           0.89      9148\n",
      "   macro avg       0.78      0.66      0.69      9148\n",
      "weighted avg       0.88      0.89      0.88      9148\n",
      "\n"
     ]
    }
   ],
   "source": [
    "# Report\n",
    "print(classification_report(test_m5_target,predictions))"
   ]
  },
  {
   "cell_type": "code",
   "execution_count": null,
   "metadata": {},
   "outputs": [],
   "source": [
    "# Validate model using best model and cross validation\n",
    "pecc_knn = cross_val_score(knn_best_model, train_m5, train_m5_target, cv = 5).mean()\n",
    "pecc_knn"
   ]
  }
 ],
 "metadata": {
  "kernelspec": {
   "display_name": "Python 3",
   "language": "python",
   "name": "python3"
  },
  "language_info": {
   "codemirror_mode": {
    "name": "ipython",
    "version": 3
   },
   "file_extension": ".py",
   "mimetype": "text/x-python",
   "name": "python",
   "nbconvert_exporter": "python",
   "pygments_lexer": "ipython3",
   "version": "3.8.3"
  }
 },
 "nbformat": 4,
 "nbformat_minor": 4
}

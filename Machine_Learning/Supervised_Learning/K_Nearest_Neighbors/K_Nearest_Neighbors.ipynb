{
 "cells": [
  {
   "cell_type": "markdown",
   "metadata": {},
   "source": [
    "# K_Nearest_Neighbors"
   ]
  },
  {
   "cell_type": "markdown",
   "metadata": {},
   "source": [
    "### Imports"
   ]
  },
  {
   "cell_type": "code",
   "execution_count": 1,
   "metadata": {},
   "outputs": [],
   "source": [
    "import pandas as pd\n",
    "import matplotlib.pyplot as plt\n",
    "import seaborn as sns\n",
    "import numpy as np\n",
    "\n",
    "from sklearn.model_selection import cross_val_score\n",
    "from sklearn.metrics import classification_report, confusion_matrix\n",
    "from sklearn.neighbors import KNeighborsClassifier\n",
    "from sklearn.metrics import accuracy_score\n",
    "from tqdm import tqdm\n",
    "from sklearn.model_selection import GridSearchCV\n",
    "from sklearn.feature_selection import SelectPercentile, f_classif"
   ]
  },
  {
   "cell_type": "markdown",
   "metadata": {},
   "source": [
    "### Model 1\n",
    "#### Read CSV"
   ]
  },
  {
   "cell_type": "code",
   "execution_count": 2,
   "metadata": {},
   "outputs": [
    {
     "data": {
      "text/html": [
       "<div>\n",
       "<style scoped>\n",
       "    .dataframe tbody tr th:only-of-type {\n",
       "        vertical-align: middle;\n",
       "    }\n",
       "\n",
       "    .dataframe tbody tr th {\n",
       "        vertical-align: top;\n",
       "    }\n",
       "\n",
       "    .dataframe thead th {\n",
       "        text-align: right;\n",
       "    }\n",
       "</style>\n",
       "<table border=\"1\" class=\"dataframe\">\n",
       "  <thead>\n",
       "    <tr style=\"text-align: right;\">\n",
       "      <th></th>\n",
       "      <th>age</th>\n",
       "      <th>job</th>\n",
       "      <th>marital</th>\n",
       "      <th>education</th>\n",
       "      <th>default</th>\n",
       "      <th>housing</th>\n",
       "      <th>loan</th>\n",
       "      <th>contact</th>\n",
       "      <th>month</th>\n",
       "      <th>day_of_week</th>\n",
       "      <th>...</th>\n",
       "      <th>campaign</th>\n",
       "      <th>pdays</th>\n",
       "      <th>previous</th>\n",
       "      <th>poutcome</th>\n",
       "      <th>emp.var.rate</th>\n",
       "      <th>cons.price.idx</th>\n",
       "      <th>cons.conf.idx</th>\n",
       "      <th>euribor3m</th>\n",
       "      <th>nr.employed</th>\n",
       "      <th>y</th>\n",
       "    </tr>\n",
       "  </thead>\n",
       "  <tbody>\n",
       "    <tr>\n",
       "      <th>0</th>\n",
       "      <td>0.37521</td>\n",
       "      <td>-0.756929</td>\n",
       "      <td>-1.925779</td>\n",
       "      <td>0.580938</td>\n",
       "      <td>-0.515445</td>\n",
       "      <td>0.939376</td>\n",
       "      <td>-0.453565</td>\n",
       "      <td>-0.763196</td>\n",
       "      <td>1.192581</td>\n",
       "      <td>0.001762</td>\n",
       "      <td>...</td>\n",
       "      <td>-0.561357</td>\n",
       "      <td>0.196894</td>\n",
       "      <td>-0.348973</td>\n",
       "      <td>0.188003</td>\n",
       "      <td>-0.118566</td>\n",
       "      <td>-0.651221</td>\n",
       "      <td>-0.324357</td>\n",
       "      <td>0.259352</td>\n",
       "      <td>0.395979</td>\n",
       "      <td>0</td>\n",
       "    </tr>\n",
       "    <tr>\n",
       "      <th>1</th>\n",
       "      <td>0.37521</td>\n",
       "      <td>1.471189</td>\n",
       "      <td>-0.283258</td>\n",
       "      <td>-0.824024</td>\n",
       "      <td>-0.515445</td>\n",
       "      <td>0.939376</td>\n",
       "      <td>-0.453565</td>\n",
       "      <td>1.310279</td>\n",
       "      <td>-0.098471</td>\n",
       "      <td>-0.713715</td>\n",
       "      <td>...</td>\n",
       "      <td>0.148956</td>\n",
       "      <td>0.196894</td>\n",
       "      <td>-0.348973</td>\n",
       "      <td>0.188003</td>\n",
       "      <td>0.837519</td>\n",
       "      <td>1.529013</td>\n",
       "      <td>-0.281151</td>\n",
       "      <td>0.769787</td>\n",
       "      <td>0.843536</td>\n",
       "      <td>0</td>\n",
       "    </tr>\n",
       "    <tr>\n",
       "      <th>2</th>\n",
       "      <td>0.37521</td>\n",
       "      <td>0.078615</td>\n",
       "      <td>-0.283258</td>\n",
       "      <td>1.049258</td>\n",
       "      <td>-0.515445</td>\n",
       "      <td>0.939376</td>\n",
       "      <td>-0.453565</td>\n",
       "      <td>-0.763196</td>\n",
       "      <td>-1.389523</td>\n",
       "      <td>1.432715</td>\n",
       "      <td>...</td>\n",
       "      <td>-0.561357</td>\n",
       "      <td>0.196894</td>\n",
       "      <td>-0.348973</td>\n",
       "      <td>0.188003</td>\n",
       "      <td>0.837519</td>\n",
       "      <td>-0.230686</td>\n",
       "      <td>0.950220</td>\n",
       "      <td>0.773829</td>\n",
       "      <td>0.843536</td>\n",
       "      <td>0</td>\n",
       "    </tr>\n",
       "    <tr>\n",
       "      <th>3</th>\n",
       "      <td>0.37521</td>\n",
       "      <td>-0.756929</td>\n",
       "      <td>-0.283258</td>\n",
       "      <td>-0.824024</td>\n",
       "      <td>-0.515445</td>\n",
       "      <td>-1.090085</td>\n",
       "      <td>-0.453565</td>\n",
       "      <td>1.310279</td>\n",
       "      <td>1.192581</td>\n",
       "      <td>1.432715</td>\n",
       "      <td>...</td>\n",
       "      <td>-0.206200</td>\n",
       "      <td>0.196894</td>\n",
       "      <td>-0.348973</td>\n",
       "      <td>0.188003</td>\n",
       "      <td>-0.118566</td>\n",
       "      <td>-0.651221</td>\n",
       "      <td>-0.324357</td>\n",
       "      <td>0.284758</td>\n",
       "      <td>0.395979</td>\n",
       "      <td>0</td>\n",
       "    </tr>\n",
       "    <tr>\n",
       "      <th>4</th>\n",
       "      <td>0.37521</td>\n",
       "      <td>-1.035444</td>\n",
       "      <td>-1.925779</td>\n",
       "      <td>1.049258</td>\n",
       "      <td>1.938451</td>\n",
       "      <td>0.939376</td>\n",
       "      <td>-0.453565</td>\n",
       "      <td>1.310279</td>\n",
       "      <td>0.762230</td>\n",
       "      <td>-0.713715</td>\n",
       "      <td>...</td>\n",
       "      <td>0.859269</td>\n",
       "      <td>0.196894</td>\n",
       "      <td>-0.348973</td>\n",
       "      <td>0.188003</td>\n",
       "      <td>0.646302</td>\n",
       "      <td>0.717242</td>\n",
       "      <td>0.885411</td>\n",
       "      <td>0.710313</td>\n",
       "      <td>0.329470</td>\n",
       "      <td>0</td>\n",
       "    </tr>\n",
       "  </tbody>\n",
       "</table>\n",
       "<p>5 rows × 21 columns</p>\n",
       "</div>"
      ],
      "text/plain": [
       "       age       job   marital  education   default   housing      loan  \\\n",
       "0  0.37521 -0.756929 -1.925779   0.580938 -0.515445  0.939376 -0.453565   \n",
       "1  0.37521  1.471189 -0.283258  -0.824024 -0.515445  0.939376 -0.453565   \n",
       "2  0.37521  0.078615 -0.283258   1.049258 -0.515445  0.939376 -0.453565   \n",
       "3  0.37521 -0.756929 -0.283258  -0.824024 -0.515445 -1.090085 -0.453565   \n",
       "4  0.37521 -1.035444 -1.925779   1.049258  1.938451  0.939376 -0.453565   \n",
       "\n",
       "    contact     month  day_of_week  ...  campaign     pdays  previous  \\\n",
       "0 -0.763196  1.192581     0.001762  ... -0.561357  0.196894 -0.348973   \n",
       "1  1.310279 -0.098471    -0.713715  ...  0.148956  0.196894 -0.348973   \n",
       "2 -0.763196 -1.389523     1.432715  ... -0.561357  0.196894 -0.348973   \n",
       "3  1.310279  1.192581     1.432715  ... -0.206200  0.196894 -0.348973   \n",
       "4  1.310279  0.762230    -0.713715  ...  0.859269  0.196894 -0.348973   \n",
       "\n",
       "   poutcome  emp.var.rate  cons.price.idx  cons.conf.idx  euribor3m  \\\n",
       "0  0.188003     -0.118566       -0.651221      -0.324357   0.259352   \n",
       "1  0.188003      0.837519        1.529013      -0.281151   0.769787   \n",
       "2  0.188003      0.837519       -0.230686       0.950220   0.773829   \n",
       "3  0.188003     -0.118566       -0.651221      -0.324357   0.284758   \n",
       "4  0.188003      0.646302        0.717242       0.885411   0.710313   \n",
       "\n",
       "   nr.employed  y  \n",
       "0     0.395979  0  \n",
       "1     0.843536  0  \n",
       "2     0.843536  0  \n",
       "3     0.395979  0  \n",
       "4     0.329470  0  \n",
       "\n",
       "[5 rows x 21 columns]"
      ]
     },
     "execution_count": 2,
     "metadata": {},
     "output_type": "execute_result"
    }
   ],
   "source": [
    "train_m1 = pd.read_csv('../../../../Data_AA2/train_m1.csv', sep = ',')\n",
    "train_m1.head()"
   ]
  },
  {
   "cell_type": "code",
   "execution_count": 3,
   "metadata": {},
   "outputs": [
    {
     "data": {
      "text/html": [
       "<div>\n",
       "<style scoped>\n",
       "    .dataframe tbody tr th:only-of-type {\n",
       "        vertical-align: middle;\n",
       "    }\n",
       "\n",
       "    .dataframe tbody tr th {\n",
       "        vertical-align: top;\n",
       "    }\n",
       "\n",
       "    .dataframe thead th {\n",
       "        text-align: right;\n",
       "    }\n",
       "</style>\n",
       "<table border=\"1\" class=\"dataframe\">\n",
       "  <thead>\n",
       "    <tr style=\"text-align: right;\">\n",
       "      <th></th>\n",
       "      <th>age</th>\n",
       "      <th>job</th>\n",
       "      <th>marital</th>\n",
       "      <th>education</th>\n",
       "      <th>default</th>\n",
       "      <th>housing</th>\n",
       "      <th>loan</th>\n",
       "      <th>contact</th>\n",
       "      <th>month</th>\n",
       "      <th>day_of_week</th>\n",
       "      <th>...</th>\n",
       "      <th>campaign</th>\n",
       "      <th>pdays</th>\n",
       "      <th>previous</th>\n",
       "      <th>poutcome</th>\n",
       "      <th>emp.var.rate</th>\n",
       "      <th>cons.price.idx</th>\n",
       "      <th>cons.conf.idx</th>\n",
       "      <th>euribor3m</th>\n",
       "      <th>nr.employed</th>\n",
       "      <th>y</th>\n",
       "    </tr>\n",
       "  </thead>\n",
       "  <tbody>\n",
       "    <tr>\n",
       "      <th>0</th>\n",
       "      <td>0.37521</td>\n",
       "      <td>1.471189</td>\n",
       "      <td>-0.283258</td>\n",
       "      <td>0.580938</td>\n",
       "      <td>-0.515445</td>\n",
       "      <td>0.939376</td>\n",
       "      <td>-0.453565</td>\n",
       "      <td>1.310279</td>\n",
       "      <td>0.762230</td>\n",
       "      <td>0.717238</td>\n",
       "      <td>...</td>\n",
       "      <td>-0.561357</td>\n",
       "      <td>0.196894</td>\n",
       "      <td>-0.348973</td>\n",
       "      <td>0.188003</td>\n",
       "      <td>0.646302</td>\n",
       "      <td>0.717242</td>\n",
       "      <td>0.885411</td>\n",
       "      <td>0.710313</td>\n",
       "      <td>0.329470</td>\n",
       "      <td>0</td>\n",
       "    </tr>\n",
       "    <tr>\n",
       "      <th>1</th>\n",
       "      <td>0.37521</td>\n",
       "      <td>0.914159</td>\n",
       "      <td>-1.925779</td>\n",
       "      <td>-0.355703</td>\n",
       "      <td>-0.515445</td>\n",
       "      <td>-1.090085</td>\n",
       "      <td>-0.453565</td>\n",
       "      <td>1.310279</td>\n",
       "      <td>0.762230</td>\n",
       "      <td>1.432715</td>\n",
       "      <td>...</td>\n",
       "      <td>-0.561357</td>\n",
       "      <td>0.196894</td>\n",
       "      <td>-0.348973</td>\n",
       "      <td>0.188003</td>\n",
       "      <td>0.646302</td>\n",
       "      <td>0.717242</td>\n",
       "      <td>0.885411</td>\n",
       "      <td>0.709736</td>\n",
       "      <td>0.329470</td>\n",
       "      <td>0</td>\n",
       "    </tr>\n",
       "    <tr>\n",
       "      <th>2</th>\n",
       "      <td>0.37521</td>\n",
       "      <td>1.471189</td>\n",
       "      <td>-0.283258</td>\n",
       "      <td>0.580938</td>\n",
       "      <td>1.938451</td>\n",
       "      <td>0.939376</td>\n",
       "      <td>-0.453565</td>\n",
       "      <td>1.310279</td>\n",
       "      <td>0.762230</td>\n",
       "      <td>-1.429191</td>\n",
       "      <td>...</td>\n",
       "      <td>-0.561357</td>\n",
       "      <td>0.196894</td>\n",
       "      <td>-0.348973</td>\n",
       "      <td>0.188003</td>\n",
       "      <td>0.646302</td>\n",
       "      <td>0.717242</td>\n",
       "      <td>0.885411</td>\n",
       "      <td>0.711468</td>\n",
       "      <td>0.329470</td>\n",
       "      <td>0</td>\n",
       "    </tr>\n",
       "    <tr>\n",
       "      <th>3</th>\n",
       "      <td>0.37521</td>\n",
       "      <td>-0.756929</td>\n",
       "      <td>1.359263</td>\n",
       "      <td>-1.760665</td>\n",
       "      <td>-0.515445</td>\n",
       "      <td>-1.090085</td>\n",
       "      <td>-0.453565</td>\n",
       "      <td>-0.763196</td>\n",
       "      <td>0.762230</td>\n",
       "      <td>1.432715</td>\n",
       "      <td>...</td>\n",
       "      <td>-0.561357</td>\n",
       "      <td>0.196894</td>\n",
       "      <td>1.662067</td>\n",
       "      <td>-2.562036</td>\n",
       "      <td>-1.202130</td>\n",
       "      <td>-1.180338</td>\n",
       "      <td>-1.231682</td>\n",
       "      <td>-1.354522</td>\n",
       "      <td>-0.943918</td>\n",
       "      <td>0</td>\n",
       "    </tr>\n",
       "    <tr>\n",
       "      <th>4</th>\n",
       "      <td>0.37521</td>\n",
       "      <td>-1.035444</td>\n",
       "      <td>-0.283258</td>\n",
       "      <td>1.049258</td>\n",
       "      <td>1.938451</td>\n",
       "      <td>0.939376</td>\n",
       "      <td>-0.453565</td>\n",
       "      <td>-0.763196</td>\n",
       "      <td>-1.389523</td>\n",
       "      <td>0.717238</td>\n",
       "      <td>...</td>\n",
       "      <td>0.148956</td>\n",
       "      <td>0.196894</td>\n",
       "      <td>-0.348973</td>\n",
       "      <td>0.188003</td>\n",
       "      <td>0.837519</td>\n",
       "      <td>-0.230686</td>\n",
       "      <td>0.950220</td>\n",
       "      <td>0.771519</td>\n",
       "      <td>0.843536</td>\n",
       "      <td>0</td>\n",
       "    </tr>\n",
       "  </tbody>\n",
       "</table>\n",
       "<p>5 rows × 21 columns</p>\n",
       "</div>"
      ],
      "text/plain": [
       "       age       job   marital  education   default   housing      loan  \\\n",
       "0  0.37521  1.471189 -0.283258   0.580938 -0.515445  0.939376 -0.453565   \n",
       "1  0.37521  0.914159 -1.925779  -0.355703 -0.515445 -1.090085 -0.453565   \n",
       "2  0.37521  1.471189 -0.283258   0.580938  1.938451  0.939376 -0.453565   \n",
       "3  0.37521 -0.756929  1.359263  -1.760665 -0.515445 -1.090085 -0.453565   \n",
       "4  0.37521 -1.035444 -0.283258   1.049258  1.938451  0.939376 -0.453565   \n",
       "\n",
       "    contact     month  day_of_week  ...  campaign     pdays  previous  \\\n",
       "0  1.310279  0.762230     0.717238  ... -0.561357  0.196894 -0.348973   \n",
       "1  1.310279  0.762230     1.432715  ... -0.561357  0.196894 -0.348973   \n",
       "2  1.310279  0.762230    -1.429191  ... -0.561357  0.196894 -0.348973   \n",
       "3 -0.763196  0.762230     1.432715  ... -0.561357  0.196894  1.662067   \n",
       "4 -0.763196 -1.389523     0.717238  ...  0.148956  0.196894 -0.348973   \n",
       "\n",
       "   poutcome  emp.var.rate  cons.price.idx  cons.conf.idx  euribor3m  \\\n",
       "0  0.188003      0.646302        0.717242       0.885411   0.710313   \n",
       "1  0.188003      0.646302        0.717242       0.885411   0.709736   \n",
       "2  0.188003      0.646302        0.717242       0.885411   0.711468   \n",
       "3 -2.562036     -1.202130       -1.180338      -1.231682  -1.354522   \n",
       "4  0.188003      0.837519       -0.230686       0.950220   0.771519   \n",
       "\n",
       "   nr.employed  y  \n",
       "0     0.329470  0  \n",
       "1     0.329470  0  \n",
       "2     0.329470  0  \n",
       "3    -0.943918  0  \n",
       "4     0.843536  0  \n",
       "\n",
       "[5 rows x 21 columns]"
      ]
     },
     "execution_count": 3,
     "metadata": {},
     "output_type": "execute_result"
    }
   ],
   "source": [
    "test_m1 = pd.read_csv('../../../../Data_AA2/test_m1.csv', sep = ',')\n",
    "test_m1.head()"
   ]
  },
  {
   "cell_type": "code",
   "execution_count": 4,
   "metadata": {},
   "outputs": [],
   "source": [
    "#get target\n",
    "train_m1_target = train_m1['y']\n",
    "train_m1 = train_m1.drop(columns=['y'])"
   ]
  },
  {
   "cell_type": "code",
   "execution_count": 5,
   "metadata": {},
   "outputs": [],
   "source": [
    "#get target\n",
    "test_m1_target = test_m1['y']\n",
    "test_m1 = test_m1.drop(columns=['y'])"
   ]
  },
  {
   "cell_type": "markdown",
   "metadata": {},
   "source": [
    "### Check for lower errors"
   ]
  },
  {
   "cell_type": "code",
   "execution_count": 6,
   "metadata": {},
   "outputs": [
    {
     "name": "stderr",
     "output_type": "stream",
     "text": [
      "100%|████████████████████████████████████████████████████████████████████████████████| 199/199 [25:55<00:00,  7.81s/it]\n"
     ]
    }
   ],
   "source": [
    "error_rate = []\n",
    "\n",
    "for i in tqdm(range(1,200)):\n",
    "    knn = KNeighborsClassifier(n_neighbors=i)\n",
    "    knn.fit(train_m1,train_m1_target)\n",
    "    predictions = knn.predict(test_m1)\n",
    "    error_rate.append(np.mean(predictions != test_m1_target))"
   ]
  },
  {
   "cell_type": "code",
   "execution_count": 7,
   "metadata": {},
   "outputs": [
    {
     "data": {
      "text/plain": [
       "Text(0, 0.5, 'Error Rate')"
      ]
     },
     "execution_count": 7,
     "metadata": {},
     "output_type": "execute_result"
    },
    {
     "data": {
      "image/png": "[encoded data removed]",
      "text/plain": [
       "<Figure size 1800x432 with 1 Axes>"
      ]
     },
     "metadata": {
      "needs_background": "light"
     },
     "output_type": "display_data"
    }
   ],
   "source": [
    "plt.figure(figsize=(25,6))\n",
    "plt.plot(range(1,200),error_rate,color='blue',linestyle='dashed',marker='o',markerfacecolor='red',markersize=10)\n",
    "plt.title('Error Rate vs DepthValue')\n",
    "plt.xlabel(\"depth\")\n",
    "plt.ylabel(\"Error Rate\")"
   ]
  },
  {
   "cell_type": "markdown",
   "metadata": {},
   "source": [
    "#### Hyperparameter tuning using GridSearchCV"
   ]
  },
  {
   "cell_type": "code",
   "execution_count": 8,
   "metadata": {},
   "outputs": [
    {
     "name": "stdout",
     "output_type": "stream",
     "text": [
      "Fitting 5 folds for each of 12 candidates, totalling 60 fits\n",
      "[CV 1/5; 1/12] START metric=euclidean, n_neighbors=29, weights=uniform..........\n",
      "[CV 1/5; 1/12] END metric=euclidean, n_neighbors=29, weights=uniform; total time=   2.5s\n",
      "[CV 2/5; 1/12] START metric=euclidean, n_neighbors=29, weights=uniform..........\n",
      "[CV 2/5; 1/12] END metric=euclidean, n_neighbors=29, weights=uniform; total time=   2.4s\n",
      "[CV 3/5; 1/12] START metric=euclidean, n_neighbors=29, weights=uniform..........\n",
      "[CV 3/5; 1/12] END metric=euclidean, n_neighbors=29, weights=uniform; total time=   2.6s\n",
      "[CV 4/5; 1/12] START metric=euclidean, n_neighbors=29, weights=uniform..........\n",
      "[CV 4/5; 1/12] END metric=euclidean, n_neighbors=29, weights=uniform; total time=   2.8s\n",
      "[CV 5/5; 1/12] START metric=euclidean, n_neighbors=29, weights=uniform..........\n",
      "[CV 5/5; 1/12] END metric=euclidean, n_neighbors=29, weights=uniform; total time=   2.7s\n",
      "[CV 1/5; 2/12] START metric=euclidean, n_neighbors=29, weights=distance.........\n",
      "[CV 1/5; 2/12] END metric=euclidean, n_neighbors=29, weights=distance; total time=   2.5s\n",
      "[CV 2/5; 2/12] START metric=euclidean, n_neighbors=29, weights=distance.........\n",
      "[CV 2/5; 2/12] END metric=euclidean, n_neighbors=29, weights=distance; total time=   2.4s\n",
      "[CV 3/5; 2/12] START metric=euclidean, n_neighbors=29, weights=distance.........\n",
      "[CV 3/5; 2/12] END metric=euclidean, n_neighbors=29, weights=distance; total time=   2.5s\n",
      "[CV 4/5; 2/12] START metric=euclidean, n_neighbors=29, weights=distance.........\n",
      "[CV 4/5; 2/12] END metric=euclidean, n_neighbors=29, weights=distance; total time=   2.5s\n",
      "[CV 5/5; 2/12] START metric=euclidean, n_neighbors=29, weights=distance.........\n",
      "[CV 5/5; 2/12] END metric=euclidean, n_neighbors=29, weights=distance; total time=   2.5s\n",
      "[CV 1/5; 3/12] START metric=euclidean, n_neighbors=31, weights=uniform..........\n",
      "[CV 1/5; 3/12] END metric=euclidean, n_neighbors=31, weights=uniform; total time=   2.7s\n",
      "[CV 2/5; 3/12] START metric=euclidean, n_neighbors=31, weights=uniform..........\n",
      "[CV 2/5; 3/12] END metric=euclidean, n_neighbors=31, weights=uniform; total time=   2.6s\n",
      "[CV 3/5; 3/12] START metric=euclidean, n_neighbors=31, weights=uniform..........\n",
      "[CV 3/5; 3/12] END metric=euclidean, n_neighbors=31, weights=uniform; total time=   2.7s\n",
      "[CV 4/5; 3/12] START metric=euclidean, n_neighbors=31, weights=uniform..........\n",
      "[CV 4/5; 3/12] END metric=euclidean, n_neighbors=31, weights=uniform; total time=   2.7s\n",
      "[CV 5/5; 3/12] START metric=euclidean, n_neighbors=31, weights=uniform..........\n",
      "[CV 5/5; 3/12] END metric=euclidean, n_neighbors=31, weights=uniform; total time=   2.7s\n",
      "[CV 1/5; 4/12] START metric=euclidean, n_neighbors=31, weights=distance.........\n",
      "[CV 1/5; 4/12] END metric=euclidean, n_neighbors=31, weights=distance; total time=   2.6s\n",
      "[CV 2/5; 4/12] START metric=euclidean, n_neighbors=31, weights=distance.........\n",
      "[CV 2/5; 4/12] END metric=euclidean, n_neighbors=31, weights=distance; total time=   2.3s\n",
      "[CV 3/5; 4/12] START metric=euclidean, n_neighbors=31, weights=distance.........\n",
      "[CV 3/5; 4/12] END metric=euclidean, n_neighbors=31, weights=distance; total time=   2.6s\n",
      "[CV 4/5; 4/12] START metric=euclidean, n_neighbors=31, weights=distance.........\n",
      "[CV 4/5; 4/12] END metric=euclidean, n_neighbors=31, weights=distance; total time=   2.5s\n",
      "[CV 5/5; 4/12] START metric=euclidean, n_neighbors=31, weights=distance.........\n",
      "[CV 5/5; 4/12] END metric=euclidean, n_neighbors=31, weights=distance; total time=   2.5s\n",
      "[CV 1/5; 5/12] START metric=euclidean, n_neighbors=47, weights=uniform..........\n",
      "[CV 1/5; 5/12] END metric=euclidean, n_neighbors=47, weights=uniform; total time=   2.9s\n",
      "[CV 2/5; 5/12] START metric=euclidean, n_neighbors=47, weights=uniform..........\n",
      "[CV 2/5; 5/12] END metric=euclidean, n_neighbors=47, weights=uniform; total time=   2.5s\n",
      "[CV 3/5; 5/12] START metric=euclidean, n_neighbors=47, weights=uniform..........\n",
      "[CV 3/5; 5/12] END metric=euclidean, n_neighbors=47, weights=uniform; total time=   2.8s\n",
      "[CV 4/5; 5/12] START metric=euclidean, n_neighbors=47, weights=uniform..........\n",
      "[CV 4/5; 5/12] END metric=euclidean, n_neighbors=47, weights=uniform; total time=   2.7s\n",
      "[CV 5/5; 5/12] START metric=euclidean, n_neighbors=47, weights=uniform..........\n",
      "[CV 5/5; 5/12] END metric=euclidean, n_neighbors=47, weights=uniform; total time=   2.6s\n",
      "[CV 1/5; 6/12] START metric=euclidean, n_neighbors=47, weights=distance.........\n",
      "[CV 1/5; 6/12] END metric=euclidean, n_neighbors=47, weights=distance; total time=   2.6s\n",
      "[CV 2/5; 6/12] START metric=euclidean, n_neighbors=47, weights=distance.........\n",
      "[CV 2/5; 6/12] END metric=euclidean, n_neighbors=47, weights=distance; total time=   2.4s\n",
      "[CV 3/5; 6/12] START metric=euclidean, n_neighbors=47, weights=distance.........\n",
      "[CV 3/5; 6/12] END metric=euclidean, n_neighbors=47, weights=distance; total time=   2.7s\n",
      "[CV 4/5; 6/12] START metric=euclidean, n_neighbors=47, weights=distance.........\n",
      "[CV 4/5; 6/12] END metric=euclidean, n_neighbors=47, weights=distance; total time=   2.6s\n",
      "[CV 5/5; 6/12] START metric=euclidean, n_neighbors=47, weights=distance.........\n",
      "[CV 5/5; 6/12] END metric=euclidean, n_neighbors=47, weights=distance; total time=   2.6s\n",
      "[CV 1/5; 7/12] START metric=manhattan, n_neighbors=29, weights=uniform..........\n",
      "[CV 1/5; 7/12] END metric=manhattan, n_neighbors=29, weights=uniform; total time=   3.4s\n",
      "[CV 2/5; 7/12] START metric=manhattan, n_neighbors=29, weights=uniform..........\n",
      "[CV 2/5; 7/12] END metric=manhattan, n_neighbors=29, weights=uniform; total time=   3.6s\n",
      "[CV 3/5; 7/12] START metric=manhattan, n_neighbors=29, weights=uniform..........\n",
      "[CV 3/5; 7/12] END metric=manhattan, n_neighbors=29, weights=uniform; total time=   3.7s\n",
      "[CV 4/5; 7/12] START metric=manhattan, n_neighbors=29, weights=uniform..........\n",
      "[CV 4/5; 7/12] END metric=manhattan, n_neighbors=29, weights=uniform; total time=   3.6s\n",
      "[CV 5/5; 7/12] START metric=manhattan, n_neighbors=29, weights=uniform..........\n",
      "[CV 5/5; 7/12] END metric=manhattan, n_neighbors=29, weights=uniform; total time=   3.5s\n",
      "[CV 1/5; 8/12] START metric=manhattan, n_neighbors=29, weights=distance.........\n",
      "[CV 1/5; 8/12] END metric=manhattan, n_neighbors=29, weights=distance; total time=   3.4s\n",
      "[CV 2/5; 8/12] START metric=manhattan, n_neighbors=29, weights=distance.........\n",
      "[CV 2/5; 8/12] END metric=manhattan, n_neighbors=29, weights=distance; total time=   3.4s\n",
      "[CV 3/5; 8/12] START metric=manhattan, n_neighbors=29, weights=distance.........\n",
      "[CV 3/5; 8/12] END metric=manhattan, n_neighbors=29, weights=distance; total time=   3.5s\n",
      "[CV 4/5; 8/12] START metric=manhattan, n_neighbors=29, weights=distance.........\n",
      "[CV 4/5; 8/12] END metric=manhattan, n_neighbors=29, weights=distance; total time=   3.4s\n",
      "[CV 5/5; 8/12] START metric=manhattan, n_neighbors=29, weights=distance.........\n",
      "[CV 5/5; 8/12] END metric=manhattan, n_neighbors=29, weights=distance; total time=   3.4s\n",
      "[CV 1/5; 9/12] START metric=manhattan, n_neighbors=31, weights=uniform..........\n",
      "[CV 1/5; 9/12] END metric=manhattan, n_neighbors=31, weights=uniform; total time=   3.4s\n",
      "[CV 2/5; 9/12] START metric=manhattan, n_neighbors=31, weights=uniform..........\n",
      "[CV 2/5; 9/12] END metric=manhattan, n_neighbors=31, weights=uniform; total time=   3.4s\n",
      "[CV 3/5; 9/12] START metric=manhattan, n_neighbors=31, weights=uniform..........\n",
      "[CV 3/5; 9/12] END metric=manhattan, n_neighbors=31, weights=uniform; total time=   3.7s\n",
      "[CV 4/5; 9/12] START metric=manhattan, n_neighbors=31, weights=uniform..........\n",
      "[CV 4/5; 9/12] END metric=manhattan, n_neighbors=31, weights=uniform; total time=   3.6s\n",
      "[CV 5/5; 9/12] START metric=manhattan, n_neighbors=31, weights=uniform..........\n",
      "[CV 5/5; 9/12] END metric=manhattan, n_neighbors=31, weights=uniform; total time=   3.6s\n",
      "[CV 1/5; 10/12] START metric=manhattan, n_neighbors=31, weights=distance........\n",
      "[CV 1/5; 10/12] END metric=manhattan, n_neighbors=31, weights=distance; total time=   3.5s\n",
      "[CV 2/5; 10/12] START metric=manhattan, n_neighbors=31, weights=distance........\n",
      "[CV 2/5; 10/12] END metric=manhattan, n_neighbors=31, weights=distance; total time=   3.4s\n",
      "[CV 3/5; 10/12] START metric=manhattan, n_neighbors=31, weights=distance........\n",
      "[CV 3/5; 10/12] END metric=manhattan, n_neighbors=31, weights=distance; total time=   3.5s\n",
      "[CV 4/5; 10/12] START metric=manhattan, n_neighbors=31, weights=distance........\n"
     ]
    },
    {
     "name": "stdout",
     "output_type": "stream",
     "text": [
      "[CV 4/5; 10/12] END metric=manhattan, n_neighbors=31, weights=distance; total time=   3.5s\n",
      "[CV 5/5; 10/12] START metric=manhattan, n_neighbors=31, weights=distance........\n",
      "[CV 5/5; 10/12] END metric=manhattan, n_neighbors=31, weights=distance; total time=   3.5s\n",
      "[CV 1/5; 11/12] START metric=manhattan, n_neighbors=47, weights=uniform.........\n",
      "[CV 1/5; 11/12] END metric=manhattan, n_neighbors=47, weights=uniform; total time=   3.9s\n",
      "[CV 2/5; 11/12] START metric=manhattan, n_neighbors=47, weights=uniform.........\n",
      "[CV 2/5; 11/12] END metric=manhattan, n_neighbors=47, weights=uniform; total time=   3.4s\n",
      "[CV 3/5; 11/12] START metric=manhattan, n_neighbors=47, weights=uniform.........\n",
      "[CV 3/5; 11/12] END metric=manhattan, n_neighbors=47, weights=uniform; total time=   3.7s\n",
      "[CV 4/5; 11/12] START metric=manhattan, n_neighbors=47, weights=uniform.........\n",
      "[CV 4/5; 11/12] END metric=manhattan, n_neighbors=47, weights=uniform; total time=   4.0s\n",
      "[CV 5/5; 11/12] START metric=manhattan, n_neighbors=47, weights=uniform.........\n",
      "[CV 5/5; 11/12] END metric=manhattan, n_neighbors=47, weights=uniform; total time=   3.9s\n",
      "[CV 1/5; 12/12] START metric=manhattan, n_neighbors=47, weights=distance........\n",
      "[CV 1/5; 12/12] END metric=manhattan, n_neighbors=47, weights=distance; total time=   3.6s\n",
      "[CV 2/5; 12/12] START metric=manhattan, n_neighbors=47, weights=distance........\n",
      "[CV 2/5; 12/12] END metric=manhattan, n_neighbors=47, weights=distance; total time=   3.2s\n",
      "[CV 3/5; 12/12] START metric=manhattan, n_neighbors=47, weights=distance........\n",
      "[CV 3/5; 12/12] END metric=manhattan, n_neighbors=47, weights=distance; total time=   3.6s\n",
      "[CV 4/5; 12/12] START metric=manhattan, n_neighbors=47, weights=distance........\n",
      "[CV 4/5; 12/12] END metric=manhattan, n_neighbors=47, weights=distance; total time=   3.3s\n",
      "[CV 5/5; 12/12] START metric=manhattan, n_neighbors=47, weights=distance........\n",
      "[CV 5/5; 12/12] END metric=manhattan, n_neighbors=47, weights=distance; total time=   3.2s\n",
      "KNeighborsClassifier(metric='manhattan', n_neighbors=31)\n"
     ]
    }
   ],
   "source": [
    "# Create the parameter grid based on the results of random search \n",
    "parameters = {\n",
    "    'n_neighbors': [29,31,47],\n",
    "    'weights': ['uniform', 'distance'],\n",
    "    'metric': ['euclidean', 'manhattan'],\n",
    "}\n",
    "\n",
    "# Create the model\n",
    "knn_model = KNeighborsClassifier()\n",
    "\n",
    "# Best model\n",
    "opt_model_knn = GridSearchCV(knn_model, parameters,  scoring='accuracy', verbose=10)\n",
    "\n",
    "# Fit the model\n",
    "opt_model_knn.fit(train_m1, train_m1_target)\n",
    "\n",
    "print (opt_model_knn.best_estimator_)"
   ]
  },
  {
   "cell_type": "markdown",
   "metadata": {},
   "source": [
    "#### Create and fit the model"
   ]
  },
  {
   "cell_type": "code",
   "execution_count": 9,
   "metadata": {},
   "outputs": [
    {
     "data": {
      "text/plain": [
       "KNeighborsClassifier(metric='manhattan', n_neighbors=31)"
      ]
     },
     "execution_count": 9,
     "metadata": {},
     "output_type": "execute_result"
    }
   ],
   "source": [
    "# Create model with best parameters\n",
    "knn_best_model = KNeighborsClassifier(metric='manhattan', n_neighbors=31)\n",
    "\n",
    "# Fit the best model\n",
    "knn_best_model.fit(train_m1, train_m1_target)\n",
    "knn_best_model"
   ]
  },
  {
   "cell_type": "code",
   "execution_count": 10,
   "metadata": {},
   "outputs": [
    {
     "name": "stdout",
     "output_type": "stream",
     "text": [
      "Predicted      0    1    All\n",
      "Actual                      \n",
      "0          10799  169  10968\n",
      "1           1011  378   1389\n",
      "All        11810  547  12357\n"
     ]
    }
   ],
   "source": [
    "predictions = knn_best_model.predict(test_m1)\n",
    "\n",
    "# Confusion matrix\n",
    "confusion = pd.crosstab(test_m1_target,predictions, rownames=['Actual'], colnames=['Predicted'], margins=True)\n",
    "print(confusion )"
   ]
  },
  {
   "cell_type": "code",
   "execution_count": 11,
   "metadata": {},
   "outputs": [
    {
     "name": "stdout",
     "output_type": "stream",
     "text": [
      "Accuracy:0.904508\n"
     ]
    }
   ],
   "source": [
    "# Accuracy\n",
    "score = accuracy_score(test_m1_target,predictions)\n",
    "print('Accuracy:{0:f}'.format(score))"
   ]
  },
  {
   "cell_type": "code",
   "execution_count": 12,
   "metadata": {},
   "outputs": [
    {
     "name": "stdout",
     "output_type": "stream",
     "text": [
      "              precision    recall  f1-score   support\n",
      "\n",
      "           0       0.91      0.98      0.95     10968\n",
      "           1       0.69      0.27      0.39      1389\n",
      "\n",
      "    accuracy                           0.90     12357\n",
      "   macro avg       0.80      0.63      0.67     12357\n",
      "weighted avg       0.89      0.90      0.89     12357\n",
      "\n"
     ]
    }
   ],
   "source": [
    "# Report\n",
    "print(classification_report(test_m1_target,predictions))"
   ]
  },
  {
   "cell_type": "code",
   "execution_count": null,
   "metadata": {},
   "outputs": [],
   "source": [
    "# Validate model using best model and cross validation\n",
    "pecc_knn = cross_val_score(knn_best_model, train_m1, train_m1_target, cv = 5).mean()\n",
    "pecc_knn"
   ]
  },
  {
   "cell_type": "markdown",
   "metadata": {},
   "source": [
    "### Model 2\n",
    "#### Read CSV"
   ]
  },
  {
   "cell_type": "code",
   "execution_count": null,
   "metadata": {},
   "outputs": [],
   "source": [
    "train_m2 = pd.read_csv('../../../../Data_AA2/train_m2.csv', sep = ',')\n",
    "train_m2.head()"
   ]
  },
  {
   "cell_type": "code",
   "execution_count": null,
   "metadata": {},
   "outputs": [],
   "source": [
    "test_m2 = pd.read_csv('../../../../Data_AA2/test_m2.csv', sep = ',')\n",
    "test_m2.head()"
   ]
  },
  {
   "cell_type": "code",
   "execution_count": null,
   "metadata": {},
   "outputs": [],
   "source": [
    "#get target\n",
    "train_m2_target = train_m2['y']\n",
    "train_m2 = train_m2.drop(columns=['y'])"
   ]
  },
  {
   "cell_type": "code",
   "execution_count": null,
   "metadata": {},
   "outputs": [],
   "source": [
    "#get target\n",
    "test_m2_target = test_m2['y']\n",
    "test_m2 = test_m2.drop(columns=['y'])"
   ]
  },
  {
   "cell_type": "markdown",
   "metadata": {},
   "source": [
    "### Check for lower errors"
   ]
  },
  {
   "cell_type": "code",
   "execution_count": null,
   "metadata": {},
   "outputs": [],
   "source": [
    "error_rate = []\n",
    "\n",
    "for i in tqdm(range(1,200)):\n",
    "    knn = KNeighborsClassifier(n_neighbors=i)\n",
    "    knn.fit(train_m2,train_m2_target)\n",
    "    predictions = knn.predict(test_m2)\n",
    "    error_rate.append(np.mean(predictions != test_m2_target))"
   ]
  },
  {
   "cell_type": "code",
   "execution_count": null,
   "metadata": {},
   "outputs": [],
   "source": [
    "plt.figure(figsize=(25,6))\n",
    "plt.plot(range(1,200),error_rate,color='blue',linestyle='dashed',marker='o',markerfacecolor='red',markersize=10)\n",
    "plt.title('Error Rate vs DepthValue')\n",
    "plt.xlabel(\"depth\")\n",
    "plt.ylabel(\"Error Rate\")"
   ]
  },
  {
   "cell_type": "markdown",
   "metadata": {},
   "source": [
    "#### Hyperparameter tuning using GridSearchCV"
   ]
  },
  {
   "cell_type": "code",
   "execution_count": null,
   "metadata": {},
   "outputs": [],
   "source": [
    "# Create the parameter grid based on the results of random search \n",
    "parameters = {\n",
    "    'n_neighbors': [11,12,13,14],\n",
    "    'weights': ['uniform', 'distance'],\n",
    "    'metric': ['euclidean', 'manhattan'],\n",
    "}\n",
    "\n",
    "# Create the model\n",
    "knn_model = KNeighborsClassifier()\n",
    "\n",
    "# Best model\n",
    "opt_model_knn = GridSearchCV(knn_model, parameters,  scoring='accuracy', verbose=1)\n",
    "\n",
    "# Fit the model\n",
    "opt_model_knn.fit(train_m2, train_m2_target)\n",
    "\n",
    "print (opt_model_knn.best_estimator_)"
   ]
  },
  {
   "cell_type": "markdown",
   "metadata": {},
   "source": [
    "#### Create and fit the model"
   ]
  },
  {
   "cell_type": "code",
   "execution_count": null,
   "metadata": {},
   "outputs": [],
   "source": [
    "# Create model with best parameters\n",
    "knn_best_model = KNeighborsClassifier()\n",
    "\n",
    "# Fit the best model\n",
    "knn_best_model.fit(train_m2, train_m2_target)\n",
    "knn_best_model"
   ]
  },
  {
   "cell_type": "code",
   "execution_count": null,
   "metadata": {},
   "outputs": [],
   "source": [
    "predictions = knn_best_model.predict(test_m2)\n",
    "\n",
    "# Confusion matrix\n",
    "confusion = pd.crosstab(test_m2_target,predictions, rownames=['Actual'], colnames=['Predicted'], margins=True)\n",
    "print(confusion )"
   ]
  },
  {
   "cell_type": "code",
   "execution_count": null,
   "metadata": {},
   "outputs": [],
   "source": [
    "# Accuracy\n",
    "score = accuracy_score(test_m2_target,predictions)\n",
    "print('Accuracy:{0:f}'.format(score))"
   ]
  },
  {
   "cell_type": "code",
   "execution_count": null,
   "metadata": {},
   "outputs": [],
   "source": [
    "# Report\n",
    "print(classification_report(test_m2_target,predictions))"
   ]
  },
  {
   "cell_type": "code",
   "execution_count": null,
   "metadata": {},
   "outputs": [],
   "source": [
    "# Validate model using best model and cross validation\n",
    "pecc_knn = cross_val_score(knn_best_model, train_m2, train_m2_target, cv = 5).mean()\n",
    "pecc_knn"
   ]
  },
  {
   "cell_type": "markdown",
   "metadata": {},
   "source": [
    "### Model 3\n",
    "#### Read CSV"
   ]
  },
  {
   "cell_type": "code",
   "execution_count": null,
   "metadata": {},
   "outputs": [],
   "source": [
    "train_m3 = pd.read_csv('../../../../Data_AA2/train_m3.csv', sep = ',')\n",
    "train_m3.head()"
   ]
  },
  {
   "cell_type": "code",
   "execution_count": null,
   "metadata": {},
   "outputs": [],
   "source": [
    "test_m3 = pd.read_csv('../../../../Data_AA2/test_m3.csv', sep = ',')\n",
    "test_m3.head()"
   ]
  },
  {
   "cell_type": "code",
   "execution_count": null,
   "metadata": {},
   "outputs": [],
   "source": [
    "#get target\n",
    "train_m3_target = train_m3['y']\n",
    "train_m3 = train_m3.drop(columns=['y'])"
   ]
  },
  {
   "cell_type": "code",
   "execution_count": null,
   "metadata": {},
   "outputs": [],
   "source": [
    "#get target\n",
    "test_m3_target = test_m3['y']\n",
    "test_m3 = test_m3.drop(columns=['y'])"
   ]
  },
  {
   "cell_type": "markdown",
   "metadata": {},
   "source": [
    "### Check for lower errors"
   ]
  },
  {
   "cell_type": "code",
   "execution_count": null,
   "metadata": {},
   "outputs": [],
   "source": [
    "eerror_rate = []\n",
    "\n",
    "for i in tqdm(range(1,200)):\n",
    "    knn = KNeighborsClassifier(n_neighbors=i)\n",
    "    knn.fit(train_m3,train_m3_target)\n",
    "    predictions = knn.predict(test_m3)\n",
    "    error_rate.append(np.mean(predictions != test_m3_target))"
   ]
  },
  {
   "cell_type": "code",
   "execution_count": null,
   "metadata": {},
   "outputs": [],
   "source": [
    "plt.figure(figsize=(25,6))\n",
    "plt.plot(range(1,200),error_rate,color='blue',linestyle='dashed',marker='o',markerfacecolor='red',markersize=10)\n",
    "plt.title('Error Rate vs DepthValue')\n",
    "plt.xlabel(\"depth\")\n",
    "plt.ylabel(\"Error Rate\")"
   ]
  },
  {
   "cell_type": "markdown",
   "metadata": {},
   "source": [
    "#### Hyperparameter tuning using GridSearchCV"
   ]
  },
  {
   "cell_type": "code",
   "execution_count": null,
   "metadata": {},
   "outputs": [],
   "source": [
    "# Create the parameter grid based on the results of random search \n",
    "parameters = {\n",
    "    'n_neighbors': [11,12,13,14],\n",
    "    'weights': ['uniform', 'distance'],\n",
    "    'metric': ['euclidean', 'manhattan'],\n",
    "}\n",
    "\n",
    "# Create the model\n",
    "knn_model = KNeighborsClassifier()\n",
    "\n",
    "# Best model\n",
    "opt_model_knn = GridSearchCV(knn_model, parameters,  scoring='accuracy', verbose=1)\n",
    "\n",
    "# Fit the model\n",
    "opt_model_knn.fit(train_m3, train_m3_target)\n",
    "\n",
    "print (opt_model_knn.best_estimator_)"
   ]
  },
  {
   "cell_type": "markdown",
   "metadata": {},
   "source": [
    "#### Create and fit the model"
   ]
  },
  {
   "cell_type": "code",
   "execution_count": null,
   "metadata": {},
   "outputs": [],
   "source": [
    "# Create model with best parameters\n",
    "knn_best_model = KNeighborsClassifier()\n",
    "\n",
    "# Fit the best model\n",
    "knn_best_model.fit(train_m3, train_m3_target)\n",
    "knn_best_model"
   ]
  },
  {
   "cell_type": "code",
   "execution_count": null,
   "metadata": {},
   "outputs": [],
   "source": [
    "predictions = knn_best_model.predict(test_m3)\n",
    "\n",
    "# Confusion matrix\n",
    "confusion = pd.crosstab(test_m3_target,predictions, rownames=['Actual'], colnames=['Predicted'], margins=True)\n",
    "print(confusion )"
   ]
  },
  {
   "cell_type": "code",
   "execution_count": null,
   "metadata": {},
   "outputs": [],
   "source": [
    "# Accuracy\n",
    "score = accuracy_score(test_m3_target,predictions)\n",
    "print('Accuracy:{0:f}'.format(score))"
   ]
  },
  {
   "cell_type": "code",
   "execution_count": null,
   "metadata": {},
   "outputs": [],
   "source": [
    "# Report\n",
    "print(classification_report(test_m3_target,predictions))"
   ]
  },
  {
   "cell_type": "code",
   "execution_count": null,
   "metadata": {},
   "outputs": [],
   "source": [
    "# Validate model using best model and cross validation\n",
    "pecc_knn = cross_val_score(knn_best_model, train_m3, train_m3_target, cv = 5).mean()\n",
    "pecc_knn"
   ]
  },
  {
   "cell_type": "markdown",
   "metadata": {},
   "source": [
    "### Model 4\n",
    "#### Read CSV"
   ]
  },
  {
   "cell_type": "code",
   "execution_count": null,
   "metadata": {},
   "outputs": [],
   "source": [
    "train_m4 = pd.read_csv('../../../../Data_AA2/train_m4.csv', sep = ',')\n",
    "train_m4.head()"
   ]
  },
  {
   "cell_type": "code",
   "execution_count": null,
   "metadata": {},
   "outputs": [],
   "source": [
    "test_m4 = pd.read_csv('../../../../Data_AA2/test_m4.csv', sep = ',')\n",
    "test_m4.head()"
   ]
  },
  {
   "cell_type": "code",
   "execution_count": null,
   "metadata": {},
   "outputs": [],
   "source": [
    "#get target\n",
    "train_m4_target = train_m4['y']\n",
    "train_m4 = train_m4.drop(columns=['y'])"
   ]
  },
  {
   "cell_type": "code",
   "execution_count": null,
   "metadata": {},
   "outputs": [],
   "source": [
    "#get target\n",
    "test_m4_target = test_m4['y']\n",
    "test_m4 = test_m4.drop(columns=['y'])"
   ]
  },
  {
   "cell_type": "markdown",
   "metadata": {},
   "source": [
    "### Check for lower errors"
   ]
  },
  {
   "cell_type": "code",
   "execution_count": null,
   "metadata": {},
   "outputs": [],
   "source": [
    "error_rate = []\n",
    "\n",
    "for i in tqdm(range(1,200)):\n",
    "    knn = KNeighborsClassifier(n_neighbors=i)\n",
    "    knn.fit(train_m4,train_m4_target)\n",
    "    predictions = knn.predict(test_m4)\n",
    "    error_rate.append(np.mean(predictions != test_m4_target))"
   ]
  },
  {
   "cell_type": "code",
   "execution_count": null,
   "metadata": {},
   "outputs": [],
   "source": [
    "plt.figure(figsize=(25,6))\n",
    "plt.plot(range(1,200),error_rate,color='blue',linestyle='dashed',marker='o',markerfacecolor='red',markersize=10)\n",
    "plt.title('Error Rate vs DepthValue')\n",
    "plt.xlabel(\"depth\")\n",
    "plt.ylabel(\"Error Rate\")"
   ]
  },
  {
   "cell_type": "markdown",
   "metadata": {},
   "source": [
    "#### Hyperparameter tuning using GridSearchCV"
   ]
  },
  {
   "cell_type": "code",
   "execution_count": null,
   "metadata": {},
   "outputs": [],
   "source": [
    "# Create the parameter grid based on the results of random search \n",
    "parameters = {\n",
    "    'n_neighbors': [11,12,13,14],\n",
    "    'weights': ['uniform', 'distance'],\n",
    "    'metric': ['euclidean', 'manhattan'],\n",
    "}\n",
    "\n",
    "# Create the model\n",
    "knn_model = KNeighborsClassifier()\n",
    "\n",
    "# Best model\n",
    "opt_model_knn = GridSearchCV(knn_model, parameters,  scoring='accuracy', verbose=1)\n",
    "\n",
    "# Fit the model\n",
    "opt_model_knn.fit(train_m4, train_m4_target)\n",
    "\n",
    "print (opt_model_knn.best_estimator_)"
   ]
  },
  {
   "cell_type": "markdown",
   "metadata": {},
   "source": [
    "#### Create and fit the model"
   ]
  },
  {
   "cell_type": "code",
   "execution_count": null,
   "metadata": {},
   "outputs": [],
   "source": [
    "# Create model with best parameters\n",
    "knn_best_model = KNeighborsClassifier()\n",
    "\n",
    "# Fit the best model\n",
    "knn_best_model.fit(train_m4, train_m4_target)\n",
    "knn_best_model"
   ]
  },
  {
   "cell_type": "code",
   "execution_count": null,
   "metadata": {},
   "outputs": [],
   "source": [
    "predictions = knn_best_model.predict(test_m4)\n",
    "\n",
    "# Confusion matrix\n",
    "confusion = pd.crosstab(test_m4_target,predictions, rownames=['Actual'], colnames=['Predicted'], margins=True)\n",
    "print(confusion )"
   ]
  },
  {
   "cell_type": "code",
   "execution_count": null,
   "metadata": {},
   "outputs": [],
   "source": [
    "# Accuracy\n",
    "score = accuracy_score(test_m4_target,predictions)\n",
    "print('Accuracy:{0:f}'.format(score))"
   ]
  },
  {
   "cell_type": "code",
   "execution_count": null,
   "metadata": {},
   "outputs": [],
   "source": [
    "# Report\n",
    "print(classification_report(test_m4_target,predictions))"
   ]
  },
  {
   "cell_type": "code",
   "execution_count": null,
   "metadata": {},
   "outputs": [],
   "source": [
    "# Validate model using best model and cross validation\n",
    "pecc_knn = cross_val_score(knn_best_model, train_m4, train_m4_target, cv = 5).mean()\n",
    "pecc_knn"
   ]
  }
 ],
 "metadata": {
  "kernelspec": {
   "display_name": "Python 3",
   "language": "python",
   "name": "python3"
  },
  "language_info": {
   "codemirror_mode": {
    "name": "ipython",
    "version": 3
   },
   "file_extension": ".py",
   "mimetype": "text/x-python",
   "name": "python",
   "nbconvert_exporter": "python",
   "pygments_lexer": "ipython3",
   "version": "3.8.3"
  }
 },
 "nbformat": 4,
 "nbformat_minor": 4
}
